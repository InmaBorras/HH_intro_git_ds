{
 "cells": [
  {
   "cell_type": "markdown",
   "metadata": {},
   "source": [
    "# 6.  Variables seleccionadas"
   ]
  },
  {
   "cell_type": "markdown",
   "metadata": {},
   "source": [
    "Después, de tratar los datos y de haber analizado las variables por separado las hemos selecciondo en función de la correlación con el precio. \n",
    "\n",
    "Las variables con las que comenzaremos a realizar el modelo de regresión lineal son: \n",
    "\n",
    "Cualitativas: Regionname, Method y Type. \n",
    "Cuantitativas:  Distancia_NEW, Bathrooms, rooms\n",
    "      \n",
    "Best_stepwise_selection\n",
    "\n",
    "lasso_prueba\n",
    "\n",
    "\n",
    "transformaciones_variables"
   ]
  },
  {
   "cell_type": "code",
   "execution_count": null,
   "metadata": {},
   "outputs": [],
   "source": []
  }
 ],
 "metadata": {
  "kernelspec": {
   "display_name": "Python 3",
   "language": "python",
   "name": "python3"
  },
  "language_info": {
   "codemirror_mode": {
    "name": "ipython",
    "version": 3
   },
   "file_extension": ".py",
   "mimetype": "text/x-python",
   "name": "python",
   "nbconvert_exporter": "python",
   "pygments_lexer": "ipython3",
   "version": "3.8.3"
  }
 },
 "nbformat": 4,
 "nbformat_minor": 4
}
