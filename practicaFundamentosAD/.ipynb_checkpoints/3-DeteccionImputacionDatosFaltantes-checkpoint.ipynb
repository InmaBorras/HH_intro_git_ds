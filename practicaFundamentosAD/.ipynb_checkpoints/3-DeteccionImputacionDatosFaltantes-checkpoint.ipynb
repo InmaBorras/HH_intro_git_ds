{
 "cells": [
  {
   "cell_type": "markdown",
   "metadata": {},
   "source": [
    "## 5. Limpieza de los datos\n",
    "\n",
    "Tras es análisis de la variables hemos detectado tanto duplicidades en los datos como presencia de datos faltantes. Procedemos a la limpieza de los datos para la posterior construcción de un modelo mas exacto. \n",
    "\n",
    "### 5.1 Eliminacion de duplicados\n",
    "\n",
    "En el análisis de las variables cualitativas obsevamos que algunos datos tenian la misma dirección y precio.\n",
    "Basandonos en este razonamiento, realizamos una funcion que  elimine las filas que tengan las variables 'Address','SellerG','Price' y 'Date'   iguales. "
   ]
  },
  {
   "cell_type": "code",
   "execution_count": null,
   "metadata": {},
   "outputs": [],
   "source": [
    "import pandas as pd \n",
    "import numpy as np\n",
    "from plotnine import ggplot, aes, geom_line, geom_point, geom_bar, geom_boxplot\n",
    "import matplotlib.pyplot as plt\n",
    "from pandas.plotting import scatter_matrix\n",
    "import missingno as msno\n",
    "from sklearn.linear_model import LinearRegression\n",
    "from sklearn.model_selection import KFold\n",
    "from sklearn.ensemble import RandomForestRegressor\n",
    "from sklearn.feature_selection import SelectKBest\n",
    "from sklearn.model_selection import GridSearchCV\n",
    "from sklearn.model_selection import RepeatedKFold\n",
    "from sklearn.linear_model import Lasso\n",
    "from sklearn.metrics import mean_squared_error\n",
    "from scipy import stats\n",
    "import statsmodels.api as sm\n",
    "import statsmodels.formula.api as smf\n",
    "import pwlf\n",
    "data= pd.read_csv('/home/inma/HH_intro_git_ds/Melbourne_housing_FULL.csv')"
   ]
  },
  {
   "cell_type": "code",
   "execution_count": null,
   "metadata": {},
   "outputs": [],
   "source": [
    "def eliminar_duplicados(dataframe_bueno):\n",
    "    import pdb;pdb.set_trace()\n",
    "    duplicateRowsDF=pd.DataFrame()\n",
    "    duplicateRowsDF = dataframe_bueno[dataframe_bueno.duplicated(['Suburb', 'Address','Postcode','CouncilArea',],keep=False)]\n",
    "    duplicateRowsDF=duplicateRowsDF.drop_duplicates(subset=['Address','SellerG','Price','Date'])\n",
    "    duplicateRowsDF=duplicateRowsDF.dropna(subset=['Price'])\n",
    "    dataframe_bueno=dataframe_bueno.drop_duplicates(subset=['Address','Suburb'], keep=False, ignore_index=True)# por que lo haces de nuevo??\n",
    "    dataframe_bueno=pd.concat([dataframe_bueno, duplicateRowsDF], axis=1,join='inner')\n",
    "    dataframe_bueno=dataframe_bueno.dropna(subset=['Price'])\n",
    "    dataframe_bueno=dataframe_bueno.reset_index(drop=True)\n",
    "    return(dataframe_bueno)"
   ]
  },
  {
   "cell_type": "code",
   "execution_count": null,
   "metadata": {},
   "outputs": [],
   "source": [
    "data_duplicados=eliminar_duplicados(data)\n",
    "data_duplicados.head()"
   ]
  },
  {
   "cell_type": "markdown",
   "metadata": {},
   "source": [
    "### 5.2 Detección e Imputación de Datos Faltantes\n",
    "\n",
    "Una vez eliminiados los datos duplicados, para finalizar la preparación de los datos es necesario eliminar los datos faltantes. \n",
    "\n",
    "Para ellos en primer lugar representamos gráficamente los datos faltantes en cada una de las variables realizando  una función de visualización. \n"
   ]
  },
  {
   "cell_type": "code",
   "execution_count": null,
   "metadata": {},
   "outputs": [],
   "source": [
    "def visualizacion_missings(dataframe):\n",
    "    #ELIMINACION VISUALIZACION Y SUSTITUCION DE LOS MISSINGS\n",
    "    print(dataframe.isnull().sum())\n",
    "    msno.matrix(dataframe)\n",
    "    plt.show()\n",
    "    msno.heatmap(dataframe)\n",
    "    plt.show()\n",
    "    # Missingno library also provides heatmaps that show if there is any correlation between missing values in different columns.\n",
    "    msno.bar(dataframe)\n",
    "    plt.show()\n",
    "'''import pdb;pdb.set_trace()\n",
    "lista_true=[[5,7,9,11,13],[2,4,6,8,10]]\n",
    "lista_pred=[[19/4,40/6,8,12,13],[5/2,7/2,13/2,17/2,9]]\n",
    "ec_prueba=error_cuadratico(lista_true,lista_pred)'''\n",
    "\n"
   ]
  },
  {
   "cell_type": "code",
   "execution_count": null,
   "metadata": {},
   "outputs": [],
   "source": [
    "visualizacion_missings(data_duplicados)"
   ]
  },
  {
   "cell_type": "markdown",
   "metadata": {},
   "source": [
    "Se detecta que hay variables donde no existen datos faltantes mientras que en otras el número es muy alto. En este punto es importante seleccionar de forma adecuada la imputación de los mismo. \n",
    "\n",
    "Directamente descargamos las variables \"YearBuilt\", \"BuildingArea\" y \"Bedroom2\" ya que presentan muchos datos faltantes además de una baja correlación y/o muchas similitud con otras variables como en el caso de \"Bedrooms2\" y **\"Bedrooms\"**. \n",
    "\n",
    " De lo otro no me acuerdo qe has hecho ni lo entiendo. "
   ]
  },
  {
   "cell_type": "code",
   "execution_count": null,
   "metadata": {},
   "outputs": [],
   "source": [
    "dataframe = pd.read_csv('/home/inma/HH_intro_git_ds/precios_casas_full.csv')\n",
    "dataframe_bueno=pd.DataFrame()\n",
    "#dataframe=dataframe[dataframe.BuildingArea.drop()]\n",
    "dataframe_final=pd.DataFrame()\n",
    "import pdb;pdb.set_trace()\n",
    "#dataframe=dataframe.dropna(subset=['Price'])\n",
    "for i in dataframe.keys():\n",
    "    if(i!='YearBuilt' and i!='BuildingArea' and i!='Bedroom2'):\n",
    "        dataframe_final[i]=dataframe[i]\n",
    "dataframe=dataframe_final\n",
    "lista_parametros=list()\n",
    "lista_missings=list()\n",
    "for index, i in enumerate(dataframe.keys()):\n",
    "    if(isinstance(dataframe.iloc[0][index], ( np.int64))  or isinstance(dataframe.iloc[0][index],(np.float64)) ):\n",
    "        if(dataframe[str(i)].isna().sum()>1000):\n",
    "            lista_missings.append(i)\n",
    "        else:\n",
    "            lista_parametros.append(i)"
   ]
  },
  {
   "cell_type": "code",
   "execution_count": null,
   "metadata": {},
   "outputs": [],
   "source": [
    "dataframe_bueno.head()"
   ]
  },
  {
   "cell_type": "code",
   "execution_count": null,
   "metadata": {},
   "outputs": [],
   "source": []
  }
 ],
 "metadata": {
  "kernelspec": {
   "display_name": "Python 3",
   "language": "python",
   "name": "python3"
  },
  "language_info": {
   "codemirror_mode": {
    "name": "ipython",
    "version": 3
   },
   "file_extension": ".py",
   "mimetype": "text/x-python",
   "name": "python",
   "nbconvert_exporter": "python",
   "pygments_lexer": "ipython3",
   "version": "3.8.3"
  }
 },
 "nbformat": 4,
 "nbformat_minor": 4
}
