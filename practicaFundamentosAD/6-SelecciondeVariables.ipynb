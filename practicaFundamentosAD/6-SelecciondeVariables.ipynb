{
 "cells": [
  {
   "cell_type": "markdown",
   "metadata": {},
   "source": [
    "# 6.  Variables seleccionadas"
   ]
  },
  {
   "cell_type": "markdown",
   "metadata": {},
   "source": [
    "Después, de tratar los datos y de haber analizado las variables por separado las hemos selecciondo en función de la correlación con el precio. \n",
    "\n",
    "Las variables con las que comenzaremos a realizar el modelo de regresión lineal son: \n",
    "\n",
    "Cualitativas: Regionname, Method y Type. \n",
    "Cuantitativas: Todas las variables son susceptibles de ser usasadas en el modelo excepto las que fueron eliminadas en la imputación de missings. \"YearBuilt\", \"BuildingArea\" y \"Bedroom2\".\n",
    "\n",
    "Aplicamos distintos métodos para reducir variables:\n",
    "\n",
    "## 6.1  Lasso \n",
    "\n",
    "Hemos utilzado una función para encontrar el alpha optimo= 0.0002  y de eta forma encontramos el alpha optimo para aplicar Lasso y eliminar las variables correspondientes. \n",
    "\n",
    "aplicamos el algorimo Lasso y vmaos recorriendo todos los coeficientes y cuando los coeficientes son 0 imprimimos por pantalla que esa variable no debe ser seleccionada.\n"
   ]
  },
  {
   "cell_type": "code",
   "execution_count": null,
   "metadata": {},
   "outputs": [
    {
     "name": "stdout",
     "output_type": "stream",
     "text": [
      "> \u001b[0;32m/home/ruben/tmp/HH_intro_git_ds/practicaFundamentosAD/Seleccion_Variables.py\u001b[0m(69)\u001b[0;36mlasso_prueba\u001b[0;34m()\u001b[0m\n",
      "\u001b[0;32m     67 \u001b[0;31m    \u001b[0;32mfor\u001b[0m \u001b[0mindex\u001b[0m\u001b[0;34m,\u001b[0m\u001b[0mi\u001b[0m \u001b[0;32min\u001b[0m \u001b[0menumerate\u001b[0m\u001b[0;34m(\u001b[0m\u001b[0mcoeficientes\u001b[0m\u001b[0;34m)\u001b[0m\u001b[0;34m:\u001b[0m\u001b[0;34m\u001b[0m\u001b[0;34m\u001b[0m\u001b[0m\n",
      "\u001b[0m\u001b[0;32m     68 \u001b[0;31m        \u001b[0;32mimport\u001b[0m \u001b[0mpdb\u001b[0m\u001b[0;34m;\u001b[0m\u001b[0mpdb\u001b[0m\u001b[0;34m.\u001b[0m\u001b[0mset_trace\u001b[0m\u001b[0;34m(\u001b[0m\u001b[0;34m)\u001b[0m\u001b[0;34m\u001b[0m\u001b[0;34m\u001b[0m\u001b[0m\n",
      "\u001b[0m\u001b[0;32m---> 69 \u001b[0;31m        \u001b[0;32mif\u001b[0m\u001b[0;34m(\u001b[0m\u001b[0mround\u001b[0m\u001b[0;34m(\u001b[0m\u001b[0mi\u001b[0m\u001b[0;34m,\u001b[0m\u001b[0;36m1\u001b[0m\u001b[0;34m)\u001b[0m\u001b[0;34m==\u001b[0m\u001b[0;36m0\u001b[0m\u001b[0;34m)\u001b[0m\u001b[0;34m:\u001b[0m\u001b[0;34m\u001b[0m\u001b[0;34m\u001b[0m\u001b[0m\n",
      "\u001b[0m\u001b[0;32m     70 \u001b[0;31m            \u001b[0mprint\u001b[0m\u001b[0;34m(\u001b[0m\u001b[0;34m'hay que borrar el parametro: '\u001b[0m\u001b[0;34m+\u001b[0m\u001b[0mstr\u001b[0m\u001b[0;34m(\u001b[0m\u001b[0mlista_parametros\u001b[0m\u001b[0;34m[\u001b[0m\u001b[0mindex\u001b[0m\u001b[0;34m]\u001b[0m\u001b[0;34m)\u001b[0m \u001b[0;34m)\u001b[0m\u001b[0;34m\u001b[0m\u001b[0;34m\u001b[0m\u001b[0m\n",
      "\u001b[0m\u001b[0;32m     71 \u001b[0;31m            \u001b[0mlista_parametros\u001b[0m\u001b[0;34m.\u001b[0m\u001b[0mpop\u001b[0m\u001b[0;34m(\u001b[0m\u001b[0mindex\u001b[0m\u001b[0;34m)\u001b[0m\u001b[0;34m\u001b[0m\u001b[0;34m\u001b[0m\u001b[0m\n",
      "\u001b[0m\n"
     ]
    }
   ],
   "source": [
    "import pandas as pd \n",
    "dataframe = pd.read_csv('Variables_Cuantitativas_v2.csv')\n",
    "\n",
    "%run -i Seleccion_Variables.py\n",
    "\n",
    "lista_parametros=['Rooms','Distancia_NEW','Distance', 'Bathroom', 'Car', 'Lattitude', 'Longtitude', 'Landsize', 'Propertycount']\n",
    "\n",
    "X=dataframe[lista_parametros]\n",
    "y=dataframe['Price']\n",
    "\n",
    "X=np.nan_to_num(X)\n",
    "y=np.nan_to_num(y)\n",
    "lasso_prueba(X,y,lista_parametros)\n",
    "\n"
   ]
  },
  {
   "cell_type": "markdown",
   "metadata": {},
   "source": [
    "\n",
    "\n",
    "## 6.2 Stepwise\n",
    "\n",
    "Hemos utilisado un algoritmo que crea modelos en funcion al numero de columnas. \n",
    "Cuando el r cuadrado entre el modelo anterior y el modelo actual es menor a 0.0001  pare de incluir varibales en el modelo. \n",
    "\n"
   ]
  },
  {
   "cell_type": "code",
   "execution_count": null,
   "metadata": {},
   "outputs": [],
   "source": [
    "\n",
    "Best_stepwise_selection(dataframe,X)"
   ]
  },
  {
   "cell_type": "markdown",
   "metadata": {},
   "source": [
    "Las variables que se obtienen son \" Distania_NEW\", \"Room\" \" Latitude\", \"Landsize\" y \" Bathrooms\"."
   ]
  },
  {
   "cell_type": "code",
   "execution_count": null,
   "metadata": {},
   "outputs": [],
   "source": []
  }
 ],
 "metadata": {
  "kernelspec": {
   "display_name": "Python 3",
   "language": "python",
   "name": "python3"
  },
  "language_info": {
   "codemirror_mode": {
    "name": "ipython",
    "version": 3
   },
   "file_extension": ".py",
   "mimetype": "text/x-python",
   "name": "python",
   "nbconvert_exporter": "python",
   "pygments_lexer": "ipython3",
   "version": "3.7.9"
  }
 },
 "nbformat": 4,
 "nbformat_minor": 4
}
