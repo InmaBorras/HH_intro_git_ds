{
 "cells": [
  {
   "cell_type": "markdown",
   "metadata": {},
   "source": [
    "## 6. Selección de Variables "
   ]
  },
  {
   "cell_type": "markdown",
   "metadata": {},
   "source": [
    "Despues de tratar los datos  y de haber analizado las variables por separado procedemos a la selección de las mas adecuadas para la creación del modelo. \n",
    "\n",
    "En primer lugar procedemos a separar los datos en dos datasets, uno para hacer en entrenamiento del modelo y otro para hacer el test final. "
   ]
  },
  {
   "cell_type": "code",
   "execution_count": null,
   "metadata": {},
   "outputs": [],
   "source": [
    "def prediccion_varias_variables(dataframe,df_filter,feature_to_predict,features,df_missings):\n",
    "    kf = KFold(n_splits=5, random_state = 42,shuffle=True)\n",
    "    y_pred_lineal=[]\n",
    "    y_true_l=[]\n",
    "    y_true_r=[]\n",
    "    y_pred_rf=[]\n",
    "    #kfold para dividir el dataframe en 10 partes y utilizar 9 como training y la otra como test\n",
    "    for train_index, test_index in kf.split(df_filter):\n",
    "        df_test = df_filter.iloc[test_index]\n",
    "        df_train = df_filter.iloc[train_index]\n",
    "        #creamos datos entrenamiento y test lineales .reshape(-1, 1) \n",
    "        X_train = np.array(df_train[features])   \n",
    "        y_train = np.array(df_train[str(feature_to_predict)])\n",
    "        X_test = np.array(df_test[features])\n",
    "        y_test_l = np.array(df_test[str(feature_to_predict)])\n",
    "        X_train=np.nan_to_num(X_train)\n",
    "        y_train=np.nan_to_num(y_train)\n",
    "        X_test=np.nan_to_num(X_test)\n",
    "        #modelo regresion lineal\n",
    "        #en regresion lineal no funciona debido a que hay que ir variable a variable sino no encajan el numero de x_train e y_train, hacer for o algo\n",
    "        model=LinearRegression()\n",
    "        model.fit(X_train,y_train)\n",
    "        predictions = model.predict(X_test)\n",
    "        y_pred_lineal.append(model.predict(X_test))\n",
    "        y_true_l.append(y_test_l)\n",
    "        #creamos test  y training de random forest y vamos viendo lo que ocurre  X_test = np.squeeze(np.asarray(X_test))\n",
    "        #modelo random forest\n",
    "        model_rf = RandomForestRegressor(n_estimators = 1000, max_depth = 1000, random_state = 42)\n",
    "        model_rf.fit(X_train, y_train)\n",
    "        y_pred_rf.append(model_rf.predict(X_test))"
   ]
  },
  {
   "cell_type": "code",
   "execution_count": null,
   "metadata": {},
   "outputs": [],
   "source": []
  }
 ],
 "metadata": {
  "kernelspec": {
   "display_name": "Python 3",
   "language": "python",
   "name": "python3"
  },
  "language_info": {
   "codemirror_mode": {
    "name": "ipython",
    "version": 3
   },
   "file_extension": ".py",
   "mimetype": "text/x-python",
   "name": "python",
   "nbconvert_exporter": "python",
   "pygments_lexer": "ipython3",
   "version": "3.8.3"
  }
 },
 "nbformat": 4,
 "nbformat_minor": 4
}
