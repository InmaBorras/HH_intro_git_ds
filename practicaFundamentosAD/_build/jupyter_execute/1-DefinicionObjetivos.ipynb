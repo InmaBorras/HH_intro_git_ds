{
 "cells": [
  {
   "cell_type": "markdown",
   "metadata": {},
   "source": [
    "# 1.  Introducción. "
   ]
  },
  {
   "cell_type": "markdown",
   "metadata": {},
   "source": [
    "\n",
    "Los precios de las viviendas en algunas capitales australianas han aumentado recientemente hasta el punto de que algunos describen esto como una burbuja emergente, pero esta afirmación sigue sin ser comprobada oficialmente.\n"
   ]
  },
  {
   "cell_type": "markdown",
   "metadata": {},
   "source": [
    "## 1.1. Objetivos\n",
    "\n",
    "El Ojetivo del trabajo para las asignatura de Fundamentos de Análisis de Datos consistirá en estimar el precio de las viviendas en el área de la ciudad de Melburne (Australia) en función de las características las viviendas y obtener conclusiones sobres la relación de dichas características y la variación en el precio\n",
    "\n",
    "\n",
    "Los datos fueron obtenidos de la página de Kaggle \"https://www.kaggle.com/anthonypino/melbourne-housing-market\". \n",
    "\n",
    "\n",
    "## 1.2 Control de cambios\n",
    "\n",
    "Para la gestion del control de cambios se ha utilizado un repositorio git que puede encontrarse en https://github.com/InmaBorras/HH_intro_git_ds. \n"
   ]
  },
  {
   "cell_type": "code",
   "execution_count": 1,
   "metadata": {},
   "outputs": [
    {
     "ename": "SyntaxError",
     "evalue": "invalid syntax (<ipython-input-1-292859e57c56>, line 1)",
     "output_type": "error",
     "traceback": [
      "\u001b[0;36m  File \u001b[0;32m\"<ipython-input-1-292859e57c56>\"\u001b[0;36m, line \u001b[0;32m1\u001b[0m\n\u001b[0;31m    gh repo clone InmaBorras/HH_intro_git_ds\u001b[0m\n\u001b[0m          ^\u001b[0m\n\u001b[0;31mSyntaxError\u001b[0m\u001b[0;31m:\u001b[0m invalid syntax\n"
     ]
    }
   ],
   "source": [
    "gh repo clone InmaBorras/HH_intro_git_ds"
   ]
  },
  {
   "cell_type": "markdown",
   "metadata": {},
   "source": [
    "\n"
   ]
  },
  {
   "cell_type": "markdown",
   "metadata": {},
   "source": [
    "\n",
    "```{toctree}\n",
    ":hidden:\n",
    ":titlesonly:\n",
    "\n",
    "\n",
    "2-AnalisisExploratorioInicial\n",
    "3-TransformacionVariablesCuantitativas\n",
    "4-ProcesamientoVaribalesCualitativas\n",
    "5-DeteccionImputacionDatosFaltantes\n",
    "6-SelecciondeVariables\n",
    "7-AjusteDelModelosdeRegresionLineal\n",
    "```\n"
   ]
  }
 ],
 "metadata": {
  "kernelspec": {
   "display_name": "Python 3",
   "language": "python",
   "name": "python3"
  },
  "language_info": {
   "codemirror_mode": {
    "name": "ipython",
    "version": 3
   },
   "file_extension": ".py",
   "mimetype": "text/x-python",
   "name": "python",
   "nbconvert_exporter": "python",
   "pygments_lexer": "ipython3",
   "version": "3.7.9"
  }
 },
 "nbformat": 4,
 "nbformat_minor": 4
}