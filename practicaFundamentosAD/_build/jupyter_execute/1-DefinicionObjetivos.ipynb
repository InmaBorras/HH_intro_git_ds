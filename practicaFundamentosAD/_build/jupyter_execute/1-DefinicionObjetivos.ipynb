{
 "cells": [
  {
   "cell_type": "markdown",
   "metadata": {},
   "source": [
    "# 1. Definición de Objetivos"
   ]
  },
  {
   "cell_type": "markdown",
   "metadata": {},
   "source": [
    "## 1.1. Introducción. \n",
    "\n",
    "Los precios de las viviendas en algunas capitales australianas han aumentado recientemente hasta el punto de que algunos describen esto como una burbuja emergente, pero esta afirmación sigue sin ser comprobada oficialmente.(1)\n",
    "\n",
    "\n",
    " \n"
   ]
  },
  {
   "cell_type": "markdown",
   "metadata": {},
   "source": [
    "## 1.2. Objetivos\n",
    "\n",
    "El trabajo para las asignatura de Fundamentos de Análisis de Datos consistirá en estimar el precio de las viviendas en el área de la ciudad de Melburne (Australia) en función de las caracteristicas de la vivienda. \n",
    "\n",
    "\n",
    "Los datos fueron obtenidos de la página de Kaggle \"https://www.kaggle.com/anthonypino/melbourne-housing-market\". "
   ]
  },
  {
   "cell_type": "markdown",
   "metadata": {},
   "source": [
    "Referencias\n",
    "\n",
    "1. https://onlinelibrary.wiley.com/doi/abs/10.1111/1475-4932.12284\n"
   ]
  },
  {
   "cell_type": "markdown",
   "metadata": {},
   "source": [
    "\n",
    "```{toctree}\n",
    ":hidden:\n",
    ":titlesonly:\n",
    "\n",
    "\n",
    "2-AnalisisExploratorioInicial\n",
    "3-TransformacionVariablesCuantitativas\n",
    "4-ProcesamientoVaribalesCualitativas\n",
    "5-DeteccionImputacionDatosFaltantes\n",
    "6-SelecciondeVariables\n",
    "7-AjusteDelModelosdeRegresionLineal\n",
    "```\n"
   ]
  }
 ],
 "metadata": {
  "kernelspec": {
   "display_name": "Python 3",
   "language": "python",
   "name": "python3"
  },
  "language_info": {
   "codemirror_mode": {
    "name": "ipython",
    "version": 3
   },
   "file_extension": ".py",
   "mimetype": "text/x-python",
   "name": "python",
   "nbconvert_exporter": "python",
   "pygments_lexer": "ipython3",
   "version": "3.8.3"
  }
 },
 "nbformat": 4,
 "nbformat_minor": 4
}