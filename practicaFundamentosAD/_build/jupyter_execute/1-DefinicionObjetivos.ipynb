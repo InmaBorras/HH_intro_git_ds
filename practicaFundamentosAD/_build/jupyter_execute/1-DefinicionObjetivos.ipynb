{
 "cells": [
  {
   "cell_type": "markdown",
   "metadata": {},
   "source": [
    "## 1. Definición de Objetivos"
   ]
  },
  {
   "cell_type": "code",
   "execution_count": null,
   "metadata": {},
   "outputs": [],
   "source": []
  },
  {
   "cell_type": "markdown",
   "metadata": {},
   "source": [
    "\n",
    "```{toctree}\n",
    ":hidden:\n",
    ":titlesonly:\n",
    "\n",
    "\n",
    "2-AnalisisExploratorioInicial\n",
    "3-DeteccionImputacionDatosFaltantes\n",
    "4-TransformacionVariablesCuantitativas\n",
    "5-ProcesamientoVaribalesCualitativas\n",
    "6-SelecciondeVariables\n",
    "7-AjusteDelModelosdeRegresionLineal\n",
    "```\n"
   ]
  }
 ],
 "metadata": {
  "kernelspec": {
   "display_name": "Python 3",
   "language": "python",
   "name": "python3"
  },
  "language_info": {
   "codemirror_mode": {
    "name": "ipython",
    "version": 3
   },
   "file_extension": ".py",
   "mimetype": "text/x-python",
   "name": "python",
   "nbconvert_exporter": "python",
   "pygments_lexer": "ipython3",
   "version": "3.7.9"
  }
 },
 "nbformat": 4,
 "nbformat_minor": 4
}