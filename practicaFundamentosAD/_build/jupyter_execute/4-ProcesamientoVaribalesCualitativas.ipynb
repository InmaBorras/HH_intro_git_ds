{
 "cells": [
  {
   "cell_type": "code",
   "execution_count": null,
   "metadata": {},
   "outputs": [],
   "source": []
  },
  {
   "cell_type": "markdown",
   "metadata": {},
   "source": [
    "# 4.Variables Cualitativas \n",
    "\n",
    "La forma mas sencilla de  resumir las varibales cualitativas es hacer una tabla de contigencia que resuma las distribuciones de frecuencia. "
   ]
  },
  {
   "cell_type": "code",
   "execution_count": 1,
   "metadata": {},
   "outputs": [],
   "source": [
    "import numpy as np\n",
    "import pandas as pd\n",
    "import seaborn as sns\n",
    "import matplotlib.pyplot as plt\n",
    "from sklearn import preprocessing\n",
    "from sklearn.preprocessing import LabelEncoder\n",
    "\n",
    "data= pd.read_csv('/home/inma/Master_Data_Science _Contenido/Fundamentos_de_Analisis _de_Datos/Practica/Datos/Melbourne_housing_FULL.csv')"
   ]
  },
  {
   "cell_type": "code",
   "execution_count": 2,
   "metadata": {},
   "outputs": [
    {
     "data": {
      "text/html": [
       "<div>\n",
       "<style scoped>\n",
       "    .dataframe tbody tr th:only-of-type {\n",
       "        vertical-align: middle;\n",
       "    }\n",
       "\n",
       "    .dataframe tbody tr th {\n",
       "        vertical-align: top;\n",
       "    }\n",
       "\n",
       "    .dataframe thead th {\n",
       "        text-align: right;\n",
       "    }\n",
       "</style>\n",
       "<table border=\"1\" class=\"dataframe\">\n",
       "  <thead>\n",
       "    <tr style=\"text-align: right;\">\n",
       "      <th></th>\n",
       "      <th>Suburb</th>\n",
       "      <th>Address</th>\n",
       "      <th>Rooms</th>\n",
       "      <th>Type</th>\n",
       "      <th>Price</th>\n",
       "      <th>Method</th>\n",
       "      <th>SellerG</th>\n",
       "      <th>Date</th>\n",
       "      <th>Distance</th>\n",
       "      <th>Postcode</th>\n",
       "      <th>...</th>\n",
       "      <th>Bathroom</th>\n",
       "      <th>Car</th>\n",
       "      <th>Landsize</th>\n",
       "      <th>BuildingArea</th>\n",
       "      <th>YearBuilt</th>\n",
       "      <th>CouncilArea</th>\n",
       "      <th>Lattitude</th>\n",
       "      <th>Longtitude</th>\n",
       "      <th>Regionname</th>\n",
       "      <th>Propertycount</th>\n",
       "    </tr>\n",
       "  </thead>\n",
       "  <tbody>\n",
       "    <tr>\n",
       "      <th>0</th>\n",
       "      <td>Abbotsford</td>\n",
       "      <td>68 Studley St</td>\n",
       "      <td>2</td>\n",
       "      <td>h</td>\n",
       "      <td>NaN</td>\n",
       "      <td>SS</td>\n",
       "      <td>Jellis</td>\n",
       "      <td>3/09/2016</td>\n",
       "      <td>2.5</td>\n",
       "      <td>3067.0</td>\n",
       "      <td>...</td>\n",
       "      <td>1.0</td>\n",
       "      <td>1.0</td>\n",
       "      <td>126.0</td>\n",
       "      <td>NaN</td>\n",
       "      <td>NaN</td>\n",
       "      <td>Yarra City Council</td>\n",
       "      <td>-37.8014</td>\n",
       "      <td>144.9958</td>\n",
       "      <td>Northern Metropolitan</td>\n",
       "      <td>4019.0</td>\n",
       "    </tr>\n",
       "    <tr>\n",
       "      <th>1</th>\n",
       "      <td>Abbotsford</td>\n",
       "      <td>85 Turner St</td>\n",
       "      <td>2</td>\n",
       "      <td>h</td>\n",
       "      <td>1480000.0</td>\n",
       "      <td>S</td>\n",
       "      <td>Biggin</td>\n",
       "      <td>3/12/2016</td>\n",
       "      <td>2.5</td>\n",
       "      <td>3067.0</td>\n",
       "      <td>...</td>\n",
       "      <td>1.0</td>\n",
       "      <td>1.0</td>\n",
       "      <td>202.0</td>\n",
       "      <td>NaN</td>\n",
       "      <td>NaN</td>\n",
       "      <td>Yarra City Council</td>\n",
       "      <td>-37.7996</td>\n",
       "      <td>144.9984</td>\n",
       "      <td>Northern Metropolitan</td>\n",
       "      <td>4019.0</td>\n",
       "    </tr>\n",
       "    <tr>\n",
       "      <th>2</th>\n",
       "      <td>Abbotsford</td>\n",
       "      <td>25 Bloomburg St</td>\n",
       "      <td>2</td>\n",
       "      <td>h</td>\n",
       "      <td>1035000.0</td>\n",
       "      <td>S</td>\n",
       "      <td>Biggin</td>\n",
       "      <td>4/02/2016</td>\n",
       "      <td>2.5</td>\n",
       "      <td>3067.0</td>\n",
       "      <td>...</td>\n",
       "      <td>1.0</td>\n",
       "      <td>0.0</td>\n",
       "      <td>156.0</td>\n",
       "      <td>79.0</td>\n",
       "      <td>1900.0</td>\n",
       "      <td>Yarra City Council</td>\n",
       "      <td>-37.8079</td>\n",
       "      <td>144.9934</td>\n",
       "      <td>Northern Metropolitan</td>\n",
       "      <td>4019.0</td>\n",
       "    </tr>\n",
       "    <tr>\n",
       "      <th>3</th>\n",
       "      <td>Abbotsford</td>\n",
       "      <td>18/659 Victoria St</td>\n",
       "      <td>3</td>\n",
       "      <td>u</td>\n",
       "      <td>NaN</td>\n",
       "      <td>VB</td>\n",
       "      <td>Rounds</td>\n",
       "      <td>4/02/2016</td>\n",
       "      <td>2.5</td>\n",
       "      <td>3067.0</td>\n",
       "      <td>...</td>\n",
       "      <td>2.0</td>\n",
       "      <td>1.0</td>\n",
       "      <td>0.0</td>\n",
       "      <td>NaN</td>\n",
       "      <td>NaN</td>\n",
       "      <td>Yarra City Council</td>\n",
       "      <td>-37.8114</td>\n",
       "      <td>145.0116</td>\n",
       "      <td>Northern Metropolitan</td>\n",
       "      <td>4019.0</td>\n",
       "    </tr>\n",
       "    <tr>\n",
       "      <th>4</th>\n",
       "      <td>Abbotsford</td>\n",
       "      <td>5 Charles St</td>\n",
       "      <td>3</td>\n",
       "      <td>h</td>\n",
       "      <td>1465000.0</td>\n",
       "      <td>SP</td>\n",
       "      <td>Biggin</td>\n",
       "      <td>4/03/2017</td>\n",
       "      <td>2.5</td>\n",
       "      <td>3067.0</td>\n",
       "      <td>...</td>\n",
       "      <td>2.0</td>\n",
       "      <td>0.0</td>\n",
       "      <td>134.0</td>\n",
       "      <td>150.0</td>\n",
       "      <td>1900.0</td>\n",
       "      <td>Yarra City Council</td>\n",
       "      <td>-37.8093</td>\n",
       "      <td>144.9944</td>\n",
       "      <td>Northern Metropolitan</td>\n",
       "      <td>4019.0</td>\n",
       "    </tr>\n",
       "  </tbody>\n",
       "</table>\n",
       "<p>5 rows × 21 columns</p>\n",
       "</div>"
      ],
      "text/plain": [
       "       Suburb             Address  Rooms Type      Price Method SellerG  \\\n",
       "0  Abbotsford       68 Studley St      2    h        NaN     SS  Jellis   \n",
       "1  Abbotsford        85 Turner St      2    h  1480000.0      S  Biggin   \n",
       "2  Abbotsford     25 Bloomburg St      2    h  1035000.0      S  Biggin   \n",
       "3  Abbotsford  18/659 Victoria St      3    u        NaN     VB  Rounds   \n",
       "4  Abbotsford        5 Charles St      3    h  1465000.0     SP  Biggin   \n",
       "\n",
       "        Date  Distance  Postcode  ...  Bathroom  Car  Landsize  BuildingArea  \\\n",
       "0  3/09/2016       2.5    3067.0  ...       1.0  1.0     126.0           NaN   \n",
       "1  3/12/2016       2.5    3067.0  ...       1.0  1.0     202.0           NaN   \n",
       "2  4/02/2016       2.5    3067.0  ...       1.0  0.0     156.0          79.0   \n",
       "3  4/02/2016       2.5    3067.0  ...       2.0  1.0       0.0           NaN   \n",
       "4  4/03/2017       2.5    3067.0  ...       2.0  0.0     134.0         150.0   \n",
       "\n",
       "   YearBuilt         CouncilArea Lattitude  Longtitude             Regionname  \\\n",
       "0        NaN  Yarra City Council  -37.8014    144.9958  Northern Metropolitan   \n",
       "1        NaN  Yarra City Council  -37.7996    144.9984  Northern Metropolitan   \n",
       "2     1900.0  Yarra City Council  -37.8079    144.9934  Northern Metropolitan   \n",
       "3        NaN  Yarra City Council  -37.8114    145.0116  Northern Metropolitan   \n",
       "4     1900.0  Yarra City Council  -37.8093    144.9944  Northern Metropolitan   \n",
       "\n",
       "  Propertycount  \n",
       "0        4019.0  \n",
       "1        4019.0  \n",
       "2        4019.0  \n",
       "3        4019.0  \n",
       "4        4019.0  \n",
       "\n",
       "[5 rows x 21 columns]"
      ]
     },
     "execution_count": 2,
     "metadata": {},
     "output_type": "execute_result"
    }
   ],
   "source": [
    "data.head()"
   ]
  },
  {
   "cell_type": "code",
   "execution_count": 3,
   "metadata": {},
   "outputs": [
    {
     "name": "stdout",
     "output_type": "stream",
     "text": [
      "<class 'pandas.core.frame.DataFrame'>\n",
      "RangeIndex: 34857 entries, 0 to 34856\n",
      "Data columns (total 21 columns):\n",
      " #   Column         Non-Null Count  Dtype  \n",
      "---  ------         --------------  -----  \n",
      " 0   Suburb         34857 non-null  object \n",
      " 1   Address        34857 non-null  object \n",
      " 2   Rooms          34857 non-null  int64  \n",
      " 3   Type           34857 non-null  object \n",
      " 4   Price          27247 non-null  float64\n",
      " 5   Method         34857 non-null  object \n",
      " 6   SellerG        34857 non-null  object \n",
      " 7   Date           34857 non-null  object \n",
      " 8   Distance       34856 non-null  float64\n",
      " 9   Postcode       34856 non-null  float64\n",
      " 10  Bedroom2       26640 non-null  float64\n",
      " 11  Bathroom       26631 non-null  float64\n",
      " 12  Car            26129 non-null  float64\n",
      " 13  Landsize       23047 non-null  float64\n",
      " 14  BuildingArea   13742 non-null  float64\n",
      " 15  YearBuilt      15551 non-null  float64\n",
      " 16  CouncilArea    34854 non-null  object \n",
      " 17  Lattitude      26881 non-null  float64\n",
      " 18  Longtitude     26881 non-null  float64\n",
      " 19  Regionname     34854 non-null  object \n",
      " 20  Propertycount  34854 non-null  float64\n",
      "dtypes: float64(12), int64(1), object(8)\n",
      "memory usage: 5.6+ MB\n"
     ]
    }
   ],
   "source": [
    "data.info() #añadimos post code como variable cualitativa"
   ]
  },
  {
   "cell_type": "markdown",
   "metadata": {},
   "source": [
    "Podemos observar que 8 de las variables  son cualitativas, pero añadiremos \"Postcode\" dentro del analisis de las variables cualitativas ya que apesar de estar compuesto por un valor numerico  son datos independientes que debe ser tratados como categorias. \n",
    "\n",
    "## 4.1 Resumen Numérico de Variables Cualitativas\n",
    "\n",
    "### Variable \"Suburb\" \n",
    "\n",
    "Esta variable  hace referencia al barrio donde se encuentra la casa. Procedemos a hacer un analisis de la distribución de densidad y podemos concluir que hay 351 suburbios diferentes. \n",
    " ( podemos agruparlos por zonas pero no tine sentido si hacemos referencia a la localizacion mejor que a esto)"
   ]
  },
  {
   "cell_type": "code",
   "execution_count": 4,
   "metadata": {},
   "outputs": [
    {
     "data": {
      "text/plain": [
       "Reservoir         844\n",
       "Bentleigh East    583\n",
       "Richmond          552\n",
       "Glen Iris         491\n",
       "Preston           485\n",
       "                 ... \n",
       "Avonsleigh          1\n",
       "Wandin North        1\n",
       "Wildwood            1\n",
       "Belgrave            1\n",
       "Kalkallo            1\n",
       "Name: Suburb, Length: 351, dtype: int64"
      ]
     },
     "execution_count": 4,
     "metadata": {},
     "output_type": "execute_result"
    }
   ],
   "source": [
    "Variables_cualitativas=data[[\"Suburb\",\"Address\",\"Type\",\"Method\",\"SellerG\",\"Date\",\"CouncilArea\",\"Regionname\",\"Postcode\"]]\n",
    "pd.value_counts(Variables_cualitativas['Suburb'])"
   ]
  },
  {
   "cell_type": "markdown",
   "metadata": {},
   "source": [
    "### Variable \"Address\"\n",
    "\n",
    "La variable Address  indica la dirección donde se encuentran las casas. Al realizar el analisis  de distribución por densidad, podemos comprobar que hay direcciones repetidas, esto puede hacer referencia a la dirección de un edificio,  la venta de la misma casa en difrentes fechas o a duplicados. Para ello procedemos a analizar dichas categorias en profundidad. "
   ]
  },
  {
   "cell_type": "code",
   "execution_count": 5,
   "metadata": {},
   "outputs": [
    {
     "data": {
      "text/plain": [
       "5 Charles St       6\n",
       "25 William St      4\n",
       "13 George St       3\n",
       "14 James St        3\n",
       "21 May St          3\n",
       "                  ..\n",
       "20 Butler St       2\n",
       "15 Lancaster St    2\n",
       "20 Fawkner St      2\n",
       "7 Brisbane St      2\n",
       "2 Celia St         2\n",
       "Name: Address, Length: 808, dtype: int64"
      ]
     },
     "execution_count": 5,
     "metadata": {},
     "output_type": "execute_result"
    }
   ],
   "source": [
    "Address=pd.value_counts(Variables_cualitativas['Address'])\n",
    "Address[Address!=1]\n"
   ]
  },
  {
   "cell_type": "code",
   "execution_count": 6,
   "metadata": {},
   "outputs": [
    {
     "name": "stdout",
     "output_type": "stream",
     "text": [
      "          Suburb           Address  Rooms Type      Price Method SellerG  \\\n",
      "7454   Northcote  118 Westgarth St      3    h  1500000.0     PI  Jellis   \n",
      "13335  Northcote  118 Westgarth St      4    h  1822000.0      S  Nelson   \n",
      "\n",
      "             Date  Distance  Postcode  ...  Bathroom  Car  Landsize  \\\n",
      "7454   30/07/2016       5.5    3070.0  ...       1.0  8.0     727.0   \n",
      "13335  13/05/2017       5.5    3070.0  ...       1.0  8.0     728.0   \n",
      "\n",
      "       BuildingArea  YearBuilt           CouncilArea Lattitude  Longtitude  \\\n",
      "7454            NaN     1900.0  Darebin City Council  -37.7825    145.0072   \n",
      "13335           NaN     1900.0  Darebin City Council  -37.7825    145.0072   \n",
      "\n",
      "                  Regionname Propertycount  \n",
      "7454   Northern Metropolitan       11364.0  \n",
      "13335  Northern Metropolitan       11364.0  \n",
      "\n",
      "[2 rows x 21 columns]\n"
     ]
    }
   ],
   "source": [
    "#Analizamos individualmente  las primeras direcciones para ver si si efectivamente son una casa. \n",
    "data_aux=data[data.Address == '118 Westgarth St']\n",
    "print(data_aux)"
   ]
  },
  {
   "cell_type": "code",
   "execution_count": 7,
   "metadata": {},
   "outputs": [
    {
     "data": {
      "text/plain": [
       "7454     4.0\n",
       "13335    4.0\n",
       "Name: Bedroom2, dtype: float64"
      ]
     },
     "execution_count": 7,
     "metadata": {},
     "output_type": "execute_result"
    }
   ],
   "source": [
    "data[data.Address==\"118 Westgarth St\"]\n",
    "data_aux.keys()\n",
    "data_aux[\"Bedroom2\"]"
   ]
  },
  {
   "cell_type": "raw",
   "metadata": {},
   "source": [
    "En este caso, parece ser  un casa que ha sido  traspasa , remodelada y puesta a la venta. "
   ]
  },
  {
   "cell_type": "code",
   "execution_count": 8,
   "metadata": {},
   "outputs": [
    {
     "data": {
      "text/html": [
       "<div>\n",
       "<style scoped>\n",
       "    .dataframe tbody tr th:only-of-type {\n",
       "        vertical-align: middle;\n",
       "    }\n",
       "\n",
       "    .dataframe tbody tr th {\n",
       "        vertical-align: top;\n",
       "    }\n",
       "\n",
       "    .dataframe thead th {\n",
       "        text-align: right;\n",
       "    }\n",
       "</style>\n",
       "<table border=\"1\" class=\"dataframe\">\n",
       "  <thead>\n",
       "    <tr style=\"text-align: right;\">\n",
       "      <th></th>\n",
       "      <th>Suburb</th>\n",
       "      <th>Address</th>\n",
       "      <th>Rooms</th>\n",
       "      <th>Type</th>\n",
       "      <th>Price</th>\n",
       "      <th>Method</th>\n",
       "      <th>SellerG</th>\n",
       "      <th>Date</th>\n",
       "      <th>Distance</th>\n",
       "      <th>Postcode</th>\n",
       "      <th>...</th>\n",
       "      <th>Bathroom</th>\n",
       "      <th>Car</th>\n",
       "      <th>Landsize</th>\n",
       "      <th>BuildingArea</th>\n",
       "      <th>YearBuilt</th>\n",
       "      <th>CouncilArea</th>\n",
       "      <th>Lattitude</th>\n",
       "      <th>Longtitude</th>\n",
       "      <th>Regionname</th>\n",
       "      <th>Propertycount</th>\n",
       "    </tr>\n",
       "  </thead>\n",
       "  <tbody>\n",
       "    <tr>\n",
       "      <th>4</th>\n",
       "      <td>Abbotsford</td>\n",
       "      <td>5 Charles St</td>\n",
       "      <td>3</td>\n",
       "      <td>h</td>\n",
       "      <td>1465000.0</td>\n",
       "      <td>SP</td>\n",
       "      <td>Biggin</td>\n",
       "      <td>4/03/2017</td>\n",
       "      <td>2.5</td>\n",
       "      <td>3067.0</td>\n",
       "      <td>...</td>\n",
       "      <td>2.0</td>\n",
       "      <td>0.0</td>\n",
       "      <td>134.0</td>\n",
       "      <td>150.0</td>\n",
       "      <td>1900.0</td>\n",
       "      <td>Yarra City Council</td>\n",
       "      <td>-37.80930</td>\n",
       "      <td>144.9944</td>\n",
       "      <td>Northern Metropolitan</td>\n",
       "      <td>4019.0</td>\n",
       "    </tr>\n",
       "    <tr>\n",
       "      <th>2289</th>\n",
       "      <td>Brunswick</td>\n",
       "      <td>5 Charles St</td>\n",
       "      <td>3</td>\n",
       "      <td>h</td>\n",
       "      <td>NaN</td>\n",
       "      <td>SP</td>\n",
       "      <td>Nelson</td>\n",
       "      <td>26/07/2016</td>\n",
       "      <td>5.2</td>\n",
       "      <td>3056.0</td>\n",
       "      <td>...</td>\n",
       "      <td>1.0</td>\n",
       "      <td>0.0</td>\n",
       "      <td>179.0</td>\n",
       "      <td>NaN</td>\n",
       "      <td>1900.0</td>\n",
       "      <td>Moreland City Council</td>\n",
       "      <td>-37.77450</td>\n",
       "      <td>144.9634</td>\n",
       "      <td>Northern Metropolitan</td>\n",
       "      <td>11918.0</td>\n",
       "    </tr>\n",
       "    <tr>\n",
       "      <th>4575</th>\n",
       "      <td>Glen Iris</td>\n",
       "      <td>5 Charles St</td>\n",
       "      <td>4</td>\n",
       "      <td>h</td>\n",
       "      <td>2010000.0</td>\n",
       "      <td>S</td>\n",
       "      <td>Marshall</td>\n",
       "      <td>10/12/2016</td>\n",
       "      <td>9.2</td>\n",
       "      <td>3146.0</td>\n",
       "      <td>...</td>\n",
       "      <td>2.0</td>\n",
       "      <td>2.0</td>\n",
       "      <td>659.0</td>\n",
       "      <td>212.0</td>\n",
       "      <td>1930.0</td>\n",
       "      <td>Boroondara City Council</td>\n",
       "      <td>-37.85090</td>\n",
       "      <td>145.0916</td>\n",
       "      <td>Southern Metropolitan</td>\n",
       "      <td>10412.0</td>\n",
       "    </tr>\n",
       "    <tr>\n",
       "      <th>9907</th>\n",
       "      <td>Sunshine North</td>\n",
       "      <td>5 Charles St</td>\n",
       "      <td>4</td>\n",
       "      <td>h</td>\n",
       "      <td>705000.0</td>\n",
       "      <td>S</td>\n",
       "      <td>Douglas</td>\n",
       "      <td>25/02/2017</td>\n",
       "      <td>13.3</td>\n",
       "      <td>3020.0</td>\n",
       "      <td>...</td>\n",
       "      <td>2.0</td>\n",
       "      <td>1.0</td>\n",
       "      <td>570.0</td>\n",
       "      <td>NaN</td>\n",
       "      <td>NaN</td>\n",
       "      <td>Brimbank City Council</td>\n",
       "      <td>-37.77490</td>\n",
       "      <td>144.8329</td>\n",
       "      <td>Western Metropolitan</td>\n",
       "      <td>4217.0</td>\n",
       "    </tr>\n",
       "    <tr>\n",
       "      <th>10018</th>\n",
       "      <td>Surrey Hills</td>\n",
       "      <td>5 Charles St</td>\n",
       "      <td>4</td>\n",
       "      <td>h</td>\n",
       "      <td>NaN</td>\n",
       "      <td>S</td>\n",
       "      <td>Jellis</td>\n",
       "      <td>3/12/2016</td>\n",
       "      <td>11.2</td>\n",
       "      <td>3127.0</td>\n",
       "      <td>...</td>\n",
       "      <td>2.0</td>\n",
       "      <td>2.0</td>\n",
       "      <td>349.0</td>\n",
       "      <td>NaN</td>\n",
       "      <td>NaN</td>\n",
       "      <td>Boroondara City Council</td>\n",
       "      <td>-37.82550</td>\n",
       "      <td>145.1116</td>\n",
       "      <td>Southern Metropolitan</td>\n",
       "      <td>5457.0</td>\n",
       "    </tr>\n",
       "    <tr>\n",
       "      <th>25584</th>\n",
       "      <td>Bentleigh East</td>\n",
       "      <td>5 Charles St</td>\n",
       "      <td>3</td>\n",
       "      <td>h</td>\n",
       "      <td>1700000.0</td>\n",
       "      <td>S</td>\n",
       "      <td>Buxton</td>\n",
       "      <td>28/10/2017</td>\n",
       "      <td>13.8</td>\n",
       "      <td>3165.0</td>\n",
       "      <td>...</td>\n",
       "      <td>1.0</td>\n",
       "      <td>2.0</td>\n",
       "      <td>649.0</td>\n",
       "      <td>NaN</td>\n",
       "      <td>NaN</td>\n",
       "      <td>Glen Eira City Council</td>\n",
       "      <td>-37.91725</td>\n",
       "      <td>145.0559</td>\n",
       "      <td>Southern Metropolitan</td>\n",
       "      <td>10969.0</td>\n",
       "    </tr>\n",
       "  </tbody>\n",
       "</table>\n",
       "<p>6 rows × 21 columns</p>\n",
       "</div>"
      ],
      "text/plain": [
       "               Suburb       Address  Rooms Type      Price Method   SellerG  \\\n",
       "4          Abbotsford  5 Charles St      3    h  1465000.0     SP    Biggin   \n",
       "2289        Brunswick  5 Charles St      3    h        NaN     SP    Nelson   \n",
       "4575        Glen Iris  5 Charles St      4    h  2010000.0      S  Marshall   \n",
       "9907   Sunshine North  5 Charles St      4    h   705000.0      S   Douglas   \n",
       "10018    Surrey Hills  5 Charles St      4    h        NaN      S    Jellis   \n",
       "25584  Bentleigh East  5 Charles St      3    h  1700000.0      S    Buxton   \n",
       "\n",
       "             Date  Distance  Postcode  ...  Bathroom  Car  Landsize  \\\n",
       "4       4/03/2017       2.5    3067.0  ...       2.0  0.0     134.0   \n",
       "2289   26/07/2016       5.2    3056.0  ...       1.0  0.0     179.0   \n",
       "4575   10/12/2016       9.2    3146.0  ...       2.0  2.0     659.0   \n",
       "9907   25/02/2017      13.3    3020.0  ...       2.0  1.0     570.0   \n",
       "10018   3/12/2016      11.2    3127.0  ...       2.0  2.0     349.0   \n",
       "25584  28/10/2017      13.8    3165.0  ...       1.0  2.0     649.0   \n",
       "\n",
       "       BuildingArea  YearBuilt              CouncilArea Lattitude  Longtitude  \\\n",
       "4             150.0     1900.0       Yarra City Council -37.80930    144.9944   \n",
       "2289            NaN     1900.0    Moreland City Council -37.77450    144.9634   \n",
       "4575          212.0     1930.0  Boroondara City Council -37.85090    145.0916   \n",
       "9907            NaN        NaN    Brimbank City Council -37.77490    144.8329   \n",
       "10018           NaN        NaN  Boroondara City Council -37.82550    145.1116   \n",
       "25584           NaN        NaN   Glen Eira City Council -37.91725    145.0559   \n",
       "\n",
       "                  Regionname Propertycount  \n",
       "4      Northern Metropolitan        4019.0  \n",
       "2289   Northern Metropolitan       11918.0  \n",
       "4575   Southern Metropolitan       10412.0  \n",
       "9907    Western Metropolitan        4217.0  \n",
       "10018  Southern Metropolitan        5457.0  \n",
       "25584  Southern Metropolitan       10969.0  \n",
       "\n",
       "[6 rows x 21 columns]"
      ]
     },
     "execution_count": 8,
     "metadata": {},
     "output_type": "execute_result"
    }
   ],
   "source": [
    "data[data.Address==\"5 Charles St\"]"
   ]
  },
  {
   "cell_type": "markdown",
   "metadata": {},
   "source": [
    "En este caso parece ser que todas son casas diferentes. "
   ]
  },
  {
   "cell_type": "code",
   "execution_count": 9,
   "metadata": {},
   "outputs": [
    {
     "data": {
      "text/html": [
       "<div>\n",
       "<style scoped>\n",
       "    .dataframe tbody tr th:only-of-type {\n",
       "        vertical-align: middle;\n",
       "    }\n",
       "\n",
       "    .dataframe tbody tr th {\n",
       "        vertical-align: top;\n",
       "    }\n",
       "\n",
       "    .dataframe thead th {\n",
       "        text-align: right;\n",
       "    }\n",
       "</style>\n",
       "<table border=\"1\" class=\"dataframe\">\n",
       "  <thead>\n",
       "    <tr style=\"text-align: right;\">\n",
       "      <th></th>\n",
       "      <th>Suburb</th>\n",
       "      <th>Address</th>\n",
       "      <th>Rooms</th>\n",
       "      <th>Type</th>\n",
       "      <th>Price</th>\n",
       "      <th>Method</th>\n",
       "      <th>SellerG</th>\n",
       "      <th>Date</th>\n",
       "      <th>Distance</th>\n",
       "      <th>Postcode</th>\n",
       "      <th>...</th>\n",
       "      <th>Bathroom</th>\n",
       "      <th>Car</th>\n",
       "      <th>Landsize</th>\n",
       "      <th>BuildingArea</th>\n",
       "      <th>YearBuilt</th>\n",
       "      <th>CouncilArea</th>\n",
       "      <th>Lattitude</th>\n",
       "      <th>Longtitude</th>\n",
       "      <th>Regionname</th>\n",
       "      <th>Propertycount</th>\n",
       "    </tr>\n",
       "  </thead>\n",
       "  <tbody>\n",
       "    <tr>\n",
       "      <th>2435</th>\n",
       "      <td>Bulleen</td>\n",
       "      <td>25 William St</td>\n",
       "      <td>4</td>\n",
       "      <td>h</td>\n",
       "      <td>1235000.0</td>\n",
       "      <td>S</td>\n",
       "      <td>Jellis</td>\n",
       "      <td>3/09/2016</td>\n",
       "      <td>11.8</td>\n",
       "      <td>3105.0</td>\n",
       "      <td>...</td>\n",
       "      <td>2.0</td>\n",
       "      <td>2.0</td>\n",
       "      <td>556.0</td>\n",
       "      <td>214.0</td>\n",
       "      <td>1957.0</td>\n",
       "      <td>Manningham City Council</td>\n",
       "      <td>-37.76570</td>\n",
       "      <td>145.09570</td>\n",
       "      <td>Eastern Metropolitan</td>\n",
       "      <td>4480.0</td>\n",
       "    </tr>\n",
       "    <tr>\n",
       "      <th>11315</th>\n",
       "      <td>Fawkner</td>\n",
       "      <td>25 William St</td>\n",
       "      <td>3</td>\n",
       "      <td>h</td>\n",
       "      <td>NaN</td>\n",
       "      <td>SN</td>\n",
       "      <td>Barry</td>\n",
       "      <td>28/05/2016</td>\n",
       "      <td>12.4</td>\n",
       "      <td>3060.0</td>\n",
       "      <td>...</td>\n",
       "      <td>1.0</td>\n",
       "      <td>1.0</td>\n",
       "      <td>583.0</td>\n",
       "      <td>122.0</td>\n",
       "      <td>1960.0</td>\n",
       "      <td>Hume City Council</td>\n",
       "      <td>-37.70430</td>\n",
       "      <td>144.96720</td>\n",
       "      <td>Northern Metropolitan</td>\n",
       "      <td>5070.0</td>\n",
       "    </tr>\n",
       "    <tr>\n",
       "      <th>21258</th>\n",
       "      <td>Hawthorn</td>\n",
       "      <td>25 William St</td>\n",
       "      <td>3</td>\n",
       "      <td>h</td>\n",
       "      <td>1450000.0</td>\n",
       "      <td>VB</td>\n",
       "      <td>Marshall</td>\n",
       "      <td>16/09/2017</td>\n",
       "      <td>5.3</td>\n",
       "      <td>3122.0</td>\n",
       "      <td>...</td>\n",
       "      <td>1.0</td>\n",
       "      <td>0.0</td>\n",
       "      <td>216.0</td>\n",
       "      <td>104.0</td>\n",
       "      <td>1890.0</td>\n",
       "      <td>Boroondara City Council</td>\n",
       "      <td>-37.82031</td>\n",
       "      <td>145.04043</td>\n",
       "      <td>Southern Metropolitan</td>\n",
       "      <td>11308.0</td>\n",
       "    </tr>\n",
       "    <tr>\n",
       "      <th>34242</th>\n",
       "      <td>Fawkner</td>\n",
       "      <td>25 William St</td>\n",
       "      <td>3</td>\n",
       "      <td>h</td>\n",
       "      <td>728000.0</td>\n",
       "      <td>S</td>\n",
       "      <td>Ray</td>\n",
       "      <td>24/02/2018</td>\n",
       "      <td>13.1</td>\n",
       "      <td>3060.0</td>\n",
       "      <td>...</td>\n",
       "      <td>1.0</td>\n",
       "      <td>4.0</td>\n",
       "      <td>584.0</td>\n",
       "      <td>122.0</td>\n",
       "      <td>1960.0</td>\n",
       "      <td>Hume City Council</td>\n",
       "      <td>-37.70428</td>\n",
       "      <td>144.96717</td>\n",
       "      <td>Northern Metropolitan</td>\n",
       "      <td>5070.0</td>\n",
       "    </tr>\n",
       "  </tbody>\n",
       "</table>\n",
       "<p>4 rows × 21 columns</p>\n",
       "</div>"
      ],
      "text/plain": [
       "         Suburb        Address  Rooms Type      Price Method   SellerG  \\\n",
       "2435    Bulleen  25 William St      4    h  1235000.0      S    Jellis   \n",
       "11315   Fawkner  25 William St      3    h        NaN     SN     Barry   \n",
       "21258  Hawthorn  25 William St      3    h  1450000.0     VB  Marshall   \n",
       "34242   Fawkner  25 William St      3    h   728000.0      S       Ray   \n",
       "\n",
       "             Date  Distance  Postcode  ...  Bathroom  Car  Landsize  \\\n",
       "2435    3/09/2016      11.8    3105.0  ...       2.0  2.0     556.0   \n",
       "11315  28/05/2016      12.4    3060.0  ...       1.0  1.0     583.0   \n",
       "21258  16/09/2017       5.3    3122.0  ...       1.0  0.0     216.0   \n",
       "34242  24/02/2018      13.1    3060.0  ...       1.0  4.0     584.0   \n",
       "\n",
       "       BuildingArea  YearBuilt              CouncilArea Lattitude  Longtitude  \\\n",
       "2435          214.0     1957.0  Manningham City Council -37.76570   145.09570   \n",
       "11315         122.0     1960.0        Hume City Council -37.70430   144.96720   \n",
       "21258         104.0     1890.0  Boroondara City Council -37.82031   145.04043   \n",
       "34242         122.0     1960.0        Hume City Council -37.70428   144.96717   \n",
       "\n",
       "                  Regionname Propertycount  \n",
       "2435    Eastern Metropolitan        4480.0  \n",
       "11315  Northern Metropolitan        5070.0  \n",
       "21258  Southern Metropolitan       11308.0  \n",
       "34242  Northern Metropolitan        5070.0  \n",
       "\n",
       "[4 rows x 21 columns]"
      ]
     },
     "execution_count": 9,
     "metadata": {},
     "output_type": "execute_result"
    }
   ],
   "source": [
    "data[data.Address==\"25 William St\"]"
   ]
  },
  {
   "cell_type": "code",
   "execution_count": 10,
   "metadata": {},
   "outputs": [
    {
     "data": {
      "text/html": [
       "<div>\n",
       "<style scoped>\n",
       "    .dataframe tbody tr th:only-of-type {\n",
       "        vertical-align: middle;\n",
       "    }\n",
       "\n",
       "    .dataframe tbody tr th {\n",
       "        vertical-align: top;\n",
       "    }\n",
       "\n",
       "    .dataframe thead th {\n",
       "        text-align: right;\n",
       "    }\n",
       "</style>\n",
       "<table border=\"1\" class=\"dataframe\">\n",
       "  <thead>\n",
       "    <tr style=\"text-align: right;\">\n",
       "      <th></th>\n",
       "      <th>Suburb</th>\n",
       "      <th>Address</th>\n",
       "      <th>Rooms</th>\n",
       "      <th>Type</th>\n",
       "      <th>Price</th>\n",
       "      <th>Method</th>\n",
       "      <th>SellerG</th>\n",
       "      <th>Date</th>\n",
       "      <th>Distance</th>\n",
       "      <th>Postcode</th>\n",
       "      <th>...</th>\n",
       "      <th>Bathroom</th>\n",
       "      <th>Car</th>\n",
       "      <th>Landsize</th>\n",
       "      <th>BuildingArea</th>\n",
       "      <th>YearBuilt</th>\n",
       "      <th>CouncilArea</th>\n",
       "      <th>Lattitude</th>\n",
       "      <th>Longtitude</th>\n",
       "      <th>Regionname</th>\n",
       "      <th>Propertycount</th>\n",
       "    </tr>\n",
       "  </thead>\n",
       "  <tbody>\n",
       "    <tr>\n",
       "      <th>2178</th>\n",
       "      <td>Brunswick</td>\n",
       "      <td>28 Blair St</td>\n",
       "      <td>2</td>\n",
       "      <td>h</td>\n",
       "      <td>1100000.0</td>\n",
       "      <td>S</td>\n",
       "      <td>Nelson</td>\n",
       "      <td>10/09/2016</td>\n",
       "      <td>5.2</td>\n",
       "      <td>3056.0</td>\n",
       "      <td>...</td>\n",
       "      <td>1.0</td>\n",
       "      <td>0.0</td>\n",
       "      <td>153.0</td>\n",
       "      <td>NaN</td>\n",
       "      <td>1900.0</td>\n",
       "      <td>Moreland City Council</td>\n",
       "      <td>-37.7705</td>\n",
       "      <td>144.9647</td>\n",
       "      <td>Northern Metropolitan</td>\n",
       "      <td>11918.0</td>\n",
       "    </tr>\n",
       "    <tr>\n",
       "      <th>6606</th>\n",
       "      <td>Maribyrnong</td>\n",
       "      <td>28 Blair St</td>\n",
       "      <td>2</td>\n",
       "      <td>t</td>\n",
       "      <td>440000.0</td>\n",
       "      <td>PI</td>\n",
       "      <td>Rendina</td>\n",
       "      <td>22/08/2016</td>\n",
       "      <td>8.7</td>\n",
       "      <td>3032.0</td>\n",
       "      <td>...</td>\n",
       "      <td>1.0</td>\n",
       "      <td>2.0</td>\n",
       "      <td>54.0</td>\n",
       "      <td>85.0</td>\n",
       "      <td>2000.0</td>\n",
       "      <td>Maribyrnong City Council</td>\n",
       "      <td>-37.7740</td>\n",
       "      <td>144.8797</td>\n",
       "      <td>Western Metropolitan</td>\n",
       "      <td>4918.0</td>\n",
       "    </tr>\n",
       "    <tr>\n",
       "      <th>6610</th>\n",
       "      <td>Maribyrnong</td>\n",
       "      <td>28 Blair St</td>\n",
       "      <td>2</td>\n",
       "      <td>t</td>\n",
       "      <td>400000.0</td>\n",
       "      <td>PI</td>\n",
       "      <td>Rendina</td>\n",
       "      <td>24/09/2016</td>\n",
       "      <td>8.7</td>\n",
       "      <td>3032.0</td>\n",
       "      <td>...</td>\n",
       "      <td>1.0</td>\n",
       "      <td>2.0</td>\n",
       "      <td>54.0</td>\n",
       "      <td>85.0</td>\n",
       "      <td>2000.0</td>\n",
       "      <td>Maribyrnong City Council</td>\n",
       "      <td>-37.7740</td>\n",
       "      <td>144.8797</td>\n",
       "      <td>Western Metropolitan</td>\n",
       "      <td>4918.0</td>\n",
       "    </tr>\n",
       "  </tbody>\n",
       "</table>\n",
       "<p>3 rows × 21 columns</p>\n",
       "</div>"
      ],
      "text/plain": [
       "           Suburb      Address  Rooms Type      Price Method  SellerG  \\\n",
       "2178    Brunswick  28 Blair St      2    h  1100000.0      S   Nelson   \n",
       "6606  Maribyrnong  28 Blair St      2    t   440000.0     PI  Rendina   \n",
       "6610  Maribyrnong  28 Blair St      2    t   400000.0     PI  Rendina   \n",
       "\n",
       "            Date  Distance  Postcode  ...  Bathroom  Car  Landsize  \\\n",
       "2178  10/09/2016       5.2    3056.0  ...       1.0  0.0     153.0   \n",
       "6606  22/08/2016       8.7    3032.0  ...       1.0  2.0      54.0   \n",
       "6610  24/09/2016       8.7    3032.0  ...       1.0  2.0      54.0   \n",
       "\n",
       "      BuildingArea  YearBuilt               CouncilArea Lattitude  Longtitude  \\\n",
       "2178           NaN     1900.0     Moreland City Council  -37.7705    144.9647   \n",
       "6606          85.0     2000.0  Maribyrnong City Council  -37.7740    144.8797   \n",
       "6610          85.0     2000.0  Maribyrnong City Council  -37.7740    144.8797   \n",
       "\n",
       "                 Regionname Propertycount  \n",
       "2178  Northern Metropolitan       11918.0  \n",
       "6606   Western Metropolitan        4918.0  \n",
       "6610   Western Metropolitan        4918.0  \n",
       "\n",
       "[3 rows x 21 columns]"
      ]
     },
     "execution_count": 10,
     "metadata": {},
     "output_type": "execute_result"
    }
   ],
   "source": [
    "data[data.Address==\"28 Blair St\"]#En este caso, las dos ultimas filas,  son un duplicado."
   ]
  },
  {
   "cell_type": "code",
   "execution_count": 11,
   "metadata": {},
   "outputs": [
    {
     "data": {
      "text/html": [
       "<div>\n",
       "<style scoped>\n",
       "    .dataframe tbody tr th:only-of-type {\n",
       "        vertical-align: middle;\n",
       "    }\n",
       "\n",
       "    .dataframe tbody tr th {\n",
       "        vertical-align: top;\n",
       "    }\n",
       "\n",
       "    .dataframe thead th {\n",
       "        text-align: right;\n",
       "    }\n",
       "</style>\n",
       "<table border=\"1\" class=\"dataframe\">\n",
       "  <thead>\n",
       "    <tr style=\"text-align: right;\">\n",
       "      <th></th>\n",
       "      <th>Suburb</th>\n",
       "      <th>Address</th>\n",
       "      <th>Rooms</th>\n",
       "      <th>Type</th>\n",
       "      <th>Price</th>\n",
       "      <th>Method</th>\n",
       "      <th>SellerG</th>\n",
       "      <th>Date</th>\n",
       "      <th>Distance</th>\n",
       "      <th>Postcode</th>\n",
       "      <th>...</th>\n",
       "      <th>Bathroom</th>\n",
       "      <th>Car</th>\n",
       "      <th>Landsize</th>\n",
       "      <th>BuildingArea</th>\n",
       "      <th>YearBuilt</th>\n",
       "      <th>CouncilArea</th>\n",
       "      <th>Lattitude</th>\n",
       "      <th>Longtitude</th>\n",
       "      <th>Regionname</th>\n",
       "      <th>Propertycount</th>\n",
       "    </tr>\n",
       "  </thead>\n",
       "  <tbody>\n",
       "    <tr>\n",
       "      <th>6920</th>\n",
       "      <td>Moonee Ponds</td>\n",
       "      <td>36 Aberfeldie St</td>\n",
       "      <td>3</td>\n",
       "      <td>h</td>\n",
       "      <td>1725000.0</td>\n",
       "      <td>PI</td>\n",
       "      <td>Nelson</td>\n",
       "      <td>24/09/2016</td>\n",
       "      <td>6.9</td>\n",
       "      <td>3039.0</td>\n",
       "      <td>...</td>\n",
       "      <td>2.0</td>\n",
       "      <td>3.0</td>\n",
       "      <td>596.0</td>\n",
       "      <td>203.0</td>\n",
       "      <td>1950.0</td>\n",
       "      <td>Moonee Valley City Council</td>\n",
       "      <td>-37.76090</td>\n",
       "      <td>144.90500</td>\n",
       "      <td>Western Metropolitan</td>\n",
       "      <td>6232.0</td>\n",
       "    </tr>\n",
       "    <tr>\n",
       "      <th>15145</th>\n",
       "      <td>Moonee Ponds</td>\n",
       "      <td>36 Aberfeldie St</td>\n",
       "      <td>3</td>\n",
       "      <td>h</td>\n",
       "      <td>1850000.0</td>\n",
       "      <td>SP</td>\n",
       "      <td>McDonald</td>\n",
       "      <td>3/06/2017</td>\n",
       "      <td>6.2</td>\n",
       "      <td>3039.0</td>\n",
       "      <td>...</td>\n",
       "      <td>2.0</td>\n",
       "      <td>2.0</td>\n",
       "      <td>596.0</td>\n",
       "      <td>203.0</td>\n",
       "      <td>1950.0</td>\n",
       "      <td>Moonee Valley City Council</td>\n",
       "      <td>-37.76086</td>\n",
       "      <td>144.90497</td>\n",
       "      <td>Western Metropolitan</td>\n",
       "      <td>6232.0</td>\n",
       "    </tr>\n",
       "    <tr>\n",
       "      <th>15799</th>\n",
       "      <td>Moonee Ponds</td>\n",
       "      <td>36 Aberfeldie St</td>\n",
       "      <td>3</td>\n",
       "      <td>h</td>\n",
       "      <td>1850000.0</td>\n",
       "      <td>SP</td>\n",
       "      <td>McDonald</td>\n",
       "      <td>17/06/2017</td>\n",
       "      <td>6.2</td>\n",
       "      <td>3039.0</td>\n",
       "      <td>...</td>\n",
       "      <td>2.0</td>\n",
       "      <td>2.0</td>\n",
       "      <td>596.0</td>\n",
       "      <td>203.0</td>\n",
       "      <td>1950.0</td>\n",
       "      <td>Moonee Valley City Council</td>\n",
       "      <td>-37.76086</td>\n",
       "      <td>144.90497</td>\n",
       "      <td>Western Metropolitan</td>\n",
       "      <td>6232.0</td>\n",
       "    </tr>\n",
       "  </tbody>\n",
       "</table>\n",
       "<p>3 rows × 21 columns</p>\n",
       "</div>"
      ],
      "text/plain": [
       "             Suburb           Address  Rooms Type      Price Method   SellerG  \\\n",
       "6920   Moonee Ponds  36 Aberfeldie St      3    h  1725000.0     PI    Nelson   \n",
       "15145  Moonee Ponds  36 Aberfeldie St      3    h  1850000.0     SP  McDonald   \n",
       "15799  Moonee Ponds  36 Aberfeldie St      3    h  1850000.0     SP  McDonald   \n",
       "\n",
       "             Date  Distance  Postcode  ...  Bathroom  Car  Landsize  \\\n",
       "6920   24/09/2016       6.9    3039.0  ...       2.0  3.0     596.0   \n",
       "15145   3/06/2017       6.2    3039.0  ...       2.0  2.0     596.0   \n",
       "15799  17/06/2017       6.2    3039.0  ...       2.0  2.0     596.0   \n",
       "\n",
       "       BuildingArea  YearBuilt                 CouncilArea Lattitude  \\\n",
       "6920          203.0     1950.0  Moonee Valley City Council -37.76090   \n",
       "15145         203.0     1950.0  Moonee Valley City Council -37.76086   \n",
       "15799         203.0     1950.0  Moonee Valley City Council -37.76086   \n",
       "\n",
       "       Longtitude            Regionname Propertycount  \n",
       "6920    144.90500  Western Metropolitan        6232.0  \n",
       "15145   144.90497  Western Metropolitan        6232.0  \n",
       "15799   144.90497  Western Metropolitan        6232.0  \n",
       "\n",
       "[3 rows x 21 columns]"
      ]
     },
     "execution_count": 11,
     "metadata": {},
     "output_type": "execute_result"
    }
   ],
   "source": [
    "data[data.Address==\"36 Aberfeldie St\"]# en este caso tambien tenemos datos duplicados y efectivamente es una casa "
   ]
  },
  {
   "cell_type": "markdown",
   "metadata": {},
   "source": [
    "Al existir la sospecha de que algunos de los datos estan duplicados, procedemos a hacer una eliminacion de duplicados en nuestro data set por longitud, latitud , precio y numero de habitaciones. \n",
    "\n",
    "### Variable \"PostCode\"\n",
    "\n",
    "La variable Postcode, como comentamos anteriormente, se incluye dentro del analisis de las variables cualitativas. "
   ]
  },
  {
   "cell_type": "code",
   "execution_count": 12,
   "metadata": {},
   "outputs": [
    {
     "name": "stderr",
     "output_type": "stream",
     "text": [
      "<ipython-input-12-ddf859229450>:1: SettingWithCopyWarning: \n",
      "A value is trying to be set on a copy of a slice from a DataFrame.\n",
      "Try using .loc[row_indexer,col_indexer] = value instead\n",
      "\n",
      "See the caveats in the documentation: https://pandas.pydata.org/pandas-docs/stable/user_guide/indexing.html#returning-a-view-versus-a-copy\n",
      "  Variables_cualitativas[\"Postcode\"]=Variables_cualitativas[\"Postcode\"].astype(\"object\")\n"
     ]
    },
    {
     "data": {
      "text/plain": [
       "3073.0    844\n",
       "3046.0    638\n",
       "3020.0    617\n",
       "3121.0    612\n",
       "3165.0    583\n",
       "         ... \n",
       "3159.0      1\n",
       "3775.0      1\n",
       "3139.0      1\n",
       "3770.0      1\n",
       "3793.0      1\n",
       "Name: Postcode, Length: 211, dtype: int64"
      ]
     },
     "execution_count": 12,
     "metadata": {},
     "output_type": "execute_result"
    }
   ],
   "source": [
    "Variables_cualitativas[\"Postcode\"]=Variables_cualitativas[\"Postcode\"].astype(\"object\")\n",
    "pd.value_counts(Variables_cualitativas['Postcode'])\n"
   ]
  },
  {
   "cell_type": "markdown",
   "metadata": {},
   "source": [
    "La variables postcode cuenta con muchas categorias  y lo que dificultaria el modelo. "
   ]
  },
  {
   "cell_type": "markdown",
   "metadata": {},
   "source": [
    "### Variable \"Type\"\n",
    "\n",
    "Esta variable cualitativa  es polítoma y presenta mas de dos valor no numéricos y corresponde con el tipo de vivienda. \n",
    "La descripción determinada por la base de datos es la siguiente: \n",
    "br - bedroom(s); \n",
    "h - house,cottage,villa, semi,terrace; \n",
    "u - unit, duplex;\n",
    "t - townhouse; \n",
    "dev site - development site; \n",
    "o res - other residential\n",
    "\n",
    "Sin embargo, procederemos al renombramiento de las categorias para su mejor comprensión. \n",
    "\n",
    "Dormitorio- bedroom(s); \n",
    "Casa - house,cottage,villa, semi,terrace; \n",
    "Piso  - unit, duplex;\n",
    "Adosado- townhouse; \n",
    "dev site - development site; \n",
    "o res - other residential"
   ]
  },
  {
   "cell_type": "code",
   "execution_count": 13,
   "metadata": {},
   "outputs": [
    {
     "name": "stderr",
     "output_type": "stream",
     "text": [
      "/home/inma/anaconda3/lib/python3.8/site-packages/pandas/core/series.py:4575: SettingWithCopyWarning: \n",
      "A value is trying to be set on a copy of a slice from a DataFrame\n",
      "\n",
      "See the caveats in the documentation: https://pandas.pydata.org/pandas-docs/stable/user_guide/indexing.html#returning-a-view-versus-a-copy\n",
      "  return super().replace(\n"
     ]
    },
    {
     "data": {
      "text/plain": [
       "Casa       68.795364\n",
       "Piso       20.934102\n",
       "Adosado    10.270534\n",
       "Name: Type, dtype: float64"
      ]
     },
     "execution_count": 13,
     "metadata": {},
     "output_type": "execute_result"
    }
   ],
   "source": [
    "#data.apply(pd.Series.replace, to_replace='br', value='Dormitorio')# hacer una lista  para todos \n",
    "Variables_cualitativas[\"Type\"].replace({\"br\":\"Dormitorio\",\"h\":\"Casa\",\"u\":\"Piso\",\"t\":\"Adosado\"}, inplace=True)\n",
    "pd.value_counts(data['Type'])\n",
    "100*Variables_cualitativas[\"Type\"].value_counts() /len(Variables_cualitativas[\"Type\"])\n"
   ]
  },
  {
   "cell_type": "code",
   "execution_count": 14,
   "metadata": {},
   "outputs": [],
   "source": [
    "#data.apply(pd.Series.replace, to_replace='br', value='Dormitorio') #&(to_replace='h', value='Casa'))"
   ]
  },
  {
   "cell_type": "markdown",
   "metadata": {},
   "source": [
    "Esto hace referencia a la cultura del pais, donde la mayoria de la viviendas son corresponden a edificios unifamiliares. "
   ]
  },
  {
   "cell_type": "markdown",
   "metadata": {},
   "source": [
    "### Variable \"Method\"\n",
    "\n",
    "Esta variable cualitativa  es polítoma y presenta mas de dos valor no numéricos y corresponde a  tipo de venta por la que adquirio el precio que refleja el dataset de cada una de las propiedades. \n",
    "La descripción determinada por la base de datos es la siguiente: \n",
    "- S - property sold( Vendida)--> vend ;\n",
    "- SP - property sold prior(vendida anteriormente)--> vend_ant;\n",
    "- PI - property passed in(propiedad traspasada) -->traspasada; \n",
    "- PN - sold prior not disclosed (Venta anterior no revelada)-->Vent_ant_x; \n",
    "- SN - sold not disclosed( Venta no revelada)-->vent_x; \n",
    "- NB - no bid ( Sin oferta)-->sin_oferta; \n",
    "- VB - vendor bid (oferta del vendedor)-->oferta_vendedor; \n",
    "- W - withdrawn prior to auction (Retirada antes de la subasta)-->retirada_sub; \n",
    "- SA - sold after auction( Vendida antes de la subasta)-->pre_sub; \n",
    "- SS - sold after auction price not disclosed (Vendido despues de la subasta, precio no revelado)-->pre_sub_x. \n",
    "- N/A - price or highest bid not available(Precio u oferta mas alta no disponible).\n",
    "\n",
    "Cambiamos el nombre de las variables, para hacerlas mas entendibles. "
   ]
  },
  {
   "cell_type": "code",
   "execution_count": 15,
   "metadata": {},
   "outputs": [
    {
     "data": {
      "text/plain": [
       "vend               56.642855\n",
       "vend_ant           14.616863\n",
       "traspasada         13.913991\n",
       "oferta_vendedor     8.916430\n",
       "vent_x              3.778294\n",
       "vent_ant_x          0.883610\n",
       "pre_sub             0.648363\n",
       "retirada_sub        0.496314\n",
       "pre_sub_x           0.103279\n",
       "Name: Method, dtype: float64"
      ]
     },
     "execution_count": 15,
     "metadata": {},
     "output_type": "execute_result"
    }
   ],
   "source": [
    "Variables_cualitativas[\"Method\"].replace({\"S\":\"vend\",\"SP\":\"vend_ant\",\"PI\":\"traspasada\",\"PN\":\"vent_ant_x\",\"SN\":\"vent_x\",\"NB\":\"sin_oferta\",\"VB\":\"oferta_vendedor\",\"W\":\"retirada_sub\",\"SA\":\"pre_sub\",\"SS\":\"pre_sub_x\"}, inplace=True)\n",
    "pd.value_counts(Variables_cualitativas['Method'])\n",
    "100*Variables_cualitativas[\"Method\"].value_counts() /len(Variables_cualitativas[\"Method\"])\n"
   ]
  },
  {
   "cell_type": "markdown",
   "metadata": {},
   "source": [
    "Analizamos la relacion entre las variables que indican falta de precio  y la columna \" Price\" para comprobar la relacion con de estas categorias y los datos faltantes en precio. \n",
    "\n",
    "- vent_ant_x - sold prior not disclosed (Venta anterior no revelada); \n",
    "- vent_x - sold not disclosed( Venta no revelada); \n",
    "- sin_oferta - no bid ( Sin oferta); \n",
    "- pre_sub_x - sold after auction price not disclosed (Vendido despues de la subasta, precio no revelado). \n",
    "- N/A - price or highest bid not available(Precio u oferta mas alta no disponible).\n"
   ]
  },
  {
   "cell_type": "code",
   "execution_count": 16,
   "metadata": {},
   "outputs": [
    {
     "data": {
      "text/html": [
       "<div>\n",
       "<style scoped>\n",
       "    .dataframe tbody tr th:only-of-type {\n",
       "        vertical-align: middle;\n",
       "    }\n",
       "\n",
       "    .dataframe tbody tr th {\n",
       "        vertical-align: top;\n",
       "    }\n",
       "\n",
       "    .dataframe thead th {\n",
       "        text-align: right;\n",
       "    }\n",
       "</style>\n",
       "<table border=\"1\" class=\"dataframe\">\n",
       "  <thead>\n",
       "    <tr style=\"text-align: right;\">\n",
       "      <th></th>\n",
       "      <th>Price</th>\n",
       "      <th>Method</th>\n",
       "    </tr>\n",
       "  </thead>\n",
       "  <tbody>\n",
       "  </tbody>\n",
       "</table>\n",
       "</div>"
      ],
      "text/plain": [
       "Empty DataFrame\n",
       "Columns: [Price, Method]\n",
       "Index: []"
      ]
     },
     "execution_count": 16,
     "metadata": {},
     "output_type": "execute_result"
    }
   ],
   "source": [
    "Price_Method=data[[\"Price\", \"Method\"]]\n",
    "Price_Method=Price_Method[(data.Method==\"vent_ant_x\")|(data.Method==\"vent_x\")|(data.Method==\"sin_oferta\")|(data.Method==\"pre_sub_x\")|(data.Method==\"N/A\")]\n",
    "#pd.crosstab(index=Price_Method[\"Price\"],columns=Price_Method[\"Method\"],margins=True)\n",
    "\n",
    "pd.value_counts(Price_Method['Price'])#ordenamos para poder ver los precios mas altos.\n",
    "Price_Method.head(10)\n"
   ]
  },
  {
   "cell_type": "markdown",
   "metadata": {},
   "source": [
    "Con este análisis podemos  observar categorías  mencionadas anteriormente presentan datos faltantes en la variables objetivo. \n",
    "Esto es interesante tenerlo en cuenta para el tratamiento de missings\n",
    "La Variable \"Method\" contiene un  alto grado de categorías, por lo que después de haberla analizado, procedemos a agruparla según 3 criterios: \n",
    "\n",
    "- Categorias mas comunes: las 4 primera categorias acumulan más del 93% de todos los datos, que las dejaremos intactas. \n",
    "\n",
    "        vend            56.642855\n",
    "        vend_ant        14.616863\n",
    "        trasp           13.913991\n",
    "        oferta_vend      8.916430\n",
    "\n",
    "- Categiras sin precio(sin_precio):  son todas aquellas que por su propia descripción y nuestra posterior comprobación no estan asociadas a un precio, nuestra variable target.\n",
    "\n",
    "        vent_ant_x - sold prior not disclosed (Venta anterior no revelada);\n",
    "        vent_x - sold not disclosed( Venta no revelada); \n",
    "        sin_oferta - no bid ( Sin oferta); \n",
    "        pre_sub_x - sold after auction price not disclosed (Vendido despues de la subasta, precio no revelado).\n",
    "        N/A - price or highest bid not available(Precio u oferta mas alta no disponible).\n",
    "\n",
    "- Otros(otro): son el resto de categorias con poca incidencia.  \n",
    "\n",
    "        pre_sub          0.648363\n",
    "        retirada_sub     0.496314"
   ]
  },
  {
   "cell_type": "code",
   "execution_count": 17,
   "metadata": {},
   "outputs": [
    {
     "name": "stdout",
     "output_type": "stream",
     "text": [
      "           Suburb             Address     Type           Method  \\\n",
      "0      Abbotsford       68 Studley St     Casa       sin_precio   \n",
      "1      Abbotsford        85 Turner St     Casa             vend   \n",
      "2      Abbotsford     25 Bloomburg St     Casa             vend   \n",
      "3      Abbotsford  18/659 Victoria St     Piso  oferta_vendedor   \n",
      "4      Abbotsford        5 Charles St     Casa         vend_ant   \n",
      "...           ...                 ...      ...              ...   \n",
      "34852  Yarraville         13 Burns St     Casa       traspasada   \n",
      "34853  Yarraville       29A Murray St     Casa         vend_ant   \n",
      "34854  Yarraville      147A Severn St  Adosado             vend   \n",
      "34855  Yarraville    12/37 Stephen St     Casa         vend_ant   \n",
      "34856  Yarraville    3 Tarrengower St     Casa       traspasada   \n",
      "\n",
      "             SellerG        Date               CouncilArea  \\\n",
      "0             Jellis   3/09/2016        Yarra City Council   \n",
      "1             Biggin   3/12/2016        Yarra City Council   \n",
      "2             Biggin   4/02/2016        Yarra City Council   \n",
      "3             Rounds   4/02/2016        Yarra City Council   \n",
      "4             Biggin   4/03/2017        Yarra City Council   \n",
      "...              ...         ...                       ...   \n",
      "34852            Jas  24/02/2018  Maribyrnong City Council   \n",
      "34853        Sweeney  24/02/2018  Maribyrnong City Council   \n",
      "34854            Jas  24/02/2018  Maribyrnong City Council   \n",
      "34855  hockingstuart  24/02/2018  Maribyrnong City Council   \n",
      "34856             RW  24/02/2018  Maribyrnong City Council   \n",
      "\n",
      "                  Regionname  Postcode  \n",
      "0      Northern Metropolitan    3067.0  \n",
      "1      Northern Metropolitan    3067.0  \n",
      "2      Northern Metropolitan    3067.0  \n",
      "3      Northern Metropolitan    3067.0  \n",
      "4      Northern Metropolitan    3067.0  \n",
      "...                      ...       ...  \n",
      "34852   Western Metropolitan    3013.0  \n",
      "34853   Western Metropolitan    3013.0  \n",
      "34854   Western Metropolitan    3013.0  \n",
      "34855   Western Metropolitan    3013.0  \n",
      "34856   Western Metropolitan    3013.0  \n",
      "\n",
      "[34857 rows x 9 columns]\n"
     ]
    }
   ],
   "source": [
    "Variables_cualitativas= Variables_cualitativas.replace({\"vent_ant_x\":\"sin_precio\",\"vent_x\":\"sin_precio\",\"sin_oferta\":\"sin_precio\",\"pre_sub_x\":\"sin_precio\",\"N/A\":\"sin_precio\",\"pre_sub\":\"otro\",\"retirada_sub\":\"otro\"})\n",
    "print(Variables_cualitativas)"
   ]
  },
  {
   "cell_type": "markdown",
   "metadata": {},
   "source": [
    "### Variable \"SellerG\"\n",
    "\n",
    "\n",
    "La variable SellerG indica la fecha de venta o de recogida del precio de dicho apartamento. En este caso podemos ver que la fechas se encuentran entre Enero de 2016 y Octubre de 2018.\n"
   ]
  },
  {
   "cell_type": "code",
   "execution_count": 18,
   "metadata": {},
   "outputs": [
    {
     "data": {
      "text/plain": [
       "Jellis                 3359\n",
       "Nelson                 3236\n",
       "Barry                  3235\n",
       "hockingstuart          2623\n",
       "Marshall               2027\n",
       "                       ... \n",
       "Harcourts/Barry           1\n",
       "hockingstuart/Barry       1\n",
       "Sprint                    1\n",
       "McGrath/First             1\n",
       "Naison                    1\n",
       "Name: SellerG, Length: 388, dtype: int64"
      ]
     },
     "execution_count": 18,
     "metadata": {},
     "output_type": "execute_result"
    }
   ],
   "source": [
    "pd.value_counts(Variables_cualitativas['SellerG'])"
   ]
  },
  {
   "cell_type": "markdown",
   "metadata": {},
   "source": [
    "###  Variable \"Date\" \n",
    "\n",
    "La variables fecha es muy importante para localizar en el tiempo el dataset. Para ellos determiandos la fecha maxima y minima. "
   ]
  },
  {
   "cell_type": "code",
   "execution_count": 19,
   "metadata": {},
   "outputs": [
    {
     "name": "stdout",
     "output_type": "stream",
     "text": [
      "La fecha mínima del data set es 2016-01-28 00:00:00\n",
      "La fecha máxima del data set es 2018-10-03 00:00:00\n"
     ]
    },
    {
     "data": {
      "text/plain": [
       "28/10/2017    1119\n",
       "17/03/2018     970\n",
       "24/02/2018     941\n",
       "9/12/2017      927\n",
       "25/11/2017     902\n",
       "              ... \n",
       "4/02/2016       44\n",
       "30/09/2017      22\n",
       "20/01/2018      19\n",
       "27/01/2018      12\n",
       "28/01/2016       3\n",
       "Name: Date, Length: 78, dtype: int64"
      ]
     },
     "execution_count": 19,
     "metadata": {},
     "output_type": "execute_result"
    }
   ],
   "source": [
    "# convertimos el campo fecha  datetime de pandas\n",
    "from datetime import datetime\n",
    "data['Date'] = pd.to_datetime(data['Date'])\n",
    "print('La fecha mínima del data set es',data['Date'].min())\n",
    "print('La fecha máxima del data set es',data['Date'].max())\n",
    "pd.value_counts(Variables_cualitativas['Date'])"
   ]
  },
  {
   "cell_type": "markdown",
   "metadata": {},
   "source": [
    "### Variable \"CouncilArea'\"\n",
    "\n",
    "\n",
    "La variabe Counsil Area corresponde con al area municipal donde se encuentran cada una de las casas. Esta variable aporta una informacion parecida a la que aporta postcode o regionname, por lo tanto podria ser considerada una de las variables a descartar. "
   ]
  },
  {
   "cell_type": "code",
   "execution_count": 20,
   "metadata": {},
   "outputs": [
    {
     "data": {
      "text/plain": [
       "Boroondara City Council           3675\n",
       "Darebin City Council              2851\n",
       "Moreland City Council             2122\n",
       "Glen Eira City Council            2006\n",
       "Melbourne City Council            1952\n",
       "Banyule City Council              1861\n",
       "Moonee Valley City Council        1791\n",
       "Bayside City Council              1764\n",
       "Brimbank City Council             1593\n",
       "Monash City Council               1466\n",
       "Stonnington City Council          1460\n",
       "Maribyrnong City Council          1451\n",
       "Port Phillip City Council         1280\n",
       "Hume City Council                 1214\n",
       "Yarra City Council                1186\n",
       "Manningham City Council           1046\n",
       "Hobsons Bay City Council           942\n",
       "Kingston City Council              871\n",
       "Whittlesea City Council            828\n",
       "Wyndham City Council               624\n",
       "Whitehorse City Council            618\n",
       "Maroondah City Council             506\n",
       "Knox City Council                  371\n",
       "Greater Dandenong City Council     314\n",
       "Melton City Council                292\n",
       "Frankston City Council             290\n",
       "Casey City Council                 176\n",
       "Yarra Ranges Shire Council         102\n",
       "Nillumbik Shire Council             88\n",
       "Macedon Ranges Shire Council        46\n",
       "Cardinia Shire Council              41\n",
       "Mitchell Shire Council              20\n",
       "Moorabool Shire Council              7\n",
       "Name: CouncilArea, dtype: int64"
      ]
     },
     "execution_count": 20,
     "metadata": {},
     "output_type": "execute_result"
    }
   ],
   "source": [
    "pd.value_counts(Variables_cualitativas['CouncilArea'])"
   ]
  },
  {
   "cell_type": "markdown",
   "metadata": {},
   "source": [
    "### Variable \"Regionname\"\n",
    "\n",
    "\n",
    "Corresponde a la regiones de Melburne, principalmente  podemos obsevar que la mayoria de las viviendas se encuentran alrededor de la zona metropolitana, que tiene relacion con las zonas con mayor densidad de poblacion. "
   ]
  },
  {
   "cell_type": "code",
   "execution_count": 21,
   "metadata": {},
   "outputs": [
    {
     "data": {
      "text/plain": [
       "Southern Metropolitan         33.955877\n",
       "Northern Metropolitan         27.417735\n",
       "Western Metropolitan          19.505408\n",
       "Eastern Metropolitan          12.557019\n",
       "South-Eastern Metropolitan     4.988955\n",
       "Eastern Victoria               0.654101\n",
       "Northern Victoria              0.582379\n",
       "Western Victoria               0.329919\n",
       "Name: Regionname, dtype: float64"
      ]
     },
     "execution_count": 21,
     "metadata": {},
     "output_type": "execute_result"
    }
   ],
   "source": [
    "pd.value_counts(Variables_cualitativas['Regionname'])\n",
    "100*Variables_cualitativas[\"Regionname\"].value_counts() /len(Variables_cualitativas[\"Regionname\"])"
   ]
  },
  {
   "cell_type": "markdown",
   "metadata": {},
   "source": [
    "## 4.2 Relación entre las variables cualitativas\n",
    "\n",
    "Por otro lado, una vez analizado cada una de las variables podemos ver que es interesante  observar la relacion entre algunas de las variables. \n",
    "Por ejemplo haciendo una relacion entre el tipo de casa y al region en la que se encuentra. "
   ]
  },
  {
   "cell_type": "code",
   "execution_count": 22,
   "metadata": {},
   "outputs": [
    {
     "data": {
      "text/html": [
       "<div>\n",
       "<style scoped>\n",
       "    .dataframe tbody tr th:only-of-type {\n",
       "        vertical-align: middle;\n",
       "    }\n",
       "\n",
       "    .dataframe tbody tr th {\n",
       "        vertical-align: top;\n",
       "    }\n",
       "\n",
       "    .dataframe thead th {\n",
       "        text-align: right;\n",
       "    }\n",
       "</style>\n",
       "<table border=\"1\" class=\"dataframe\">\n",
       "  <thead>\n",
       "    <tr style=\"text-align: right;\">\n",
       "      <th>Regionname</th>\n",
       "      <th>Eastern Metropolitan</th>\n",
       "      <th>Eastern Victoria</th>\n",
       "      <th>Northern Metropolitan</th>\n",
       "      <th>Northern Victoria</th>\n",
       "      <th>South-Eastern Metropolitan</th>\n",
       "      <th>Southern Metropolitan</th>\n",
       "      <th>Western Metropolitan</th>\n",
       "      <th>Western Victoria</th>\n",
       "      <th>All</th>\n",
       "    </tr>\n",
       "    <tr>\n",
       "      <th>Type</th>\n",
       "      <th></th>\n",
       "      <th></th>\n",
       "      <th></th>\n",
       "      <th></th>\n",
       "      <th></th>\n",
       "      <th></th>\n",
       "      <th></th>\n",
       "      <th></th>\n",
       "      <th></th>\n",
       "    </tr>\n",
       "  </thead>\n",
       "  <tbody>\n",
       "    <tr>\n",
       "      <th>Adosado</th>\n",
       "      <td>391</td>\n",
       "      <td>5</td>\n",
       "      <td>1035</td>\n",
       "      <td>1</td>\n",
       "      <td>162</td>\n",
       "      <td>1332</td>\n",
       "      <td>654</td>\n",
       "      <td>0</td>\n",
       "      <td>3580</td>\n",
       "    </tr>\n",
       "    <tr>\n",
       "      <th>Casa</th>\n",
       "      <td>3438</td>\n",
       "      <td>216</td>\n",
       "      <td>6489</td>\n",
       "      <td>199</td>\n",
       "      <td>1356</td>\n",
       "      <td>6968</td>\n",
       "      <td>5199</td>\n",
       "      <td>113</td>\n",
       "      <td>23978</td>\n",
       "    </tr>\n",
       "    <tr>\n",
       "      <th>Piso</th>\n",
       "      <td>548</td>\n",
       "      <td>7</td>\n",
       "      <td>2033</td>\n",
       "      <td>3</td>\n",
       "      <td>221</td>\n",
       "      <td>3536</td>\n",
       "      <td>946</td>\n",
       "      <td>2</td>\n",
       "      <td>7296</td>\n",
       "    </tr>\n",
       "    <tr>\n",
       "      <th>All</th>\n",
       "      <td>4377</td>\n",
       "      <td>228</td>\n",
       "      <td>9557</td>\n",
       "      <td>203</td>\n",
       "      <td>1739</td>\n",
       "      <td>11836</td>\n",
       "      <td>6799</td>\n",
       "      <td>115</td>\n",
       "      <td>34854</td>\n",
       "    </tr>\n",
       "  </tbody>\n",
       "</table>\n",
       "</div>"
      ],
      "text/plain": [
       "Regionname  Eastern Metropolitan  Eastern Victoria  Northern Metropolitan  \\\n",
       "Type                                                                        \n",
       "Adosado                      391                 5                   1035   \n",
       "Casa                        3438               216                   6489   \n",
       "Piso                         548                 7                   2033   \n",
       "All                         4377               228                   9557   \n",
       "\n",
       "Regionname  Northern Victoria  South-Eastern Metropolitan  \\\n",
       "Type                                                        \n",
       "Adosado                     1                         162   \n",
       "Casa                      199                        1356   \n",
       "Piso                        3                         221   \n",
       "All                       203                        1739   \n",
       "\n",
       "Regionname  Southern Metropolitan  Western Metropolitan  Western Victoria  \\\n",
       "Type                                                                        \n",
       "Adosado                      1332                   654                 0   \n",
       "Casa                         6968                  5199               113   \n",
       "Piso                         3536                   946                 2   \n",
       "All                         11836                  6799               115   \n",
       "\n",
       "Regionname    All  \n",
       "Type               \n",
       "Adosado      3580  \n",
       "Casa        23978  \n",
       "Piso         7296  \n",
       "All         34854  "
      ]
     },
     "execution_count": 22,
     "metadata": {},
     "output_type": "execute_result"
    }
   ],
   "source": [
    "pd.crosstab(index=Variables_cualitativas[\"Type\"],columns=Variables_cualitativas[\"Regionname\"],margins=True)#representacion de la distribucion de tipo de casas por region "
   ]
  },
  {
   "cell_type": "code",
   "execution_count": 23,
   "metadata": {},
   "outputs": [
    {
     "data": {
      "image/png": "[encoded data removed]",
      "text/plain": [
       "<Figure size 432x288 with 1 Axes>"
      ]
     },
     "metadata": {
      "filenames": {
       "image/png": "/home/inma/HH_intro_git_ds/practicaFundamentosAD/_build/jupyter_execute/4-ProcesamientoVaribalesCualitativas_40_0.png"
      },
      "needs_background": "light"
     },
     "output_type": "display_data"
    }
   ],
   "source": [
    "plot = pd.crosstab(index=Variables_cualitativas['Regionname'],\n",
    "            columns=Variables_cualitativas['Type']).apply(lambda r: r/r.sum() *100,\n",
    "                                              axis=1).plot(kind='bar')"
   ]
  },
  {
   "cell_type": "markdown",
   "metadata": {},
   "source": [
    "En el grafico anterior observamos que  casi todos los tipos de casas que corresponden con piso en encuentran en las zonas centrales de la ciudad."
   ]
  },
  {
   "cell_type": "code",
   "execution_count": 24,
   "metadata": {},
   "outputs": [
    {
     "data": {
      "text/html": [
       "<div>\n",
       "<style scoped>\n",
       "    .dataframe tbody tr th:only-of-type {\n",
       "        vertical-align: middle;\n",
       "    }\n",
       "\n",
       "    .dataframe tbody tr th {\n",
       "        vertical-align: top;\n",
       "    }\n",
       "\n",
       "    .dataframe thead th {\n",
       "        text-align: right;\n",
       "    }\n",
       "</style>\n",
       "<table border=\"1\" class=\"dataframe\">\n",
       "  <thead>\n",
       "    <tr style=\"text-align: right;\">\n",
       "      <th>Method</th>\n",
       "      <th>oferta_vendedor</th>\n",
       "      <th>otro</th>\n",
       "      <th>sin_precio</th>\n",
       "      <th>traspasada</th>\n",
       "      <th>vend</th>\n",
       "      <th>vend_ant</th>\n",
       "      <th>All</th>\n",
       "    </tr>\n",
       "    <tr>\n",
       "      <th>Regionname</th>\n",
       "      <th></th>\n",
       "      <th></th>\n",
       "      <th></th>\n",
       "      <th></th>\n",
       "      <th></th>\n",
       "      <th></th>\n",
       "      <th></th>\n",
       "    </tr>\n",
       "  </thead>\n",
       "  <tbody>\n",
       "    <tr>\n",
       "      <th>Eastern Metropolitan</th>\n",
       "      <td>408</td>\n",
       "      <td>53</td>\n",
       "      <td>357</td>\n",
       "      <td>677</td>\n",
       "      <td>2338</td>\n",
       "      <td>544</td>\n",
       "      <td>4377</td>\n",
       "    </tr>\n",
       "    <tr>\n",
       "      <th>Eastern Victoria</th>\n",
       "      <td>23</td>\n",
       "      <td>11</td>\n",
       "      <td>16</td>\n",
       "      <td>30</td>\n",
       "      <td>99</td>\n",
       "      <td>49</td>\n",
       "      <td>228</td>\n",
       "    </tr>\n",
       "    <tr>\n",
       "      <th>Northern Metropolitan</th>\n",
       "      <td>703</td>\n",
       "      <td>88</td>\n",
       "      <td>356</td>\n",
       "      <td>1271</td>\n",
       "      <td>5695</td>\n",
       "      <td>1444</td>\n",
       "      <td>9557</td>\n",
       "    </tr>\n",
       "    <tr>\n",
       "      <th>Northern Victoria</th>\n",
       "      <td>14</td>\n",
       "      <td>5</td>\n",
       "      <td>13</td>\n",
       "      <td>15</td>\n",
       "      <td>110</td>\n",
       "      <td>46</td>\n",
       "      <td>203</td>\n",
       "    </tr>\n",
       "    <tr>\n",
       "      <th>South-Eastern Metropolitan</th>\n",
       "      <td>99</td>\n",
       "      <td>38</td>\n",
       "      <td>98</td>\n",
       "      <td>263</td>\n",
       "      <td>980</td>\n",
       "      <td>261</td>\n",
       "      <td>1739</td>\n",
       "    </tr>\n",
       "    <tr>\n",
       "      <th>Southern Metropolitan</th>\n",
       "      <td>1369</td>\n",
       "      <td>109</td>\n",
       "      <td>562</td>\n",
       "      <td>1676</td>\n",
       "      <td>6699</td>\n",
       "      <td>1421</td>\n",
       "      <td>11836</td>\n",
       "    </tr>\n",
       "    <tr>\n",
       "      <th>Western Metropolitan</th>\n",
       "      <td>487</td>\n",
       "      <td>93</td>\n",
       "      <td>251</td>\n",
       "      <td>907</td>\n",
       "      <td>3753</td>\n",
       "      <td>1308</td>\n",
       "      <td>6799</td>\n",
       "    </tr>\n",
       "    <tr>\n",
       "      <th>Western Victoria</th>\n",
       "      <td>4</td>\n",
       "      <td>2</td>\n",
       "      <td>8</td>\n",
       "      <td>11</td>\n",
       "      <td>69</td>\n",
       "      <td>21</td>\n",
       "      <td>115</td>\n",
       "    </tr>\n",
       "    <tr>\n",
       "      <th>All</th>\n",
       "      <td>3107</td>\n",
       "      <td>399</td>\n",
       "      <td>1661</td>\n",
       "      <td>4850</td>\n",
       "      <td>19743</td>\n",
       "      <td>5094</td>\n",
       "      <td>34854</td>\n",
       "    </tr>\n",
       "  </tbody>\n",
       "</table>\n",
       "</div>"
      ],
      "text/plain": [
       "Method                      oferta_vendedor  otro  sin_precio  traspasada  \\\n",
       "Regionname                                                                  \n",
       "Eastern Metropolitan                    408    53         357         677   \n",
       "Eastern Victoria                         23    11          16          30   \n",
       "Northern Metropolitan                   703    88         356        1271   \n",
       "Northern Victoria                        14     5          13          15   \n",
       "South-Eastern Metropolitan               99    38          98         263   \n",
       "Southern Metropolitan                  1369   109         562        1676   \n",
       "Western Metropolitan                    487    93         251         907   \n",
       "Western Victoria                          4     2           8          11   \n",
       "All                                    3107   399        1661        4850   \n",
       "\n",
       "Method                       vend  vend_ant    All  \n",
       "Regionname                                          \n",
       "Eastern Metropolitan         2338       544   4377  \n",
       "Eastern Victoria               99        49    228  \n",
       "Northern Metropolitan        5695      1444   9557  \n",
       "Northern Victoria             110        46    203  \n",
       "South-Eastern Metropolitan    980       261   1739  \n",
       "Southern Metropolitan        6699      1421  11836  \n",
       "Western Metropolitan         3753      1308   6799  \n",
       "Western Victoria               69        21    115  \n",
       "All                         19743      5094  34854  "
      ]
     },
     "execution_count": 24,
     "metadata": {},
     "output_type": "execute_result"
    }
   ],
   "source": [
    "pd.crosstab(index=Variables_cualitativas[\"Regionname\"],columns=Variables_cualitativas[\"Method\"],margins=True)# ver tiene setido comprarlas variables.  hacer graficas por variable\n",
    "#Mirar como son los barrios caros,etc. \n",
    "# ver las proporciones de ventas entre  S y SA ( por ejemplo) en diferenctre regiones. "
   ]
  },
  {
   "cell_type": "markdown",
   "metadata": {},
   "source": [
    "En esta tabla, se observa que las regiones  con as ventas siempre corresponden a las de la zonas metropolitanas. Esto es logico debido a que son la areas con mayor densidad de población. "
   ]
  },
  {
   "cell_type": "markdown",
   "metadata": {},
   "source": [
    "##  4.3 Selección de variables categóricas\n",
    "\n",
    "\n",
    "La selección de variables la hemos relizado mediante dos  prespectivas la agrupación por similitud entre las variables y la correlación con el precio. \n",
    "\n",
    "### 4.3.1 Agrupación por similitud \n",
    "\n",
    "#### Variables relacionadas con la localización\n",
    "\n",
    "Tras analizar las variables cualitativas podemos, obsevar que muchas de ellas se refieren a la localizacion del alojamiento. \n",
    "\n",
    "Tanto como \"Suburb\",\"Address\",\"CouncilArea\",\"Postcode\" cuentan con un numero muy amplio de categorías por lo que complicaría el desarrollo del modelo. La variable \"Regionname\" cuenta con un número(8 categorías) más adecuado y puede ser usasda para relacionar la localización con el precio. \n",
    "\n",
    "\n"
   ]
  },
  {
   "cell_type": "code",
   "execution_count": 25,
   "metadata": {},
   "outputs": [
    {
     "data": {
      "image/png": "[encoded data removed]",
      "text/plain": [
       "<Figure size 1080x576 with 1 Axes>"
      ]
     },
     "metadata": {
      "filenames": {
       "image/png": "/home/inma/HH_intro_git_ds/practicaFundamentosAD/_build/jupyter_execute/4-ProcesamientoVaribalesCualitativas_45_0.png"
      },
      "needs_background": "light"
     },
     "output_type": "display_data"
    }
   ],
   "source": [
    "\n",
    "var = 'Regionname'\n",
    "R = pd.concat([data['Price'], Variables_cualitativas[var]], axis=1)\n",
    "f, ax = plt.subplots(figsize=(15, 8))\n",
    "fig = sns.boxplot(x=var, y=\"Price\", data=R)\n",
    "fig.axis();"
   ]
  },
  {
   "cell_type": "markdown",
   "metadata": {},
   "source": [
    "Podemos observar que en las regiones metropolitanas el precio es ligeramente superior. Sobre todo en la \"Southern Metropolitan\".\n",
    "\n",
    "\n",
    "Para poder decidir cual de ellas es  mejor utilizar en nuestra regresion lineal,  usamos la funcion get_dummies para transformarlas en varibles factoriales "
   ]
  },
  {
   "cell_type": "markdown",
   "metadata": {},
   "source": [
    "#### Variable \"Type\"\n",
    "\n",
    "Analizamos la relacion entre la variables \"Type\" y la variables objetivo \"Price\"\n"
   ]
  },
  {
   "cell_type": "code",
   "execution_count": 26,
   "metadata": {},
   "outputs": [
    {
     "data": {
      "image/png": "[encoded data removed]",
      "text/plain": [
       "<Figure size 432x288 with 1 Axes>"
      ]
     },
     "metadata": {
      "filenames": {
       "image/png": "/home/inma/HH_intro_git_ds/practicaFundamentosAD/_build/jupyter_execute/4-ProcesamientoVaribalesCualitativas_48_0.png"
      }
     },
     "output_type": "display_data"
    }
   ],
   "source": [
    "\n",
    "p =pd.DataFrame(data[[\"Price\",\"Type\"]])\n",
    "p[\"Type\"].replace({\"br\":\"Dormitorio\",\"h\":\"Casa\",\"u\":\"Piso\",\"t\":\"Adosado\"}, inplace=True)\n",
    "#b=Variables_cualitativas[[\"Type\"]]\n",
    "\n",
    "sns.set_style(\"whitegrid\")               \n",
    "ax=sns.stripplot(x=\"Type\", y=\"Price\", data=p)"
   ]
  },
  {
   "cell_type": "markdown",
   "metadata": {},
   "source": [
    "Se observa que  la categoría \"Casa\"  no solo  prenseta  mayor  proponcion si no que además es mas  tiene unos precios mas altos. "
   ]
  },
  {
   "cell_type": "markdown",
   "metadata": {},
   "source": [
    "#### Variable \"SellerG\"\n",
    "\n",
    "Analizamos la relacion entre la variables \"SellerG\" y la variable objetivo \"Price\""
   ]
  },
  {
   "cell_type": "code",
   "execution_count": 27,
   "metadata": {},
   "outputs": [
    {
     "data": {
      "text/plain": [
       "[]"
      ]
     },
     "execution_count": 27,
     "metadata": {},
     "output_type": "execute_result"
    },
    {
     "data": {
      "image/png": "[encoded data removed]",
      "text/plain": [
       "<Figure size 432x288 with 1 Axes>"
      ]
     },
     "metadata": {
      "filenames": {
       "image/png": "/home/inma/HH_intro_git_ds/practicaFundamentosAD/_build/jupyter_execute/4-ProcesamientoVaribalesCualitativas_51_1.png"
      }
     },
     "output_type": "display_data"
    }
   ],
   "source": [
    "G =data[[\"Price\",\"SellerG\"]]\n",
    "sns.set_style(\"whitegrid\")\n",
    "ax=sns.stripplot(x=\"SellerG\", y=\"Price\", data=G)\n",
    "ax.plot()"
   ]
  },
  {
   "cell_type": "markdown",
   "metadata": {},
   "source": [
    "La Agencia de Venta son también contiene un número muy alto de  categorías 388, a priori parece que algunos de los \"SellerG\", están mas relacionados con un precio  mas alto o mas bajo. \n",
    " Sin embargo, estas agencias estan localizadas por zonas geograficas por lo tanto descartamos esta variable como posible para la primera creación de nuestro modelo. "
   ]
  },
  {
   "cell_type": "markdown",
   "metadata": {},
   "source": [
    "#### Variable \"Method\""
   ]
  },
  {
   "cell_type": "code",
   "execution_count": 28,
   "metadata": {},
   "outputs": [
    {
     "data": {
      "text/plain": [
       "[]"
      ]
     },
     "execution_count": 28,
     "metadata": {},
     "output_type": "execute_result"
    },
    {
     "data": {
      "image/png": "[encoded data removed]",
      "text/plain": [
       "<Figure size 432x288 with 1 Axes>"
      ]
     },
     "metadata": {
      "filenames": {
       "image/png": "/home/inma/HH_intro_git_ds/practicaFundamentosAD/_build/jupyter_execute/4-ProcesamientoVaribalesCualitativas_54_1.png"
      }
     },
     "output_type": "display_data"
    }
   ],
   "source": [
    "M=pd.DataFrame(data[\"Method\"].replace({\"S\":\"vend\",\"SP\":\"vend_ant\",\"PI\":\"traspasada\",\"PN\":\"vent_ant_x\",\"SN\":\"vent_x\",\"NB\":\"sin_oferta\",\"VB\":\"oferta_vendedor\",\"W\":\"retirada_sub\",\"SA\":\"pre_sub\",\"SS\":\"pre_sub_x\"}, inplace=True))\n",
    "M=M.replace({\"vent_ant_x\":\"sin_precio\",\"vent_x\":\"sin_precio\",\"sin_oferta\":\"sin_precio\",\"pre_sub_x\":\"sin_precio\",\"N/A\":\"sin_precio\",\"pre_sub\":\"otro\",\"retirada_sub\":\"otro\"})\n",
    "M =data[[\"Price\",\"Method\"]]\n",
    "#fig, (ax1) = plot.subplots(1,figsize=(12,6)\n",
    "sns.set_style(\"whitegrid\")\n",
    "ax=sns.stripplot(x=\"Method\", y=\"Price\", data=M,)\n",
    "ax.plot()"
   ]
  },
  {
   "cell_type": "markdown",
   "metadata": {},
   "source": [
    "#### Variable \"Date\""
   ]
  },
  {
   "cell_type": "code",
   "execution_count": 29,
   "metadata": {},
   "outputs": [
    {
     "data": {
      "image/png": "[encoded data removed]",
      "text/plain": [
       "<Figure size 504x504 with 3 Axes>"
      ]
     },
     "metadata": {
      "filenames": {
       "image/png": "/home/inma/HH_intro_git_ds/practicaFundamentosAD/_build/jupyter_execute/4-ProcesamientoVaribalesCualitativas_56_0.png"
      }
     },
     "output_type": "display_data"
    }
   ],
   "source": [
    "G =data[[\"Price\",\"Date\"]]\n",
    "G=G.sort_values('Date',ascending=False)\n",
    "with sns.axes_style(\"white\"):\n",
    "    sns.jointplot(x=\"Date\",y=\"Price\", data=G, kind=\"kde\",height=7,fill=True)\n"
   ]
  },
  {
   "cell_type": "markdown",
   "metadata": {},
   "source": [
    "### 4.4.2 Correlación de variables categóricas \n",
    "\n",
    "Observamos la corelación del cada una de las variables categóricas con el precio. PAra ellos hemos transformado las variables cualitativas en cuantitativas, creando variables dummies. "
   ]
  },
  {
   "cell_type": "code",
   "execution_count": 33,
   "metadata": {
    "scrolled": true
   },
   "outputs": [
    {
     "data": {
      "text/html": [
       "<div>\n",
       "<style scoped>\n",
       "    .dataframe tbody tr th:only-of-type {\n",
       "        vertical-align: middle;\n",
       "    }\n",
       "\n",
       "    .dataframe tbody tr th {\n",
       "        vertical-align: top;\n",
       "    }\n",
       "\n",
       "    .dataframe thead th {\n",
       "        text-align: right;\n",
       "    }\n",
       "</style>\n",
       "<table border=\"1\" class=\"dataframe\">\n",
       "  <thead>\n",
       "    <tr style=\"text-align: right;\">\n",
       "      <th></th>\n",
       "      <th>Suburb</th>\n",
       "      <th>Address</th>\n",
       "      <th>SellerG</th>\n",
       "      <th>CouncilArea</th>\n",
       "      <th>Postcode</th>\n",
       "      <th>Price</th>\n",
       "      <th>Regionname_Eastern Metropolitan</th>\n",
       "      <th>Regionname_Eastern Victoria</th>\n",
       "      <th>Regionname_Northern Metropolitan</th>\n",
       "      <th>Regionname_Northern Victoria</th>\n",
       "      <th>...</th>\n",
       "      <th>Date_8/07/2017</th>\n",
       "      <th>Date_8/10/2016</th>\n",
       "      <th>Date_9/09/2017</th>\n",
       "      <th>Date_9/12/2017</th>\n",
       "      <th>Method_oferta_vendedor</th>\n",
       "      <th>Method_otro</th>\n",
       "      <th>Method_sin_precio</th>\n",
       "      <th>Method_traspasada</th>\n",
       "      <th>Method_vend</th>\n",
       "      <th>Method_vend_ant</th>\n",
       "    </tr>\n",
       "  </thead>\n",
       "  <tbody>\n",
       "    <tr>\n",
       "      <th>0</th>\n",
       "      <td>Abbotsford</td>\n",
       "      <td>68 Studley St</td>\n",
       "      <td>Jellis</td>\n",
       "      <td>Yarra City Council</td>\n",
       "      <td>3067.0</td>\n",
       "      <td>NaN</td>\n",
       "      <td>0</td>\n",
       "      <td>0</td>\n",
       "      <td>1</td>\n",
       "      <td>0</td>\n",
       "      <td>...</td>\n",
       "      <td>0</td>\n",
       "      <td>0</td>\n",
       "      <td>0</td>\n",
       "      <td>0</td>\n",
       "      <td>0</td>\n",
       "      <td>0</td>\n",
       "      <td>1</td>\n",
       "      <td>0</td>\n",
       "      <td>0</td>\n",
       "      <td>0</td>\n",
       "    </tr>\n",
       "    <tr>\n",
       "      <th>1</th>\n",
       "      <td>Abbotsford</td>\n",
       "      <td>85 Turner St</td>\n",
       "      <td>Biggin</td>\n",
       "      <td>Yarra City Council</td>\n",
       "      <td>3067.0</td>\n",
       "      <td>1480000.0</td>\n",
       "      <td>0</td>\n",
       "      <td>0</td>\n",
       "      <td>1</td>\n",
       "      <td>0</td>\n",
       "      <td>...</td>\n",
       "      <td>0</td>\n",
       "      <td>0</td>\n",
       "      <td>0</td>\n",
       "      <td>0</td>\n",
       "      <td>0</td>\n",
       "      <td>0</td>\n",
       "      <td>0</td>\n",
       "      <td>0</td>\n",
       "      <td>1</td>\n",
       "      <td>0</td>\n",
       "    </tr>\n",
       "    <tr>\n",
       "      <th>2</th>\n",
       "      <td>Abbotsford</td>\n",
       "      <td>25 Bloomburg St</td>\n",
       "      <td>Biggin</td>\n",
       "      <td>Yarra City Council</td>\n",
       "      <td>3067.0</td>\n",
       "      <td>1035000.0</td>\n",
       "      <td>0</td>\n",
       "      <td>0</td>\n",
       "      <td>1</td>\n",
       "      <td>0</td>\n",
       "      <td>...</td>\n",
       "      <td>0</td>\n",
       "      <td>0</td>\n",
       "      <td>0</td>\n",
       "      <td>0</td>\n",
       "      <td>0</td>\n",
       "      <td>0</td>\n",
       "      <td>0</td>\n",
       "      <td>0</td>\n",
       "      <td>1</td>\n",
       "      <td>0</td>\n",
       "    </tr>\n",
       "    <tr>\n",
       "      <th>3</th>\n",
       "      <td>Abbotsford</td>\n",
       "      <td>18/659 Victoria St</td>\n",
       "      <td>Rounds</td>\n",
       "      <td>Yarra City Council</td>\n",
       "      <td>3067.0</td>\n",
       "      <td>NaN</td>\n",
       "      <td>0</td>\n",
       "      <td>0</td>\n",
       "      <td>1</td>\n",
       "      <td>0</td>\n",
       "      <td>...</td>\n",
       "      <td>0</td>\n",
       "      <td>0</td>\n",
       "      <td>0</td>\n",
       "      <td>0</td>\n",
       "      <td>1</td>\n",
       "      <td>0</td>\n",
       "      <td>0</td>\n",
       "      <td>0</td>\n",
       "      <td>0</td>\n",
       "      <td>0</td>\n",
       "    </tr>\n",
       "    <tr>\n",
       "      <th>4</th>\n",
       "      <td>Abbotsford</td>\n",
       "      <td>5 Charles St</td>\n",
       "      <td>Biggin</td>\n",
       "      <td>Yarra City Council</td>\n",
       "      <td>3067.0</td>\n",
       "      <td>1465000.0</td>\n",
       "      <td>0</td>\n",
       "      <td>0</td>\n",
       "      <td>1</td>\n",
       "      <td>0</td>\n",
       "      <td>...</td>\n",
       "      <td>0</td>\n",
       "      <td>0</td>\n",
       "      <td>0</td>\n",
       "      <td>0</td>\n",
       "      <td>0</td>\n",
       "      <td>0</td>\n",
       "      <td>0</td>\n",
       "      <td>0</td>\n",
       "      <td>0</td>\n",
       "      <td>1</td>\n",
       "    </tr>\n",
       "  </tbody>\n",
       "</table>\n",
       "<p>5 rows × 101 columns</p>\n",
       "</div>"
      ],
      "text/plain": [
       "       Suburb             Address SellerG         CouncilArea  Postcode  \\\n",
       "0  Abbotsford       68 Studley St  Jellis  Yarra City Council    3067.0   \n",
       "1  Abbotsford        85 Turner St  Biggin  Yarra City Council    3067.0   \n",
       "2  Abbotsford     25 Bloomburg St  Biggin  Yarra City Council    3067.0   \n",
       "3  Abbotsford  18/659 Victoria St  Rounds  Yarra City Council    3067.0   \n",
       "4  Abbotsford        5 Charles St  Biggin  Yarra City Council    3067.0   \n",
       "\n",
       "       Price  Regionname_Eastern Metropolitan  Regionname_Eastern Victoria  \\\n",
       "0        NaN                                0                            0   \n",
       "1  1480000.0                                0                            0   \n",
       "2  1035000.0                                0                            0   \n",
       "3        NaN                                0                            0   \n",
       "4  1465000.0                                0                            0   \n",
       "\n",
       "   Regionname_Northern Metropolitan  Regionname_Northern Victoria  ...  \\\n",
       "0                                 1                             0  ...   \n",
       "1                                 1                             0  ...   \n",
       "2                                 1                             0  ...   \n",
       "3                                 1                             0  ...   \n",
       "4                                 1                             0  ...   \n",
       "\n",
       "   Date_8/07/2017  Date_8/10/2016  Date_9/09/2017  Date_9/12/2017  \\\n",
       "0               0               0               0               0   \n",
       "1               0               0               0               0   \n",
       "2               0               0               0               0   \n",
       "3               0               0               0               0   \n",
       "4               0               0               0               0   \n",
       "\n",
       "   Method_oferta_vendedor  Method_otro  Method_sin_precio  Method_traspasada  \\\n",
       "0                       0            0                  1                  0   \n",
       "1                       0            0                  0                  0   \n",
       "2                       0            0                  0                  0   \n",
       "3                       1            0                  0                  0   \n",
       "4                       0            0                  0                  0   \n",
       "\n",
       "   Method_vend  Method_vend_ant  \n",
       "0            0                0  \n",
       "1            1                0  \n",
       "2            1                0  \n",
       "3            0                0  \n",
       "4            0                1  \n",
       "\n",
       "[5 rows x 101 columns]"
      ]
     },
     "execution_count": 33,
     "metadata": {},
     "output_type": "execute_result"
    }
   ],
   "source": [
    "Variables_cualitativas[\"Price\"]=data[\"Price\"]\n",
    "#Mantenemos todas la categorias de todas las variables para poder analizarlas por separado\n",
    "Variables_cualitativas_T=pd.get_dummies(Variables_cualitativas,columns = [\"Regionname\"])\n",
    "Variables_cualitativas_T=pd.get_dummies(Variables_cualitativas_T,columns = [\"Type\"])\n",
    "Variables_cualitativas_T=pd.get_dummies(Variables_cualitativas_T,columns = [\"Date\"])\n",
    "Variables_cualitativas_T=pd.get_dummies(Variables_cualitativas_T,columns = [\"Method\"])\n",
    "Variables_cualitativas_T.head()\n"
   ]
  },
  {
   "cell_type": "markdown",
   "metadata": {},
   "source": [
    "\n",
    "### Regionname "
   ]
  },
  {
   "cell_type": "code",
   "execution_count": 34,
   "metadata": {},
   "outputs": [
    {
     "data": {
      "text/plain": [
       "Price                          1.000000\n",
       "Regionname_Eastern Victoria   -0.040992\n",
       "Name: Price, dtype: float64"
      ]
     },
     "execution_count": 34,
     "metadata": {},
     "output_type": "execute_result"
    }
   ],
   "source": [
    "\n",
    "f=Variables_cualitativas_T[[\"Price\",\"Regionname_Eastern Victoria\"]]\n",
    "corr_matrix=f.corr(method='pearson')         \n",
    "corr_matrix[\"Price\"].sort_values(ascending=False)"
   ]
  },
  {
   "cell_type": "code",
   "execution_count": 35,
   "metadata": {},
   "outputs": [
    {
     "data": {
      "text/plain": [
       "Price                               1.000000\n",
       "Regionname_Northern Metropolitan   -0.187367\n",
       "Name: Price, dtype: float64"
      ]
     },
     "execution_count": 35,
     "metadata": {},
     "output_type": "execute_result"
    }
   ],
   "source": [
    "f=Variables_cualitativas_T[[\"Price\",\"Regionname_Northern Metropolitan\"]]\n",
    "corr_matrix=f.corr(method='pearson')         \n",
    "corr_matrix[\"Price\"].sort_values(ascending=False)"
   ]
  },
  {
   "cell_type": "code",
   "execution_count": 36,
   "metadata": {},
   "outputs": [
    {
     "data": {
      "text/plain": [
       "Price                           1.000000\n",
       "Regionname_Northern Victoria   -0.052621\n",
       "Name: Price, dtype: float64"
      ]
     },
     "execution_count": 36,
     "metadata": {},
     "output_type": "execute_result"
    }
   ],
   "source": [
    "f=Variables_cualitativas_T[[\"Price\",\"Regionname_Northern Victoria\"]]\n",
    "corr_matrix=f.corr(method='pearson')         \n",
    "corr_matrix[\"Price\"].sort_values(ascending=False)"
   ]
  },
  {
   "cell_type": "code",
   "execution_count": 37,
   "metadata": {},
   "outputs": [
    {
     "data": {
      "text/plain": [
       "Price                                    1.000000\n",
       "Regionname_South-Eastern Metropolitan   -0.061181\n",
       "Name: Price, dtype: float64"
      ]
     },
     "execution_count": 37,
     "metadata": {},
     "output_type": "execute_result"
    }
   ],
   "source": [
    "f=Variables_cualitativas_T[[\"Price\",\"Regionname_South-Eastern Metropolitan\"]]\n",
    "corr_matrix=f.corr(method='pearson')         \n",
    "corr_matrix[\"Price\"].sort_values(ascending=False)"
   ]
  },
  {
   "cell_type": "code",
   "execution_count": 38,
   "metadata": {},
   "outputs": [
    {
     "data": {
      "text/plain": [
       "Price                               1.000000\n",
       "Regionname_Southern Metropolitan    0.363694\n",
       "Name: Price, dtype: float64"
      ]
     },
     "execution_count": 38,
     "metadata": {},
     "output_type": "execute_result"
    }
   ],
   "source": [
    "f=Variables_cualitativas_T[[\"Price\",\"Regionname_Southern Metropolitan\"]]\n",
    "corr_matrix=f.corr(method='pearson')         \n",
    "corr_matrix[\"Price\"].sort_values(ascending=False)"
   ]
  },
  {
   "cell_type": "code",
   "execution_count": 39,
   "metadata": {},
   "outputs": [
    {
     "data": {
      "text/plain": [
       "Price                              1.000000\n",
       "Regionname_Western Metropolitan   -0.172605\n",
       "Name: Price, dtype: float64"
      ]
     },
     "execution_count": 39,
     "metadata": {},
     "output_type": "execute_result"
    }
   ],
   "source": [
    "f=Variables_cualitativas_T[[\"Price\",\"Regionname_Western Metropolitan\"]]\n",
    "corr_matrix=f.corr(method='pearson')         \n",
    "corr_matrix[\"Price\"].sort_values(ascending=False)"
   ]
  },
  {
   "cell_type": "code",
   "execution_count": 40,
   "metadata": {},
   "outputs": [
    {
     "data": {
      "text/plain": [
       "Price                          1.000000\n",
       "Regionname_Western Victoria   -0.057248\n",
       "Name: Price, dtype: float64"
      ]
     },
     "execution_count": 40,
     "metadata": {},
     "output_type": "execute_result"
    }
   ],
   "source": [
    "f=Variables_cualitativas_T[[\"Price\",\"Regionname_Western Victoria\"]]\n",
    "corr_matrix=f.corr(method='pearson')         \n",
    "corr_matrix[\"Price\"].sort_values(ascending=False)"
   ]
  },
  {
   "cell_type": "code",
   "execution_count": 41,
   "metadata": {},
   "outputs": [
    {
     "data": {
      "text/plain": [
       "Price                              1.00000\n",
       "Regionname_Eastern Metropolitan    0.03372\n",
       "Name: Price, dtype: float64"
      ]
     },
     "execution_count": 41,
     "metadata": {},
     "output_type": "execute_result"
    }
   ],
   "source": [
    "f=Variables_cualitativas_T[[\"Price\",\"Regionname_Eastern Metropolitan\"]]\n",
    "corr_matrix=f.corr(method='pearson')         \n",
    "corr_matrix[\"Price\"].sort_values(ascending=False)"
   ]
  },
  {
   "cell_type": "markdown",
   "metadata": {},
   "source": [
    "### Type\n"
   ]
  },
  {
   "cell_type": "code",
   "execution_count": 42,
   "metadata": {},
   "outputs": [
    {
     "data": {
      "text/plain": [
       "Price        1.000000\n",
       "Type_Casa    0.347299\n",
       "Name: Price, dtype: float64"
      ]
     },
     "execution_count": 42,
     "metadata": {},
     "output_type": "execute_result"
    }
   ],
   "source": [
    "f=Variables_cualitativas_T[[\"Price\",\"Type_Casa\"]]\n",
    "corr_matrix=f.corr(method='pearson')         \n",
    "corr_matrix[\"Price\"].sort_values(ascending=False)"
   ]
  },
  {
   "cell_type": "code",
   "execution_count": 43,
   "metadata": {},
   "outputs": [
    {
     "data": {
      "text/plain": [
       "Price        1.000000\n",
       "Type_Piso   -0.346388\n",
       "Name: Price, dtype: float64"
      ]
     },
     "execution_count": 43,
     "metadata": {},
     "output_type": "execute_result"
    }
   ],
   "source": [
    "f=Variables_cualitativas_T[[\"Price\",\"Type_Piso\"]]\n",
    "corr_matrix=f.corr(method='pearson')         \n",
    "corr_matrix[\"Price\"].sort_values(ascending=False)"
   ]
  },
  {
   "cell_type": "code",
   "execution_count": 44,
   "metadata": {},
   "outputs": [
    {
     "data": {
      "text/plain": [
       "Price           1.000000\n",
       "Type_Adosado   -0.063657\n",
       "Name: Price, dtype: float64"
      ]
     },
     "execution_count": 44,
     "metadata": {},
     "output_type": "execute_result"
    }
   ],
   "source": [
    "f=Variables_cualitativas_T[[\"Price\",\"Type_Adosado\"]]\n",
    "corr_matrix=f.corr(method='pearson')         \n",
    "corr_matrix[\"Price\"].sort_values(ascending=False)"
   ]
  },
  {
   "cell_type": "markdown",
   "metadata": {},
   "source": [
    "### Method \n"
   ]
  },
  {
   "cell_type": "code",
   "execution_count": 45,
   "metadata": {},
   "outputs": [
    {
     "data": {
      "text/plain": [
       "Price          1.00000\n",
       "Method_otro   -0.00884\n",
       "Name: Price, dtype: float64"
      ]
     },
     "execution_count": 45,
     "metadata": {},
     "output_type": "execute_result"
    }
   ],
   "source": [
    "f=Variables_cualitativas_T[[\"Price\",\"Method_otro\"]]\n",
    "corr_matrix=f.corr(method='pearson')         \n",
    "corr_matrix[\"Price\"].sort_values(ascending=False)"
   ]
  },
  {
   "cell_type": "code",
   "execution_count": 46,
   "metadata": {},
   "outputs": [
    {
     "data": {
      "text/plain": [
       "Price                1.0\n",
       "Method_sin_precio    NaN\n",
       "Name: Price, dtype: float64"
      ]
     },
     "execution_count": 46,
     "metadata": {},
     "output_type": "execute_result"
    }
   ],
   "source": [
    "f=Variables_cualitativas_T[[\"Price\",\"Method_sin_precio\"]]\n",
    "corr_matrix=f.corr(method='pearson')         \n",
    "corr_matrix[\"Price\"].sort_values(ascending=False)"
   ]
  },
  {
   "cell_type": "code",
   "execution_count": 47,
   "metadata": {},
   "outputs": [
    {
     "data": {
      "text/plain": [
       "Price                1.000000\n",
       "Method_traspasada    0.038881\n",
       "Name: Price, dtype: float64"
      ]
     },
     "execution_count": 47,
     "metadata": {},
     "output_type": "execute_result"
    }
   ],
   "source": [
    "f=Variables_cualitativas_T[[\"Price\",\"Method_traspasada\"]]\n",
    "corr_matrix=f.corr(method='pearson')         \n",
    "corr_matrix[\"Price\"].sort_values(ascending=False)"
   ]
  },
  {
   "cell_type": "code",
   "execution_count": 48,
   "metadata": {},
   "outputs": [
    {
     "data": {
      "text/plain": [
       "Price          1.000000\n",
       "Method_vend    0.002691\n",
       "Name: Price, dtype: float64"
      ]
     },
     "execution_count": 48,
     "metadata": {},
     "output_type": "execute_result"
    }
   ],
   "source": [
    "f=Variables_cualitativas_T[[\"Price\",\"Method_vend\"]]\n",
    "corr_matrix=f.corr(method='pearson')         \n",
    "corr_matrix[\"Price\"].sort_values(ascending=False)"
   ]
  },
  {
   "cell_type": "code",
   "execution_count": 49,
   "metadata": {},
   "outputs": [
    {
     "data": {
      "text/plain": [
       "Price              1.000000\n",
       "Method_vend_ant   -0.104156\n",
       "Name: Price, dtype: float64"
      ]
     },
     "execution_count": 49,
     "metadata": {},
     "output_type": "execute_result"
    }
   ],
   "source": [
    "f=Variables_cualitativas_T[[\"Price\",\"Method_vend_ant\"]]\n",
    "corr_matrix=f.corr(method='pearson')         \n",
    "corr_matrix[\"Price\"].sort_values(ascending=False)"
   ]
  },
  {
   "cell_type": "code",
   "execution_count": 50,
   "metadata": {},
   "outputs": [
    {
     "data": {
      "text/plain": [
       "Price                     1.000000\n",
       "Method_oferta_vendedor    0.074224\n",
       "Name: Price, dtype: float64"
      ]
     },
     "execution_count": 50,
     "metadata": {},
     "output_type": "execute_result"
    }
   ],
   "source": [
    "f=Variables_cualitativas_T[[\"Price\",\"Method_oferta_vendedor\"]]\n",
    "corr_matrix=f.corr(method='pearson')         \n",
    "corr_matrix[\"Price\"].sort_values(ascending=False)\n"
   ]
  },
  {
   "cell_type": "markdown",
   "metadata": {},
   "source": [
    "En general, la correlación de las categorías con la variable precio es baja, pero cabe destacar \"Type_Casa\" y \"Regionname_South-Eastern Metropolitan\" ambas superiores a 0,3.\n",
    "\n",
    "Selecionaremos por lo tanto las variables categóricas \"Type\", \"Regionname\" y \" Method\""
   ]
  },
  {
   "cell_type": "markdown",
   "metadata": {},
   "source": []
  },
  {
   "cell_type": "markdown",
   "metadata": {},
   "source": [
    "## 4.5 Transformación de variables categóricas \n",
    "\n",
    "Despues de la selección de variables vamos a proceder a transformarlas para su uso porterior en el modelo. "
   ]
  },
  {
   "cell_type": "code",
   "execution_count": 51,
   "metadata": {},
   "outputs": [],
   "source": [
    "Variables_cualitativas_T=pd.get_dummies(Variables_cualitativas,columns = [\"Regionname\"],drop_first= True)\n",
    "Variables_cualitativas_T=pd.get_dummies(Variables_cualitativas_T,columns = [\"Type\"],drop_first= True)\n",
    "Variables_cualitativas_T=pd.get_dummies(Variables_cualitativas_T,columns = [\"Date\"],drop_first= True)\n",
    "Variables_cualitativas_T=pd.get_dummies(Variables_cualitativas_T,columns = [\"Method\"],drop_first= True)"
   ]
  },
  {
   "cell_type": "code",
   "execution_count": 52,
   "metadata": {},
   "outputs": [
    {
     "data": {
      "text/html": [
       "<div>\n",
       "<style scoped>\n",
       "    .dataframe tbody tr th:only-of-type {\n",
       "        vertical-align: middle;\n",
       "    }\n",
       "\n",
       "    .dataframe tbody tr th {\n",
       "        vertical-align: top;\n",
       "    }\n",
       "\n",
       "    .dataframe thead th {\n",
       "        text-align: right;\n",
       "    }\n",
       "</style>\n",
       "<table border=\"1\" class=\"dataframe\">\n",
       "  <thead>\n",
       "    <tr style=\"text-align: right;\">\n",
       "      <th></th>\n",
       "      <th>Suburb</th>\n",
       "      <th>Address</th>\n",
       "      <th>SellerG</th>\n",
       "      <th>CouncilArea</th>\n",
       "      <th>Postcode</th>\n",
       "      <th>Price</th>\n",
       "      <th>Regionname_Eastern Victoria</th>\n",
       "      <th>Regionname_Northern Metropolitan</th>\n",
       "      <th>Regionname_Northern Victoria</th>\n",
       "      <th>Regionname_South-Eastern Metropolitan</th>\n",
       "      <th>...</th>\n",
       "      <th>Date_8/04/2017</th>\n",
       "      <th>Date_8/07/2017</th>\n",
       "      <th>Date_8/10/2016</th>\n",
       "      <th>Date_9/09/2017</th>\n",
       "      <th>Date_9/12/2017</th>\n",
       "      <th>Method_otro</th>\n",
       "      <th>Method_sin_precio</th>\n",
       "      <th>Method_traspasada</th>\n",
       "      <th>Method_vend</th>\n",
       "      <th>Method_vend_ant</th>\n",
       "    </tr>\n",
       "  </thead>\n",
       "  <tbody>\n",
       "    <tr>\n",
       "      <th>0</th>\n",
       "      <td>Abbotsford</td>\n",
       "      <td>68 Studley St</td>\n",
       "      <td>Jellis</td>\n",
       "      <td>Yarra City Council</td>\n",
       "      <td>3067.0</td>\n",
       "      <td>NaN</td>\n",
       "      <td>0</td>\n",
       "      <td>1</td>\n",
       "      <td>0</td>\n",
       "      <td>0</td>\n",
       "      <td>...</td>\n",
       "      <td>0</td>\n",
       "      <td>0</td>\n",
       "      <td>0</td>\n",
       "      <td>0</td>\n",
       "      <td>0</td>\n",
       "      <td>0</td>\n",
       "      <td>1</td>\n",
       "      <td>0</td>\n",
       "      <td>0</td>\n",
       "      <td>0</td>\n",
       "    </tr>\n",
       "    <tr>\n",
       "      <th>1</th>\n",
       "      <td>Abbotsford</td>\n",
       "      <td>85 Turner St</td>\n",
       "      <td>Biggin</td>\n",
       "      <td>Yarra City Council</td>\n",
       "      <td>3067.0</td>\n",
       "      <td>1480000.0</td>\n",
       "      <td>0</td>\n",
       "      <td>1</td>\n",
       "      <td>0</td>\n",
       "      <td>0</td>\n",
       "      <td>...</td>\n",
       "      <td>0</td>\n",
       "      <td>0</td>\n",
       "      <td>0</td>\n",
       "      <td>0</td>\n",
       "      <td>0</td>\n",
       "      <td>0</td>\n",
       "      <td>0</td>\n",
       "      <td>0</td>\n",
       "      <td>1</td>\n",
       "      <td>0</td>\n",
       "    </tr>\n",
       "    <tr>\n",
       "      <th>2</th>\n",
       "      <td>Abbotsford</td>\n",
       "      <td>25 Bloomburg St</td>\n",
       "      <td>Biggin</td>\n",
       "      <td>Yarra City Council</td>\n",
       "      <td>3067.0</td>\n",
       "      <td>1035000.0</td>\n",
       "      <td>0</td>\n",
       "      <td>1</td>\n",
       "      <td>0</td>\n",
       "      <td>0</td>\n",
       "      <td>...</td>\n",
       "      <td>0</td>\n",
       "      <td>0</td>\n",
       "      <td>0</td>\n",
       "      <td>0</td>\n",
       "      <td>0</td>\n",
       "      <td>0</td>\n",
       "      <td>0</td>\n",
       "      <td>0</td>\n",
       "      <td>1</td>\n",
       "      <td>0</td>\n",
       "    </tr>\n",
       "    <tr>\n",
       "      <th>3</th>\n",
       "      <td>Abbotsford</td>\n",
       "      <td>18/659 Victoria St</td>\n",
       "      <td>Rounds</td>\n",
       "      <td>Yarra City Council</td>\n",
       "      <td>3067.0</td>\n",
       "      <td>NaN</td>\n",
       "      <td>0</td>\n",
       "      <td>1</td>\n",
       "      <td>0</td>\n",
       "      <td>0</td>\n",
       "      <td>...</td>\n",
       "      <td>0</td>\n",
       "      <td>0</td>\n",
       "      <td>0</td>\n",
       "      <td>0</td>\n",
       "      <td>0</td>\n",
       "      <td>0</td>\n",
       "      <td>0</td>\n",
       "      <td>0</td>\n",
       "      <td>0</td>\n",
       "      <td>0</td>\n",
       "    </tr>\n",
       "    <tr>\n",
       "      <th>4</th>\n",
       "      <td>Abbotsford</td>\n",
       "      <td>5 Charles St</td>\n",
       "      <td>Biggin</td>\n",
       "      <td>Yarra City Council</td>\n",
       "      <td>3067.0</td>\n",
       "      <td>1465000.0</td>\n",
       "      <td>0</td>\n",
       "      <td>1</td>\n",
       "      <td>0</td>\n",
       "      <td>0</td>\n",
       "      <td>...</td>\n",
       "      <td>0</td>\n",
       "      <td>0</td>\n",
       "      <td>0</td>\n",
       "      <td>0</td>\n",
       "      <td>0</td>\n",
       "      <td>0</td>\n",
       "      <td>0</td>\n",
       "      <td>0</td>\n",
       "      <td>0</td>\n",
       "      <td>1</td>\n",
       "    </tr>\n",
       "    <tr>\n",
       "      <th>...</th>\n",
       "      <td>...</td>\n",
       "      <td>...</td>\n",
       "      <td>...</td>\n",
       "      <td>...</td>\n",
       "      <td>...</td>\n",
       "      <td>...</td>\n",
       "      <td>...</td>\n",
       "      <td>...</td>\n",
       "      <td>...</td>\n",
       "      <td>...</td>\n",
       "      <td>...</td>\n",
       "      <td>...</td>\n",
       "      <td>...</td>\n",
       "      <td>...</td>\n",
       "      <td>...</td>\n",
       "      <td>...</td>\n",
       "      <td>...</td>\n",
       "      <td>...</td>\n",
       "      <td>...</td>\n",
       "      <td>...</td>\n",
       "      <td>...</td>\n",
       "    </tr>\n",
       "    <tr>\n",
       "      <th>34852</th>\n",
       "      <td>Yarraville</td>\n",
       "      <td>13 Burns St</td>\n",
       "      <td>Jas</td>\n",
       "      <td>Maribyrnong City Council</td>\n",
       "      <td>3013.0</td>\n",
       "      <td>1480000.0</td>\n",
       "      <td>0</td>\n",
       "      <td>0</td>\n",
       "      <td>0</td>\n",
       "      <td>0</td>\n",
       "      <td>...</td>\n",
       "      <td>0</td>\n",
       "      <td>0</td>\n",
       "      <td>0</td>\n",
       "      <td>0</td>\n",
       "      <td>0</td>\n",
       "      <td>0</td>\n",
       "      <td>0</td>\n",
       "      <td>1</td>\n",
       "      <td>0</td>\n",
       "      <td>0</td>\n",
       "    </tr>\n",
       "    <tr>\n",
       "      <th>34853</th>\n",
       "      <td>Yarraville</td>\n",
       "      <td>29A Murray St</td>\n",
       "      <td>Sweeney</td>\n",
       "      <td>Maribyrnong City Council</td>\n",
       "      <td>3013.0</td>\n",
       "      <td>888000.0</td>\n",
       "      <td>0</td>\n",
       "      <td>0</td>\n",
       "      <td>0</td>\n",
       "      <td>0</td>\n",
       "      <td>...</td>\n",
       "      <td>0</td>\n",
       "      <td>0</td>\n",
       "      <td>0</td>\n",
       "      <td>0</td>\n",
       "      <td>0</td>\n",
       "      <td>0</td>\n",
       "      <td>0</td>\n",
       "      <td>0</td>\n",
       "      <td>0</td>\n",
       "      <td>1</td>\n",
       "    </tr>\n",
       "    <tr>\n",
       "      <th>34854</th>\n",
       "      <td>Yarraville</td>\n",
       "      <td>147A Severn St</td>\n",
       "      <td>Jas</td>\n",
       "      <td>Maribyrnong City Council</td>\n",
       "      <td>3013.0</td>\n",
       "      <td>705000.0</td>\n",
       "      <td>0</td>\n",
       "      <td>0</td>\n",
       "      <td>0</td>\n",
       "      <td>0</td>\n",
       "      <td>...</td>\n",
       "      <td>0</td>\n",
       "      <td>0</td>\n",
       "      <td>0</td>\n",
       "      <td>0</td>\n",
       "      <td>0</td>\n",
       "      <td>0</td>\n",
       "      <td>0</td>\n",
       "      <td>0</td>\n",
       "      <td>1</td>\n",
       "      <td>0</td>\n",
       "    </tr>\n",
       "    <tr>\n",
       "      <th>34855</th>\n",
       "      <td>Yarraville</td>\n",
       "      <td>12/37 Stephen St</td>\n",
       "      <td>hockingstuart</td>\n",
       "      <td>Maribyrnong City Council</td>\n",
       "      <td>3013.0</td>\n",
       "      <td>1140000.0</td>\n",
       "      <td>0</td>\n",
       "      <td>0</td>\n",
       "      <td>0</td>\n",
       "      <td>0</td>\n",
       "      <td>...</td>\n",
       "      <td>0</td>\n",
       "      <td>0</td>\n",
       "      <td>0</td>\n",
       "      <td>0</td>\n",
       "      <td>0</td>\n",
       "      <td>0</td>\n",
       "      <td>0</td>\n",
       "      <td>0</td>\n",
       "      <td>0</td>\n",
       "      <td>1</td>\n",
       "    </tr>\n",
       "    <tr>\n",
       "      <th>34856</th>\n",
       "      <td>Yarraville</td>\n",
       "      <td>3 Tarrengower St</td>\n",
       "      <td>RW</td>\n",
       "      <td>Maribyrnong City Council</td>\n",
       "      <td>3013.0</td>\n",
       "      <td>1020000.0</td>\n",
       "      <td>0</td>\n",
       "      <td>0</td>\n",
       "      <td>0</td>\n",
       "      <td>0</td>\n",
       "      <td>...</td>\n",
       "      <td>0</td>\n",
       "      <td>0</td>\n",
       "      <td>0</td>\n",
       "      <td>0</td>\n",
       "      <td>0</td>\n",
       "      <td>0</td>\n",
       "      <td>0</td>\n",
       "      <td>1</td>\n",
       "      <td>0</td>\n",
       "      <td>0</td>\n",
       "    </tr>\n",
       "  </tbody>\n",
       "</table>\n",
       "<p>34857 rows × 97 columns</p>\n",
       "</div>"
      ],
      "text/plain": [
       "           Suburb             Address        SellerG  \\\n",
       "0      Abbotsford       68 Studley St         Jellis   \n",
       "1      Abbotsford        85 Turner St         Biggin   \n",
       "2      Abbotsford     25 Bloomburg St         Biggin   \n",
       "3      Abbotsford  18/659 Victoria St         Rounds   \n",
       "4      Abbotsford        5 Charles St         Biggin   \n",
       "...           ...                 ...            ...   \n",
       "34852  Yarraville         13 Burns St            Jas   \n",
       "34853  Yarraville       29A Murray St        Sweeney   \n",
       "34854  Yarraville      147A Severn St            Jas   \n",
       "34855  Yarraville    12/37 Stephen St  hockingstuart   \n",
       "34856  Yarraville    3 Tarrengower St             RW   \n",
       "\n",
       "                    CouncilArea  Postcode      Price  \\\n",
       "0            Yarra City Council    3067.0        NaN   \n",
       "1            Yarra City Council    3067.0  1480000.0   \n",
       "2            Yarra City Council    3067.0  1035000.0   \n",
       "3            Yarra City Council    3067.0        NaN   \n",
       "4            Yarra City Council    3067.0  1465000.0   \n",
       "...                         ...       ...        ...   \n",
       "34852  Maribyrnong City Council    3013.0  1480000.0   \n",
       "34853  Maribyrnong City Council    3013.0   888000.0   \n",
       "34854  Maribyrnong City Council    3013.0   705000.0   \n",
       "34855  Maribyrnong City Council    3013.0  1140000.0   \n",
       "34856  Maribyrnong City Council    3013.0  1020000.0   \n",
       "\n",
       "       Regionname_Eastern Victoria  Regionname_Northern Metropolitan  \\\n",
       "0                                0                                 1   \n",
       "1                                0                                 1   \n",
       "2                                0                                 1   \n",
       "3                                0                                 1   \n",
       "4                                0                                 1   \n",
       "...                            ...                               ...   \n",
       "34852                            0                                 0   \n",
       "34853                            0                                 0   \n",
       "34854                            0                                 0   \n",
       "34855                            0                                 0   \n",
       "34856                            0                                 0   \n",
       "\n",
       "       Regionname_Northern Victoria  Regionname_South-Eastern Metropolitan  \\\n",
       "0                                 0                                      0   \n",
       "1                                 0                                      0   \n",
       "2                                 0                                      0   \n",
       "3                                 0                                      0   \n",
       "4                                 0                                      0   \n",
       "...                             ...                                    ...   \n",
       "34852                             0                                      0   \n",
       "34853                             0                                      0   \n",
       "34854                             0                                      0   \n",
       "34855                             0                                      0   \n",
       "34856                             0                                      0   \n",
       "\n",
       "       ...  Date_8/04/2017  Date_8/07/2017  Date_8/10/2016  Date_9/09/2017  \\\n",
       "0      ...               0               0               0               0   \n",
       "1      ...               0               0               0               0   \n",
       "2      ...               0               0               0               0   \n",
       "3      ...               0               0               0               0   \n",
       "4      ...               0               0               0               0   \n",
       "...    ...             ...             ...             ...             ...   \n",
       "34852  ...               0               0               0               0   \n",
       "34853  ...               0               0               0               0   \n",
       "34854  ...               0               0               0               0   \n",
       "34855  ...               0               0               0               0   \n",
       "34856  ...               0               0               0               0   \n",
       "\n",
       "       Date_9/12/2017  Method_otro  Method_sin_precio  Method_traspasada  \\\n",
       "0                   0            0                  1                  0   \n",
       "1                   0            0                  0                  0   \n",
       "2                   0            0                  0                  0   \n",
       "3                   0            0                  0                  0   \n",
       "4                   0            0                  0                  0   \n",
       "...               ...          ...                ...                ...   \n",
       "34852               0            0                  0                  1   \n",
       "34853               0            0                  0                  0   \n",
       "34854               0            0                  0                  0   \n",
       "34855               0            0                  0                  0   \n",
       "34856               0            0                  0                  1   \n",
       "\n",
       "       Method_vend  Method_vend_ant  \n",
       "0                0                0  \n",
       "1                1                0  \n",
       "2                1                0  \n",
       "3                0                0  \n",
       "4                0                1  \n",
       "...            ...              ...  \n",
       "34852            0                0  \n",
       "34853            0                1  \n",
       "34854            1                0  \n",
       "34855            0                1  \n",
       "34856            0                0  \n",
       "\n",
       "[34857 rows x 97 columns]"
      ]
     },
     "execution_count": 52,
     "metadata": {},
     "output_type": "execute_result"
    }
   ],
   "source": [
    "Variables_cualitativas_T"
   ]
  },
  {
   "cell_type": "code",
   "execution_count": 55,
   "metadata": {},
   "outputs": [],
   "source": [
    "Variables_cualitativas_T.to_csv('precios_casas_cualitativas.csv', index=False)"
   ]
  }
 ],
 "metadata": {
  "kernelspec": {
   "display_name": "Python 3",
   "language": "python",
   "name": "python3"
  },
  "language_info": {
   "codemirror_mode": {
    "name": "ipython",
    "version": 3
   },
   "file_extension": ".py",
   "mimetype": "text/x-python",
   "name": "python",
   "nbconvert_exporter": "python",
   "pygments_lexer": "ipython3",
   "version": "3.8.3"
  }
 },
 "nbformat": 4,
 "nbformat_minor": 4
}