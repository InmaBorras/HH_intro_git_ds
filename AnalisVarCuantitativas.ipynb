{
 "cells": [
  {
   "cell_type": "code",
<<<<<<< HEAD
   "execution_count": 39,
=======
   "execution_count": 1,
>>>>>>> c0637582118b4ae56d6f6430d04c2414c366ecb2
   "metadata": {},
   "outputs": [],
   "source": [
    "import pandas as pd \n",
    "import numpy as np\n",
    "from plotnine import ggplot, aes, geom_line, geom_point, geom_bar, geom_boxplot\n",
    "dataframe = pd.read_csv('/home/ruben/Fundamentos-de-Analisis-de-DAtos-I/Practica/Melbourne_housing_FULL.csv')\n",
    "import scipy.stats as ss\n",
    "import matplotlib.pyplot as plot\n",
    "import seaborn as sb\n",
    "from seaborn import kdeplot\n",
    "def quartile_skew(x):\n",
    "  q = x.quantile([.25, .50, .75]) \n",
    "  return ((q[0.75] - q[0.5]) - (q[0.5] - q[0.25])) / (q[0.75] - q[0.25])\n",
    "  \n",
    "\n",
    "def mostrar_analisis_var_cuantitativas(data):\n",
    "    #calcular coeficiente de variacion\n",
    " datos_variable=pd.DataFrame([{\"coeficiente de Variacion\":(data.std()/data.mean())*100,\\\n",
    "                 \"rango de la variable\":data.max() - data.min(),\n",
    "                 \"rango intercuartilico\":data.quantile(0.75) - data.quantile(0.25),\n",
    "                 \"coeficiente de asimetria\":quartile_skew(data)}])\n",
    " return(datos_variable)\n",
<<<<<<< HEAD
    "\n",
    "def mostrar_graf_variables_continuas(data,column):\n",
    "    sb.set_theme(style=\"whitegrid\")\n",
    "    fig, (ax1,ax2) = plot.subplots(1,2,figsize=(12,6))\n",
    "    sb.histplot(data=data,x=column,ax=ax1)\n",
    "    sb.boxplot(data=data,x=column,ax=ax2)\n",
    "    sb.displot(data=data, x=column,kind=\"kde\")\n",
    "    return plot.show()"
=======
    "       "
>>>>>>> c0637582118b4ae56d6f6430d04c2414c366ecb2
   ]
  },
  {
   "cell_type": "markdown",
   "metadata": {},
   "source": [
    "En primer lugar vamos a realizar una inspeccion ocular del dataset:\n"
   ]
  },
  {
   "cell_type": "code",
<<<<<<< HEAD
   "execution_count": 2,
=======
   "execution_count": 53,
>>>>>>> c0637582118b4ae56d6f6430d04c2414c366ecb2
   "metadata": {},
   "outputs": [
    {
     "name": "stdout",
     "output_type": "stream",
     "text": [
      "precio medio 2016  1063226.505338962\n",
      "precio medio 2017  1051144.058702236\n",
      "precio medio 2018  1017458.4129014697\n"
     ]
    },
    {
     "data": {
      "text/html": [
       "<div>\n",
       "<style scoped>\n",
       "    .dataframe tbody tr th:only-of-type {\n",
       "        vertical-align: middle;\n",
       "    }\n",
       "\n",
       "    .dataframe tbody tr th {\n",
       "        vertical-align: top;\n",
       "    }\n",
       "\n",
       "    .dataframe thead th {\n",
       "        text-align: right;\n",
       "    }\n",
       "</style>\n",
       "<table border=\"1\" class=\"dataframe\">\n",
       "  <thead>\n",
       "    <tr style=\"text-align: right;\">\n",
       "      <th></th>\n",
       "      <th>Rooms</th>\n",
       "      <th>Price</th>\n",
       "      <th>Distance</th>\n",
       "      <th>Postcode</th>\n",
       "      <th>Bedroom2</th>\n",
       "      <th>Bathroom</th>\n",
       "      <th>Car</th>\n",
       "      <th>Landsize</th>\n",
       "      <th>BuildingArea</th>\n",
       "      <th>YearBuilt</th>\n",
       "      <th>Lattitude</th>\n",
       "      <th>Longtitude</th>\n",
       "      <th>Propertycount</th>\n",
       "    </tr>\n",
       "  </thead>\n",
       "  <tbody>\n",
       "    <tr>\n",
       "      <th>count</th>\n",
       "      <td>19852.000000</td>\n",
       "      <td>1.551900e+04</td>\n",
       "      <td>19852.000000</td>\n",
       "      <td>19852.000000</td>\n",
       "      <td>15207.000000</td>\n",
       "      <td>15201.000000</td>\n",
       "      <td>14862.000000</td>\n",
       "      <td>11965.000000</td>\n",
       "      <td>7467.000000</td>\n",
       "      <td>8469.000000</td>\n",
       "      <td>15355.000000</td>\n",
       "      <td>15355.000000</td>\n",
       "      <td>19850.000000</td>\n",
       "    </tr>\n",
       "    <tr>\n",
       "      <th>mean</th>\n",
       "      <td>3.075811</td>\n",
       "      <td>1.051144e+06</td>\n",
       "      <td>12.056569</td>\n",
       "      <td>3122.129005</td>\n",
       "      <td>3.146446</td>\n",
       "      <td>1.642655</td>\n",
       "      <td>1.777890</td>\n",
       "      <td>679.551442</td>\n",
       "      <td>163.976758</td>\n",
       "      <td>1968.316330</td>\n",
       "      <td>-37.812436</td>\n",
       "      <td>145.007249</td>\n",
       "      <td>7544.087355</td>\n",
       "    </tr>\n",
       "    <tr>\n",
       "      <th>std</th>\n",
       "      <td>0.962574</td>\n",
       "      <td>6.405288e+05</td>\n",
       "      <td>7.402643</td>\n",
       "      <td>120.198924</td>\n",
       "      <td>0.956604</td>\n",
       "      <td>0.717585</td>\n",
       "      <td>1.019618</td>\n",
       "      <td>4505.229729</td>\n",
       "      <td>530.880112</td>\n",
       "      <td>36.666876</td>\n",
       "      <td>0.097739</td>\n",
       "      <td>0.132264</td>\n",
       "      <td>4390.376515</td>\n",
       "    </tr>\n",
       "    <tr>\n",
       "      <th>min</th>\n",
       "      <td>1.000000</td>\n",
       "      <td>1.210000e+05</td>\n",
       "      <td>0.000000</td>\n",
       "      <td>3000.000000</td>\n",
       "      <td>0.000000</td>\n",
       "      <td>0.000000</td>\n",
       "      <td>0.000000</td>\n",
       "      <td>0.000000</td>\n",
       "      <td>0.000000</td>\n",
       "      <td>1196.000000</td>\n",
       "      <td>-38.185600</td>\n",
       "      <td>144.423790</td>\n",
       "      <td>83.000000</td>\n",
       "    </tr>\n",
       "    <tr>\n",
       "      <th>25%</th>\n",
       "      <td>2.000000</td>\n",
       "      <td>6.400000e+05</td>\n",
       "      <td>6.700000</td>\n",
       "      <td>3054.000000</td>\n",
       "      <td>3.000000</td>\n",
       "      <td>1.000000</td>\n",
       "      <td>1.000000</td>\n",
       "      <td>269.000000</td>\n",
       "      <td>104.000000</td>\n",
       "      <td>1950.000000</td>\n",
       "      <td>-37.868645</td>\n",
       "      <td>144.932510</td>\n",
       "      <td>4294.000000</td>\n",
       "    </tr>\n",
       "    <tr>\n",
       "      <th>50%</th>\n",
       "      <td>3.000000</td>\n",
       "      <td>8.750000e+05</td>\n",
       "      <td>10.800000</td>\n",
       "      <td>3104.000000</td>\n",
       "      <td>3.000000</td>\n",
       "      <td>2.000000</td>\n",
       "      <td>2.000000</td>\n",
       "      <td>553.000000</td>\n",
       "      <td>137.000000</td>\n",
       "      <td>1970.000000</td>\n",
       "      <td>-37.808930</td>\n",
       "      <td>145.014200</td>\n",
       "      <td>6567.000000</td>\n",
       "    </tr>\n",
       "    <tr>\n",
       "      <th>75%</th>\n",
       "      <td>4.000000</td>\n",
       "      <td>1.290000e+06</td>\n",
       "      <td>15.500000</td>\n",
       "      <td>3163.000000</td>\n",
       "      <td>4.000000</td>\n",
       "      <td>2.000000</td>\n",
       "      <td>2.000000</td>\n",
       "      <td>695.000000</td>\n",
       "      <td>188.000000</td>\n",
       "      <td>2000.000000</td>\n",
       "      <td>-37.750495</td>\n",
       "      <td>145.085260</td>\n",
       "      <td>10412.000000</td>\n",
       "    </tr>\n",
       "    <tr>\n",
       "      <th>max</th>\n",
       "      <td>16.000000</td>\n",
       "      <td>1.120000e+07</td>\n",
       "      <td>48.100000</td>\n",
       "      <td>3978.000000</td>\n",
       "      <td>16.000000</td>\n",
       "      <td>9.000000</td>\n",
       "      <td>18.000000</td>\n",
       "      <td>433014.000000</td>\n",
       "      <td>44515.000000</td>\n",
       "      <td>2017.000000</td>\n",
       "      <td>-37.395100</td>\n",
       "      <td>145.526350</td>\n",
       "      <td>21650.000000</td>\n",
       "    </tr>\n",
       "  </tbody>\n",
       "</table>\n",
       "</div>"
      ],
      "text/plain": [
       "              Rooms         Price      Distance      Postcode      Bedroom2  \\\n",
       "count  19852.000000  1.551900e+04  19852.000000  19852.000000  15207.000000   \n",
       "mean       3.075811  1.051144e+06     12.056569   3122.129005      3.146446   \n",
       "std        0.962574  6.405288e+05      7.402643    120.198924      0.956604   \n",
       "min        1.000000  1.210000e+05      0.000000   3000.000000      0.000000   \n",
       "25%        2.000000  6.400000e+05      6.700000   3054.000000      3.000000   \n",
       "50%        3.000000  8.750000e+05     10.800000   3104.000000      3.000000   \n",
       "75%        4.000000  1.290000e+06     15.500000   3163.000000      4.000000   \n",
       "max       16.000000  1.120000e+07     48.100000   3978.000000     16.000000   \n",
       "\n",
       "           Bathroom           Car       Landsize  BuildingArea    YearBuilt  \\\n",
       "count  15201.000000  14862.000000   11965.000000   7467.000000  8469.000000   \n",
       "mean       1.642655      1.777890     679.551442    163.976758  1968.316330   \n",
       "std        0.717585      1.019618    4505.229729    530.880112    36.666876   \n",
       "min        0.000000      0.000000       0.000000      0.000000  1196.000000   \n",
       "25%        1.000000      1.000000     269.000000    104.000000  1950.000000   \n",
       "50%        2.000000      2.000000     553.000000    137.000000  1970.000000   \n",
       "75%        2.000000      2.000000     695.000000    188.000000  2000.000000   \n",
       "max        9.000000     18.000000  433014.000000  44515.000000  2017.000000   \n",
       "\n",
       "          Lattitude    Longtitude  Propertycount  \n",
       "count  15355.000000  15355.000000   19850.000000  \n",
       "mean     -37.812436    145.007249    7544.087355  \n",
       "std        0.097739      0.132264    4390.376515  \n",
       "min      -38.185600    144.423790      83.000000  \n",
       "25%      -37.868645    144.932510    4294.000000  \n",
       "50%      -37.808930    145.014200    6567.000000  \n",
       "75%      -37.750495    145.085260   10412.000000  \n",
       "max      -37.395100    145.526350   21650.000000  "
      ]
     },
<<<<<<< HEAD
     "execution_count": 2,
=======
     "execution_count": 53,
>>>>>>> c0637582118b4ae56d6f6430d04c2414c366ecb2
     "metadata": {},
     "output_type": "execute_result"
    }
   ],
   "source": [
    "dataframe.head()\n",
    "dataframe2016=dataframe[dataframe[\"Date\"].str[-4:] =='2016']\n",
    "dataframe2016.describe()\n",
    "print(\"precio medio 2016 \",dataframe2016[\"Price\"].mean())\n",
    "dataframe2017=dataframe[dataframe[\"Date\"].str[-4:] =='2017']\n",
    "print(\"precio medio 2017 \",dataframe2017[\"Price\"].mean())\n",
    "dataframe2017.describe()\n",
    "dataframe2018=dataframe[dataframe[\"Date\"].str[-4:] =='2018']\n",
    "print(\"precio medio 2018 \",dataframe2018[\"Price\"].mean())\n",
    "dataframe2017.describe()\n"
   ]
  },
  {
   "cell_type": "markdown",
   "metadata": {},
   "source": [
    "Vemos que tenemos en total 21 variables algunas con aspecto de ser cualitativas y otras cuantitativas. En los proximos puntos iremos analizando las caracteristitcas de las mismas.\n",
    "Vemos ne primer lugar el tipo de las variables:"
   ]
  },
  {
   "cell_type": "code",
   "execution_count": 3,
   "metadata": {},
   "outputs": [
    {
     "data": {
      "text/plain": [
       "Suburb            object\n",
       "Address           object\n",
       "Rooms              int64\n",
       "Type              object\n",
       "Price            float64\n",
       "Method            object\n",
       "SellerG           object\n",
       "Date              object\n",
       "Distance         float64\n",
       "Postcode         float64\n",
       "Bedroom2         float64\n",
       "Bathroom         float64\n",
       "Car              float64\n",
       "Landsize         float64\n",
       "BuildingArea     float64\n",
       "YearBuilt        float64\n",
       "CouncilArea       object\n",
       "Lattitude        float64\n",
       "Longtitude       float64\n",
       "Regionname        object\n",
       "Propertycount    float64\n",
       "dtype: object"
      ]
     },
     "execution_count": 3,
     "metadata": {},
     "output_type": "execute_result"
    }
   ],
   "source": [
    "dataframe.dtypes\n"
   ]
  },
  {
   "cell_type": "code",
   "execution_count": 4,
   "metadata": {},
   "outputs": [
    {
     "data": {
      "text/html": [
       "<div>\n",
       "<style scoped>\n",
       "    .dataframe tbody tr th:only-of-type {\n",
       "        vertical-align: middle;\n",
       "    }\n",
       "\n",
       "    .dataframe tbody tr th {\n",
       "        vertical-align: top;\n",
       "    }\n",
       "\n",
       "    .dataframe thead th {\n",
       "        text-align: right;\n",
       "    }\n",
       "</style>\n",
       "<table border=\"1\" class=\"dataframe\">\n",
       "  <thead>\n",
       "    <tr style=\"text-align: right;\">\n",
       "      <th></th>\n",
       "      <th>Suburb</th>\n",
       "      <th>Method</th>\n",
       "      <th>Regionname</th>\n",
       "      <th>SellerG</th>\n",
       "      <th>CouncilArea</th>\n",
       "    </tr>\n",
       "  </thead>\n",
       "  <tbody>\n",
       "    <tr>\n",
       "      <th>@Realty</th>\n",
       "      <td>NaN</td>\n",
       "      <td>NaN</td>\n",
       "      <td>NaN</td>\n",
       "      <td>12.0</td>\n",
       "      <td>NaN</td>\n",
       "    </tr>\n",
       "    <tr>\n",
       "      <th>A</th>\n",
       "      <td>NaN</td>\n",
       "      <td>NaN</td>\n",
       "      <td>NaN</td>\n",
       "      <td>1.0</td>\n",
       "      <td>NaN</td>\n",
       "    </tr>\n",
       "    <tr>\n",
       "      <th>AIME</th>\n",
       "      <td>NaN</td>\n",
       "      <td>NaN</td>\n",
       "      <td>NaN</td>\n",
       "      <td>1.0</td>\n",
       "      <td>NaN</td>\n",
       "    </tr>\n",
       "    <tr>\n",
       "      <th>ASL</th>\n",
       "      <td>NaN</td>\n",
       "      <td>NaN</td>\n",
       "      <td>NaN</td>\n",
       "      <td>5.0</td>\n",
       "      <td>NaN</td>\n",
       "    </tr>\n",
       "    <tr>\n",
       "      <th>Abbotsford</th>\n",
       "      <td>137.0</td>\n",
       "      <td>NaN</td>\n",
       "      <td>NaN</td>\n",
       "      <td>NaN</td>\n",
       "      <td>NaN</td>\n",
       "    </tr>\n",
       "    <tr>\n",
       "      <th>...</th>\n",
       "      <td>...</td>\n",
       "      <td>...</td>\n",
       "      <td>...</td>\n",
       "      <td>...</td>\n",
       "      <td>...</td>\n",
       "    </tr>\n",
       "    <tr>\n",
       "      <th>iProperty</th>\n",
       "      <td>NaN</td>\n",
       "      <td>NaN</td>\n",
       "      <td>NaN</td>\n",
       "      <td>1.0</td>\n",
       "      <td>NaN</td>\n",
       "    </tr>\n",
       "    <tr>\n",
       "      <th>iSell</th>\n",
       "      <td>NaN</td>\n",
       "      <td>NaN</td>\n",
       "      <td>NaN</td>\n",
       "      <td>32.0</td>\n",
       "      <td>NaN</td>\n",
       "    </tr>\n",
       "    <tr>\n",
       "      <th>iTRAK</th>\n",
       "      <td>NaN</td>\n",
       "      <td>NaN</td>\n",
       "      <td>NaN</td>\n",
       "      <td>33.0</td>\n",
       "      <td>NaN</td>\n",
       "    </tr>\n",
       "    <tr>\n",
       "      <th>viewbank</th>\n",
       "      <td>1.0</td>\n",
       "      <td>NaN</td>\n",
       "      <td>NaN</td>\n",
       "      <td>NaN</td>\n",
       "      <td>NaN</td>\n",
       "    </tr>\n",
       "    <tr>\n",
       "      <th>voglwalpole</th>\n",
       "      <td>NaN</td>\n",
       "      <td>NaN</td>\n",
       "      <td>NaN</td>\n",
       "      <td>2.0</td>\n",
       "      <td>NaN</td>\n",
       "    </tr>\n",
       "  </tbody>\n",
       "</table>\n",
       "<p>785 rows × 5 columns</p>\n",
       "</div>"
      ],
      "text/plain": [
       "             Suburb  Method  Regionname  SellerG  CouncilArea\n",
       "@Realty         NaN     NaN         NaN     12.0          NaN\n",
       "A               NaN     NaN         NaN      1.0          NaN\n",
       "AIME            NaN     NaN         NaN      1.0          NaN\n",
       "ASL             NaN     NaN         NaN      5.0          NaN\n",
       "Abbotsford    137.0     NaN         NaN      NaN          NaN\n",
       "...             ...     ...         ...      ...          ...\n",
       "iProperty       NaN     NaN         NaN      1.0          NaN\n",
       "iSell           NaN     NaN         NaN     32.0          NaN\n",
       "iTRAK           NaN     NaN         NaN     33.0          NaN\n",
       "viewbank        1.0     NaN         NaN      NaN          NaN\n",
       "voglwalpole     NaN     NaN         NaN      2.0          NaN\n",
       "\n",
       "[785 rows x 5 columns]"
      ]
     },
     "execution_count": 4,
     "metadata": {},
     "output_type": "execute_result"
    }
   ],
   "source": [
    "aux=pd.DataFrame({\"Suburb\":pd.value_counts(dataframe['Suburb']),\"Method\":pd.value_counts(dataframe['Method']),\\\n",
    "                  \"Regionname\":pd.value_counts(dataframe['Regionname']),\"SellerG\":pd.value_counts(dataframe['SellerG']),\\\n",
    "                 \"Method\":pd.value_counts(dataframe['Method']),\"CouncilArea\":pd.value_counts(dataframe['CouncilArea'])})\n",
    "aux"
   ]
  },
  {
   "cell_type": "code",
   "execution_count": 5,
   "metadata": {},
   "outputs": [
    {
     "name": "stdout",
     "output_type": "stream",
     "text": [
      "              Rooms         Price      Distance      Postcode      Bedroom2  \\\n",
      "count  34857.000000  2.724700e+04  34856.000000  34856.000000  26640.000000   \n",
      "mean       3.031012  1.050173e+06     11.184929   3116.062859      3.084647   \n",
      "std        0.969933  6.414671e+05      6.788892    109.023903      0.980690   \n",
      "min        1.000000  8.500000e+04      0.000000   3000.000000      0.000000   \n",
      "25%        2.000000  6.350000e+05      6.400000   3051.000000      2.000000   \n",
      "50%        3.000000  8.700000e+05     10.300000   3103.000000      3.000000   \n",
      "75%        4.000000  1.295000e+06     14.000000   3156.000000      4.000000   \n",
      "max       16.000000  1.120000e+07     48.100000   3978.000000     30.000000   \n",
      "\n",
      "           Bathroom           Car       Landsize  BuildingArea     YearBuilt  \\\n",
      "count  26631.000000  26129.000000   23047.000000   13742.00000  15551.000000   \n",
      "mean       1.624798      1.728845     593.598993     160.25640   1965.289885   \n",
      "std        0.724212      1.010771    3398.841946     401.26706     37.328178   \n",
      "min        0.000000      0.000000       0.000000       0.00000   1196.000000   \n",
      "25%        1.000000      1.000000     224.000000     102.00000   1940.000000   \n",
      "50%        2.000000      2.000000     521.000000     136.00000   1970.000000   \n",
      "75%        2.000000      2.000000     670.000000     188.00000   2000.000000   \n",
      "max       12.000000     26.000000  433014.000000   44515.00000   2106.000000   \n",
      "\n",
      "          Lattitude    Longtitude  Propertycount  \n",
      "count  26881.000000  26881.000000   34854.000000  \n",
      "mean     -37.810634    145.001851    7572.888306  \n",
      "std        0.090279      0.120169    4428.090313  \n",
      "min      -38.190430    144.423790      83.000000  \n",
      "25%      -37.862950    144.933500    4385.000000  \n",
      "50%      -37.807600    145.007800    6763.000000  \n",
      "75%      -37.754100    145.071900   10412.000000  \n",
      "max      -37.390200    145.526350   21650.000000  \n"
     ]
    },
    {
     "data": {
      "text/html": [
       "<div>\n",
       "<style scoped>\n",
       "    .dataframe tbody tr th:only-of-type {\n",
       "        vertical-align: middle;\n",
       "    }\n",
       "\n",
       "    .dataframe tbody tr th {\n",
       "        vertical-align: top;\n",
       "    }\n",
       "\n",
       "    .dataframe thead th {\n",
       "        text-align: right;\n",
       "    }\n",
       "</style>\n",
       "<table border=\"1\" class=\"dataframe\">\n",
       "  <thead>\n",
       "    <tr style=\"text-align: right;\">\n",
       "      <th></th>\n",
       "      <th>Suburb</th>\n",
       "      <th>CouncilArea</th>\n",
       "      <th>Regionname</th>\n",
       "      <th>SellerG</th>\n",
       "      <th>Method</th>\n",
       "    </tr>\n",
       "  </thead>\n",
       "  <tbody>\n",
       "    <tr>\n",
       "      <th>count</th>\n",
       "      <td>34857</td>\n",
       "      <td>34854</td>\n",
       "      <td>34854</td>\n",
       "      <td>34857</td>\n",
       "      <td>34857</td>\n",
       "    </tr>\n",
       "    <tr>\n",
       "      <th>unique</th>\n",
       "      <td>351</td>\n",
       "      <td>33</td>\n",
       "      <td>8</td>\n",
       "      <td>388</td>\n",
       "      <td>9</td>\n",
       "    </tr>\n",
       "    <tr>\n",
       "      <th>top</th>\n",
       "      <td>Reservoir</td>\n",
       "      <td>Boroondara City Council</td>\n",
       "      <td>Southern Metropolitan</td>\n",
       "      <td>Jellis</td>\n",
       "      <td>S</td>\n",
       "    </tr>\n",
       "    <tr>\n",
       "      <th>freq</th>\n",
       "      <td>844</td>\n",
       "      <td>3675</td>\n",
       "      <td>11836</td>\n",
       "      <td>3359</td>\n",
       "      <td>19744</td>\n",
       "    </tr>\n",
       "  </tbody>\n",
       "</table>\n",
       "</div>"
      ],
      "text/plain": [
       "           Suburb              CouncilArea             Regionname SellerG  \\\n",
       "count       34857                    34854                  34854   34857   \n",
       "unique        351                       33                      8     388   \n",
       "top     Reservoir  Boroondara City Council  Southern Metropolitan  Jellis   \n",
       "freq          844                     3675                  11836    3359   \n",
       "\n",
       "       Method  \n",
       "count   34857  \n",
       "unique      9  \n",
       "top         S  \n",
       "freq    19744  "
      ]
     },
     "execution_count": 5,
     "metadata": {},
     "output_type": "execute_result"
    }
   ],
   "source": [
    "print(dataframe.describe())\n",
    "aux=pd.DataFrame({\"Suburb\":dataframe[\"Suburb\"].describe(),\"CouncilArea\":dataframe[\"CouncilArea\"].describe(),\\\n",
    "                  \"Regionname\":dataframe[\"Regionname\"].describe(),\"SellerG\":dataframe[\"SellerG\"].describe(),\\\n",
    "                 \"Method\":dataframe[\"Method\"].describe()})\n",
    "aux"
   ]
  },
  {
   "cell_type": "markdown",
   "metadata": {},
   "source": [
    "## 3.3 Análisis y resumen numérico de las variables cualitativas del Dataset\n",
    "\n",
    "para cada una de las variables cualitativas del dataframe comprobaremos sus medidas de centralidad y veremos cuales de ellas tiene sentido analizar\n",
    "\n"
   ]
  },
  {
<<<<<<< HEAD
   "cell_type": "code",
   "execution_count": 6,
   "metadata": {},
   "outputs": [
    {
     "data": {
      "text/html": [
       "<div>\n",
       "<style scoped>\n",
       "    .dataframe tbody tr th:only-of-type {\n",
       "        vertical-align: middle;\n",
       "    }\n",
       "\n",
       "    .dataframe tbody tr th {\n",
       "        vertical-align: top;\n",
       "    }\n",
       "\n",
       "    .dataframe thead th {\n",
       "        text-align: right;\n",
       "    }\n",
       "</style>\n",
       "<table border=\"1\" class=\"dataframe\">\n",
       "  <thead>\n",
       "    <tr style=\"text-align: right;\">\n",
       "      <th></th>\n",
       "      <th>Rooms</th>\n",
       "      <th>Price</th>\n",
       "      <th>Distance</th>\n",
       "      <th>Postcode</th>\n",
       "      <th>Bedroom2</th>\n",
       "      <th>Bathroom</th>\n",
       "      <th>Car</th>\n",
       "      <th>Landsize</th>\n",
       "      <th>BuildingArea</th>\n",
       "      <th>YearBuilt</th>\n",
       "      <th>Lattitude</th>\n",
       "      <th>Longtitude</th>\n",
       "      <th>Propertycount</th>\n",
       "    </tr>\n",
       "  </thead>\n",
       "  <tbody>\n",
       "    <tr>\n",
       "      <th>count</th>\n",
       "      <td>34857.000000</td>\n",
       "      <td>2.724700e+04</td>\n",
       "      <td>34856.000000</td>\n",
       "      <td>34856.000000</td>\n",
       "      <td>26640.000000</td>\n",
       "      <td>26631.000000</td>\n",
       "      <td>26129.000000</td>\n",
       "      <td>23047.000000</td>\n",
       "      <td>13742.00000</td>\n",
       "      <td>15551.000000</td>\n",
       "      <td>26881.000000</td>\n",
       "      <td>26881.000000</td>\n",
       "      <td>34854.000000</td>\n",
       "    </tr>\n",
       "    <tr>\n",
       "      <th>mean</th>\n",
       "      <td>3.031012</td>\n",
       "      <td>1.050173e+06</td>\n",
       "      <td>11.184929</td>\n",
       "      <td>3116.062859</td>\n",
       "      <td>3.084647</td>\n",
       "      <td>1.624798</td>\n",
       "      <td>1.728845</td>\n",
       "      <td>593.598993</td>\n",
       "      <td>160.25640</td>\n",
       "      <td>1965.289885</td>\n",
       "      <td>-37.810634</td>\n",
       "      <td>145.001851</td>\n",
       "      <td>7572.888306</td>\n",
       "    </tr>\n",
       "    <tr>\n",
       "      <th>std</th>\n",
       "      <td>0.969933</td>\n",
       "      <td>6.414671e+05</td>\n",
       "      <td>6.788892</td>\n",
       "      <td>109.023903</td>\n",
       "      <td>0.980690</td>\n",
       "      <td>0.724212</td>\n",
       "      <td>1.010771</td>\n",
       "      <td>3398.841946</td>\n",
       "      <td>401.26706</td>\n",
       "      <td>37.328178</td>\n",
       "      <td>0.090279</td>\n",
       "      <td>0.120169</td>\n",
       "      <td>4428.090313</td>\n",
       "    </tr>\n",
       "    <tr>\n",
       "      <th>min</th>\n",
       "      <td>1.000000</td>\n",
       "      <td>8.500000e+04</td>\n",
       "      <td>0.000000</td>\n",
       "      <td>3000.000000</td>\n",
       "      <td>0.000000</td>\n",
       "      <td>0.000000</td>\n",
       "      <td>0.000000</td>\n",
       "      <td>0.000000</td>\n",
       "      <td>0.00000</td>\n",
       "      <td>1196.000000</td>\n",
       "      <td>-38.190430</td>\n",
       "      <td>144.423790</td>\n",
       "      <td>83.000000</td>\n",
       "    </tr>\n",
       "    <tr>\n",
       "      <th>25%</th>\n",
       "      <td>2.000000</td>\n",
       "      <td>6.350000e+05</td>\n",
       "      <td>6.400000</td>\n",
       "      <td>3051.000000</td>\n",
       "      <td>2.000000</td>\n",
       "      <td>1.000000</td>\n",
       "      <td>1.000000</td>\n",
       "      <td>224.000000</td>\n",
       "      <td>102.00000</td>\n",
       "      <td>1940.000000</td>\n",
       "      <td>-37.862950</td>\n",
       "      <td>144.933500</td>\n",
       "      <td>4385.000000</td>\n",
       "    </tr>\n",
       "    <tr>\n",
       "      <th>50%</th>\n",
       "      <td>3.000000</td>\n",
       "      <td>8.700000e+05</td>\n",
       "      <td>10.300000</td>\n",
       "      <td>3103.000000</td>\n",
       "      <td>3.000000</td>\n",
       "      <td>2.000000</td>\n",
       "      <td>2.000000</td>\n",
       "      <td>521.000000</td>\n",
       "      <td>136.00000</td>\n",
       "      <td>1970.000000</td>\n",
       "      <td>-37.807600</td>\n",
       "      <td>145.007800</td>\n",
       "      <td>6763.000000</td>\n",
       "    </tr>\n",
       "    <tr>\n",
       "      <th>75%</th>\n",
       "      <td>4.000000</td>\n",
       "      <td>1.295000e+06</td>\n",
       "      <td>14.000000</td>\n",
       "      <td>3156.000000</td>\n",
       "      <td>4.000000</td>\n",
       "      <td>2.000000</td>\n",
       "      <td>2.000000</td>\n",
       "      <td>670.000000</td>\n",
       "      <td>188.00000</td>\n",
       "      <td>2000.000000</td>\n",
       "      <td>-37.754100</td>\n",
       "      <td>145.071900</td>\n",
       "      <td>10412.000000</td>\n",
       "    </tr>\n",
       "    <tr>\n",
       "      <th>max</th>\n",
       "      <td>16.000000</td>\n",
       "      <td>1.120000e+07</td>\n",
       "      <td>48.100000</td>\n",
       "      <td>3978.000000</td>\n",
       "      <td>30.000000</td>\n",
       "      <td>12.000000</td>\n",
       "      <td>26.000000</td>\n",
       "      <td>433014.000000</td>\n",
       "      <td>44515.00000</td>\n",
       "      <td>2106.000000</td>\n",
       "      <td>-37.390200</td>\n",
       "      <td>145.526350</td>\n",
       "      <td>21650.000000</td>\n",
       "    </tr>\n",
       "  </tbody>\n",
       "</table>\n",
       "</div>"
      ],
      "text/plain": [
       "              Rooms         Price      Distance      Postcode      Bedroom2  \\\n",
       "count  34857.000000  2.724700e+04  34856.000000  34856.000000  26640.000000   \n",
       "mean       3.031012  1.050173e+06     11.184929   3116.062859      3.084647   \n",
       "std        0.969933  6.414671e+05      6.788892    109.023903      0.980690   \n",
       "min        1.000000  8.500000e+04      0.000000   3000.000000      0.000000   \n",
       "25%        2.000000  6.350000e+05      6.400000   3051.000000      2.000000   \n",
       "50%        3.000000  8.700000e+05     10.300000   3103.000000      3.000000   \n",
       "75%        4.000000  1.295000e+06     14.000000   3156.000000      4.000000   \n",
       "max       16.000000  1.120000e+07     48.100000   3978.000000     30.000000   \n",
       "\n",
       "           Bathroom           Car       Landsize  BuildingArea     YearBuilt  \\\n",
       "count  26631.000000  26129.000000   23047.000000   13742.00000  15551.000000   \n",
       "mean       1.624798      1.728845     593.598993     160.25640   1965.289885   \n",
       "std        0.724212      1.010771    3398.841946     401.26706     37.328178   \n",
       "min        0.000000      0.000000       0.000000       0.00000   1196.000000   \n",
       "25%        1.000000      1.000000     224.000000     102.00000   1940.000000   \n",
       "50%        2.000000      2.000000     521.000000     136.00000   1970.000000   \n",
       "75%        2.000000      2.000000     670.000000     188.00000   2000.000000   \n",
       "max       12.000000     26.000000  433014.000000   44515.00000   2106.000000   \n",
       "\n",
       "          Lattitude    Longtitude  Propertycount  \n",
       "count  26881.000000  26881.000000   34854.000000  \n",
       "mean     -37.810634    145.001851    7572.888306  \n",
       "std        0.090279      0.120169    4428.090313  \n",
       "min      -38.190430    144.423790      83.000000  \n",
       "25%      -37.862950    144.933500    4385.000000  \n",
       "50%      -37.807600    145.007800    6763.000000  \n",
       "75%      -37.754100    145.071900   10412.000000  \n",
       "max      -37.390200    145.526350   21650.000000  "
      ]
     },
     "execution_count": 6,
     "metadata": {},
     "output_type": "execute_result"
    }
   ],
=======
   "cell_type": "markdown",
   "metadata": {},
>>>>>>> c0637582118b4ae56d6f6430d04c2414c366ecb2
   "source": [
    "dataframe.describe()"
   ]
  },
  {
   "cell_type": "markdown",
   "metadata": {},
   "source": [
<<<<<<< HEAD
    "**Tabla 3.3.1**  \n",
    "Antes de empezar el analisis de las variables indicar que el coeficiente de asimetria empleado es el de SKEWNESS por tanto para analizar los resultados podemos usar la sigueiente funcion.  \n",
    "- Si el coeficiente de asimetría es menor que **-1 o mayor que 1**, la distribución de la variable es **extremadamente sesgada**.  \n",
    "- Si el coeficiente de asimetría se encuentra entre **-1 y -0,5 o entre 0,5 y 1**, la distribución de la variable es **moderadamente sesgada**.  \n",
    "- Si el coeficiente de asimetría se encuentra entre **-0,5 y 0,5**, la distribución de la variable es **aproximadamente sesgada**.  "
=======
    "**Tabla 3.3.1**"
>>>>>>> c0637582118b4ae56d6f6430d04c2414c366ecb2
   ]
  },
  {
   "cell_type": "markdown",
   "metadata": {},
   "source": [
    "### 3.3.1 Analisis de la variable Rooms"
   ]
  },
  {
   "cell_type": "markdown",
   "metadata": {},
   "source": [
    "Esta variable contiene el número de habitaciones de cada propiedad que hay en la muesta. Como se puede ver en la tabla 3.3.1 la variable tiene valor en 34857 toma valores discretos en el rango 1 a 16 dormitorios, que es el máximo encontrado. La mitad de la muestra tiene tres habitaciones o menos y el 75% de pisos tienen entre 1 y 4 habitaciones.\n",
    "A continuacion vamos a ver las frecuencias de la variable"
   ]
  },
  {
   "cell_type": "code",
   "execution_count": 7,
   "metadata": {},
   "outputs": [
    {
     "data": {
      "text/plain": [
       "3     0.432739\n",
       "2     0.239034\n",
       "4     0.228247\n",
       "5     0.049832\n",
       "1     0.042431\n",
       "6     0.005852\n",
       "7     0.000918\n",
       "8     0.000545\n",
       "10    0.000172\n",
       "9     0.000115\n",
       "12    0.000086\n",
       "16    0.000029\n",
       "Name: Rooms, dtype: float64"
      ]
     },
     "execution_count": 7,
     "metadata": {},
     "output_type": "execute_result"
    }
   ],
   "source": [
    "pd.value_counts(dataframe['Rooms'])/dataframe[\"Rooms\"].count()\n"
   ]
  },
  {
   "cell_type": "markdown",
   "metadata": {},
   "source": [
    "Como se puede ver mas de un 40% de los pisos vendidos tienen 3 dormitorios que es mas del doble del porcentaje del numero de pisos que tiene 2 dormitorios (un 23%) o 4 dormitorios(un 22,8%).\n",
    "\n",
    "Pasamos a hacer el cálculo de las medidas de dispersión y simetria calcularemos el coficiente de variación, rango, IQR y simtetria:"
   ]
  },
  {
   "cell_type": "code",
   "execution_count": 8,
   "metadata": {},
   "outputs": [
    {
     "data": {
      "text/html": [
       "<div>\n",
       "<style scoped>\n",
       "    .dataframe tbody tr th:only-of-type {\n",
       "        vertical-align: middle;\n",
       "    }\n",
       "\n",
       "    .dataframe tbody tr th {\n",
       "        vertical-align: top;\n",
       "    }\n",
       "\n",
       "    .dataframe thead th {\n",
       "        text-align: right;\n",
       "    }\n",
       "</style>\n",
       "<table border=\"1\" class=\"dataframe\">\n",
       "  <thead>\n",
       "    <tr style=\"text-align: right;\">\n",
       "      <th></th>\n",
       "      <th>coeficiente de Variacion</th>\n",
       "      <th>rango de la variable</th>\n",
       "      <th>rango intercuartilico</th>\n",
       "      <th>coeficiente de asimetria</th>\n",
       "    </tr>\n",
       "  </thead>\n",
       "  <tbody>\n",
       "    <tr>\n",
       "      <th>0</th>\n",
       "      <td>32.000296</td>\n",
       "      <td>15</td>\n",
       "      <td>2.0</td>\n",
       "      <td>0.0</td>\n",
       "    </tr>\n",
       "  </tbody>\n",
       "</table>\n",
       "</div>"
      ],
      "text/plain": [
       "   coeficiente de Variacion  rango de la variable  rango intercuartilico  \\\n",
       "0                 32.000296                    15                    2.0   \n",
       "\n",
       "   coeficiente de asimetria  \n",
       "0                       0.0  "
      ]
     },
     "execution_count": 8,
     "metadata": {},
     "output_type": "execute_result"
    }
   ],
   "source": [
    "mostrar_analisis_var_cuantitativas(dataframe[\"Rooms\"])"
   ]
  },
  {
   "cell_type": "markdown",
   "metadata": {},
   "source": [
    "Como se puede var en la tabla anterio la variable tiene un coeficiente de variacion del 32% con un coeficiente de asimetria positivo. Podemos deducir que la variable es bastante simetrica dado que el coeficiente está muy próximo a 0\n",
    "\n"
   ]
  },
  {
   "cell_type": "code",
<<<<<<< HEAD
   "execution_count": 9,
=======
   "execution_count": 31,
>>>>>>> c0637582118b4ae56d6f6430d04c2414c366ecb2
   "metadata": {},
   "outputs": [
    {
     "name": "stderr",
     "output_type": "stream",
     "text": [
      "/home/ruben/anaconda3/lib/python3.7/site-packages/seaborn/_decorators.py:43: FutureWarning: Pass the following variable as a keyword arg: x. From version 0.12, the only valid positional argument will be `data`, and passing other arguments without an explicit keyword will result in an error or misinterpretation.\n"
     ]
    },
    {
     "data": {
      "image/png": "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\n",
      "text/plain": [
       "<Figure size 864x432 with 2 Axes>"
      ]
     },
     "metadata": {},
     "output_type": "display_data"
    }
   ],
   "source": [
    "sb.set_theme(style=\"whitegrid\")\n",
    "fig, (ax1,ax2) = plot.subplots(1,2,figsize=(12,6))\n",
    "sb.boxplot(data=dataframe[\"Rooms\"],ax=ax1)\n",
    "sb.countplot(dataframe[\"Rooms\"],ax=ax2)\n",
    "plot.show()"
   ]
  },
  {
   "cell_type": "markdown",
   "metadata": {},
   "source": [
    "Como ya se habia comprobado numéricamente la variable es muy simetrica aunque se aprecia unos outliers, viviendas de mas de 7 dormitorios que se deberian eliminar"
   ]
  },
  {
   "cell_type": "markdown",
   "metadata": {},
   "source": [
<<<<<<< HEAD
    "### 3.3.2 Analisis de la variable Bedroom2\n",
    "Esta variable contiene el numero de dormitorios de cada propiedad. Como se puede ver en la tabla 3.3.1 la variable tiene valor en 26640 elementos de la muestra.Toma valores discretos en el rango 0 a 30 dormitorios, que es el máximo encontrado. La mitad de la muestra tiene tres dormitorios o menos y el 75% de pisos tienen entre 0 y 4 dormitorios. Estas cifras llaman la atencion ya que **el máximo numero de habitaciones de la variable rooms tenia como maximo 16**, por lo que esos datos puede que estén mal imputados."
=======
    "### 3.3.1 Analisis de la variable Bedroom2\n",
    "Esta variable contiene el numero de dormitorios de cada propiedad. Como se puede ver en la tabla 3.3.1 la variable tiene valor en 34857 toma valores discretos en el rango 0 a 30 dormitorios, que es el máximo encontrado. La mitad de la muestra tiene tres dormitorios o menos y el 75% de pisos tienen entre 0 y 4 dormitorios. Estas cifras llaman la atencion ya que el máximo numero de habitaciones de la variable rooms tenia como maximo 16, por lo que esos datos puede que estén mal imputados."
>>>>>>> c0637582118b4ae56d6f6430d04c2414c366ecb2
   ]
  },
  {
   "cell_type": "code",
   "execution_count": 10,
   "metadata": {},
   "outputs": [
    {
     "data": {
      "text/plain": [
       "3.0     0.445983\n",
       "4.0     0.238288\n",
       "2.0     0.216854\n",
       "5.0     0.053566\n",
       "1.0     0.036261\n",
       "6.0     0.006306\n",
       "7.0     0.001126\n",
       "0.0     0.000638\n",
       "8.0     0.000488\n",
       "9.0     0.000188\n",
       "10.0    0.000150\n",
       "30.0    0.000038\n",
       "12.0    0.000038\n",
       "20.0    0.000038\n",
       "16.0    0.000038\n",
       "Name: Bedroom2, dtype: float64"
      ]
     },
     "execution_count": 10,
     "metadata": {},
     "output_type": "execute_result"
    }
   ],
   "source": [
    "pd.value_counts(dataframe['Bedroom2'])/dataframe[\"Bedroom2\"].count()"
   ]
  },
  {
   "cell_type": "markdown",
   "metadata": {},
   "source": [
    "Los resultados son muy parecidos a los obtenidos con la variable Rooms por lo que no es probable que la variable rooms haga referencia tambien a numero de dormitorios y no solo de habitaciones. Como ya ocurria con la variable rooms casi el 89% de las propiedades tiene entre 2 y 4 dormitorios.\n",
    "Vamos a verificar las medidas de dispersión y asimetria de la variable"
   ]
  },
  {
   "cell_type": "code",
   "execution_count": 11,
   "metadata": {},
   "outputs": [
    {
     "data": {
      "text/html": [
       "<div>\n",
       "<style scoped>\n",
       "    .dataframe tbody tr th:only-of-type {\n",
       "        vertical-align: middle;\n",
       "    }\n",
       "\n",
       "    .dataframe tbody tr th {\n",
       "        vertical-align: top;\n",
       "    }\n",
       "\n",
       "    .dataframe thead th {\n",
       "        text-align: right;\n",
       "    }\n",
       "</style>\n",
       "<table border=\"1\" class=\"dataframe\">\n",
       "  <thead>\n",
       "    <tr style=\"text-align: right;\">\n",
       "      <th></th>\n",
       "      <th>coeficiente de Variacion</th>\n",
       "      <th>rango de la variable</th>\n",
       "      <th>rango intercuartilico</th>\n",
       "      <th>coeficiente de asimetria</th>\n",
       "    </tr>\n",
       "  </thead>\n",
       "  <tbody>\n",
       "    <tr>\n",
       "      <th>0</th>\n",
       "      <td>31.792606</td>\n",
       "      <td>30.0</td>\n",
       "      <td>2.0</td>\n",
       "      <td>0.0</td>\n",
       "    </tr>\n",
       "  </tbody>\n",
       "</table>\n",
       "</div>"
      ],
      "text/plain": [
       "   coeficiente de Variacion  rango de la variable  rango intercuartilico  \\\n",
       "0                 31.792606                  30.0                    2.0   \n",
       "\n",
       "   coeficiente de asimetria  \n",
       "0                       0.0  "
      ]
     },
     "execution_count": 11,
     "metadata": {},
     "output_type": "execute_result"
    }
   ],
   "source": [
    "mostrar_analisis_var_cuantitativas(dataframe[\"Bedroom2\"])"
   ]
  },
  {
   "cell_type": "markdown",
   "metadata": {},
   "source": [
    "El coeficiente de variacion es muy similar a la variable rooms y con el mismo rango intercuantilico, aunque en este caso el coficiente de asimetria es 0 lo que parece indica que se trata de una distribucion simétrica de los datos. Lo verificaremos con los siguientes diagramas:"
   ]
  },
  {
   "cell_type": "code",
<<<<<<< HEAD
   "execution_count": 12,
=======
   "execution_count": 30,
>>>>>>> c0637582118b4ae56d6f6430d04c2414c366ecb2
   "metadata": {},
   "outputs": [
    {
     "data": {
      "image/png": "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\n",
      "text/plain": [
       "<Figure size 864x432 with 2 Axes>"
      ]
     },
     "metadata": {},
     "output_type": "display_data"
    }
   ],
   "source": [
    "sb.set_theme(style=\"whitegrid\")\n",
    "fig, (ax1,ax2) = plot.subplots(1,2,figsize=(12,6))\n",
    "sb.boxplot(data=dataframe[\"Bedroom2\"],ax=ax1)\n",
    "sb.countplot(x=dataframe[\"Bedroom2\"],ax=ax2)\n",
    "plot.show()"
   ]
  },
  {
   "cell_type": "markdown",
   "metadata": {},
   "source": [
    "como ya se habia comprobado numéricamente la variable es muy simetrica aunque se aprecia unos outliers, viviendas de mas de 7 dormitorios que se deberian eliminar. También habra que seleccionar que variable es de mejor calidad para llevar a cabo el modelo.\n",
    "\n",
    "PRODUCE SESGO"
   ]
  },
  {
   "cell_type": "markdown",
   "metadata": {},
   "source": [
<<<<<<< HEAD
    "### 3.3.3 Analisis de la variable Distance\n",
    "La variable Distance indica la distancia al centro del inmbueble y toma como unidad las millas. Como se puede ver en la tabla 3.3.1 esta variable tiene valores en 34856 elementos de la muestra. La variable toma valores entre 0 y 48 millas , el 50% de los pisos de la muestra se encuentran a menos de 10,3 millas del centro de la ciudad y la desviacion tipica es 6,78. \n",
=======
    "### 3.3.1 Analisis de la variable Distance\n",
    "Como se puede ver en la tabla 3.3.1 esta variable toma valores entre 0 y 48 millas , el 50% de los pisos de la muestra se encuentran a menos de 10,3 millas del centro de la ciudad y la desviacion tipica es 6,78. \n",
>>>>>>> c0637582118b4ae56d6f6430d04c2414c366ecb2
    "Calculamos medidas de dispersión y simetriía ya que las de centralidad las hemos visto en la tabla 3.3.1\n"
   ]
  },
  {
   "cell_type": "code",
   "execution_count": 13,
   "metadata": {},
   "outputs": [
    {
     "data": {
      "text/html": [
       "<div>\n",
       "<style scoped>\n",
       "    .dataframe tbody tr th:only-of-type {\n",
       "        vertical-align: middle;\n",
       "    }\n",
       "\n",
       "    .dataframe tbody tr th {\n",
       "        vertical-align: top;\n",
       "    }\n",
       "\n",
       "    .dataframe thead th {\n",
       "        text-align: right;\n",
       "    }\n",
       "</style>\n",
       "<table border=\"1\" class=\"dataframe\">\n",
       "  <thead>\n",
       "    <tr style=\"text-align: right;\">\n",
       "      <th></th>\n",
       "      <th>coeficiente de Variacion</th>\n",
       "      <th>rango de la variable</th>\n",
       "      <th>rango intercuartilico</th>\n",
       "      <th>coeficiente de asimetria</th>\n",
       "    </tr>\n",
       "  </thead>\n",
       "  <tbody>\n",
       "    <tr>\n",
       "      <th>0</th>\n",
       "      <td>60.696784</td>\n",
       "      <td>48.1</td>\n",
       "      <td>7.6</td>\n",
       "      <td>-0.026316</td>\n",
       "    </tr>\n",
       "  </tbody>\n",
       "</table>\n",
       "</div>"
      ],
      "text/plain": [
       "   coeficiente de Variacion  rango de la variable  rango intercuartilico  \\\n",
       "0                 60.696784                  48.1                    7.6   \n",
       "\n",
       "   coeficiente de asimetria  \n",
       "0                 -0.026316  "
      ]
     },
     "execution_count": 13,
     "metadata": {},
     "output_type": "execute_result"
    }
   ],
   "source": [
    "mostrar_analisis_var_cuantitativas(dataframe[\"Distance\"])"
   ]
  },
  {
<<<<<<< HEAD
   "cell_type": "markdown",
   "metadata": {},
   "source": [
    "segun el coeficiente la varibale parece bastante simetrica, vemaos el boxplot para cerciorarnos.\n",
    "Vemos la distribucion de la variable y posibles outliers"
   ]
  },
  {
   "cell_type": "code",
   "execution_count": 40,
   "metadata": {},
   "outputs": [
    {
     "data": {
      "image/png": "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\n",
      "text/plain": [
       "<Figure size 864x432 with 2 Axes>"
      ]
     },
     "metadata": {},
     "output_type": "display_data"
    },
    {
     "data": {
      "image/png": "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\n",
      "text/plain": [
       "<Figure size 360x360 with 1 Axes>"
      ]
     },
     "metadata": {},
     "output_type": "display_data"
    }
   ],
   "source": [
    "mostrar_graf_variables_continuas(dataframe,\"Distance\")"
   ]
  },
  {
   "cell_type": "markdown",
   "metadata": {},
   "source": [
    "¿que se ve aqui?"
   ]
  },
  {
   "cell_type": "code",
   "execution_count": null,
   "metadata": {},
   "outputs": [],
   "source": [
    "¿que se ve aqui"
   ]
  },
  {
   "cell_type": "markdown",
   "metadata": {},
   "source": [
    "### 3.3.4 Analisis de la variable Bathrooms\n",
    "\n",
    "Esta variable indica el número de baños del inmuble.Como se puede ver en la tabla 3.3.1 la variable tiene valor en 26631 elementos de la muestra. Toma valores discretos en el rango 0 a 12 dormitorios. El 75% de pisos tienen entre 0 y 2 baños . A continuacion vamos a ver las frecuencias de la variable:"
   ]
  },
  {
   "cell_type": "code",
   "execution_count": null,
   "metadata": {},
   "outputs": [],
   "source": [
    "pd.value_counts(dataframe['Bathroom'])/dataframe[\"Bathroom\"].count()"
   ]
  },
  {
   "cell_type": "markdown",
   "metadata": {},
   "source": [
    "Como se puede ver en la tabla anterior el 89% de la muestra tiene igual o menos de dos dormitorios comn una media de 1,6 baños. En la tabla 3.3.1 respecto a las medidas de dispersión podemos ver que la desviacion típica es de 0,72 y en la siguiente tabla vemos mas variables de dispersión y asimetria:"
   ]
  },
  {
   "cell_type": "code",
   "execution_count": null,
   "metadata": {},
   "outputs": [],
   "source": [
    "mostrar_analisis_var_cuantitativas(dataframe[\"Bathroom\"])"
   ]
  },
  {
   "cell_type": "markdown",
   "metadata": {},
   "source": [
    "El coeficiente de variación es del 44% y el coeficiente de asimetria es -1 lo que indica que la variable no es simetrica, tiene cola a la derecha. comprobaremos esto mismo de manera visual pintando su histograma y boxplot"
=======
   "cell_type": "code",
   "execution_count": 14,
   "metadata": {},
   "outputs": [
    {
     "ename": "SyntaxError",
     "evalue": "invalid syntax (<ipython-input-14-9363e47a0c7d>, line 1)",
     "output_type": "error",
     "traceback": [
      "\u001b[0;36m  File \u001b[0;32m\"<ipython-input-14-9363e47a0c7d>\"\u001b[0;36m, line \u001b[0;32m1\u001b[0m\n\u001b[0;31m    Vemos la distribucion de la variable y posibles outliers\u001b[0m\n\u001b[0m           ^\u001b[0m\n\u001b[0;31mSyntaxError\u001b[0m\u001b[0;31m:\u001b[0m invalid syntax\n"
     ]
    }
   ],
   "source": [
    "Vemos la distribucion de la variable y posibles outliers"
>>>>>>> c0637582118b4ae56d6f6430d04c2414c366ecb2
   ]
  },
  {
   "cell_type": "code",
   "execution_count": null,
   "metadata": {},
   "outputs": [],
   "source": [
    "sb.set_theme(style=\"whitegrid\")\n",
    "fig, (ax1,ax2) = plot.subplots(1,2,figsize=(12,6))\n",
<<<<<<< HEAD
    "sb.boxplot(data=dataframe[\"Bathroom\"],ax=ax1)\n",
    "sb.countplot(x=dataframe[\"Bathroom\"],ax=ax2)\n",
    "\n",
=======
    "sb.histplot(dataframe[\"Distance\"],ax=ax1)\n",
    "sb.boxplot(data=dataframe[\"Distance\"],ax=ax2)\n",
>>>>>>> c0637582118b4ae56d6f6430d04c2414c366ecb2
    "plot.show()"
   ]
  },
  {
   "cell_type": "markdown",
   "metadata": {},
   "source": [
<<<<<<< HEAD
    "### 3.3.5 Analisis de la variable Car\n",
    "\n",
    "Esta variable contiene el numero de plazas de aparcamiento que tiene asociadas la vivienda. Como se puede ver en la tabla 3.3.1 la variable tiene valor en 26129 de la muestra y toma valores discretos en el rango 0 a 26 plazas de aparcamiento. El 75% de pisos tienen entre 0 y 2 plazas de aparcamiento . A continuacion vamos a ver las frecuencias de la variable:\n"
   ]
  },
  {
   "cell_type": "code",
   "execution_count": null,
   "metadata": {},
   "outputs": [],
   "source": [
    "pd.value_counts(dataframe['Car'])/dataframe[\"Car\"].count()"
   ]
  },
  {
   "cell_type": "markdown",
   "metadata": {},
   "source": [
    "como se puede ver casi el 47% de las casas de la muestra tienen dos plaza de aparcamiento y el 81% entre 1 y 2 plazas de aparcamiento.Respecto a las medidas de dispersión, en la tabla 3.3.1 podemos ver que la desviacion típica es de 1.01. En la siguiente tabla vemos mas variables de dispersión y asimetria:"
   ]
  },
  {
   "cell_type": "code",
   "execution_count": null,
   "metadata": {},
   "outputs": [],
   "source": [
    "mostrar_analisis_var_cuantitativas(dataframe[\"Car\"])"
   ]
  },
  {
   "cell_type": "markdown",
   "metadata": {},
   "source": [
    "como se puede ver hay un coeficiente de variación alto y asimetria por la izquierda que verificaremos mejor haciendo algunos diagramas"
=======
    "¿que se ve aqui?"
>>>>>>> c0637582118b4ae56d6f6430d04c2414c366ecb2
   ]
  },
  {
   "cell_type": "code",
   "execution_count": null,
   "metadata": {},
   "outputs": [],
   "source": [
<<<<<<< HEAD
    "sb.set_theme(style=\"whitegrid\")\n",
    "fig, (ax1,ax2) = plot.subplots(1,2,figsize=(12,6))\n",
    "sb.boxplot(data=dataframe[\"Car\"],ax=ax1)\n",
    "sb.countplot(x=dataframe[\"Car\"],ax=ax2)\n",
    "\n",
    "plot.show()"
=======
    "¿que se ve aqui"
>>>>>>> c0637582118b4ae56d6f6430d04c2414c366ecb2
   ]
  },
  {
   "cell_type": "markdown",
   "metadata": {},
   "source": [
<<<<<<< HEAD
    "### 3.3.6 Analisis de la variable Landsize\n",
    "\n",
    "Esta variable contiene el tamaño del terreno asociado a la vivienda, excluye los metros de la vivienda y está calculada en metros cuadrados. La media de terreno asociado al inmbueble es de  593.598993  El 75% de pisos tienen menos de 670 metros cuadrados de parcela. A continuacion vamos a ver las frecuencias de la variable:"
=======
    "## 3.3.1 Analisis de la variable Bathrooms\n",
    "Como se puede ver en la tabla 3.3.1 la variable tiene valor en 34857 toma valores discretos en el rango 0 a 12 dormitorios, que es el máximo encontrado. El 75% de pisos tienen entre 0 y 2 baños . A continuacion vamos a ver las frecuencias de la variable:"
>>>>>>> c0637582118b4ae56d6f6430d04c2414c366ecb2
   ]
  },
  {
   "cell_type": "code",
<<<<<<< HEAD
   "execution_count": 43,
=======
   "execution_count": 17,
>>>>>>> c0637582118b4ae56d6f6430d04c2414c366ecb2
   "metadata": {},
   "outputs": [
    {
     "data": {
<<<<<<< HEAD
      "text/html": [
       "<div>\n",
       "<style scoped>\n",
       "    .dataframe tbody tr th:only-of-type {\n",
       "        vertical-align: middle;\n",
       "    }\n",
       "\n",
       "    .dataframe tbody tr th {\n",
       "        vertical-align: top;\n",
       "    }\n",
       "\n",
       "    .dataframe thead th {\n",
       "        text-align: right;\n",
       "    }\n",
       "</style>\n",
       "<table border=\"1\" class=\"dataframe\">\n",
       "  <thead>\n",
       "    <tr style=\"text-align: right;\">\n",
       "      <th></th>\n",
       "      <th>coeficiente de Variacion</th>\n",
       "      <th>rango de la variable</th>\n",
       "      <th>rango intercuartilico</th>\n",
       "      <th>coeficiente de asimetria</th>\n",
       "    </tr>\n",
       "  </thead>\n",
       "  <tbody>\n",
       "    <tr>\n",
       "      <th>0</th>\n",
       "      <td>572.582161</td>\n",
       "      <td>433014.0</td>\n",
       "      <td>446.0</td>\n",
       "      <td>-0.331839</td>\n",
       "    </tr>\n",
       "  </tbody>\n",
       "</table>\n",
       "</div>"
      ],
      "text/plain": [
       "   coeficiente de Variacion  rango de la variable  rango intercuartilico  \\\n",
       "0                572.582161              433014.0                  446.0   \n",
       "\n",
       "   coeficiente de asimetria  \n",
       "0                 -0.331839  "
      ]
     },
     "execution_count": 43,
=======
      "text/plain": [
       "1.0     0.486989\n",
       "2.0     0.415456\n",
       "3.0     0.081897\n",
       "4.0     0.010101\n",
       "5.0     0.002891\n",
       "0.0     0.001727\n",
       "6.0     0.000601\n",
       "7.0     0.000150\n",
       "8.0     0.000113\n",
       "9.0     0.000038\n",
       "12.0    0.000038\n",
       "Name: Bathroom, dtype: float64"
      ]
     },
     "execution_count": 17,
>>>>>>> c0637582118b4ae56d6f6430d04c2414c366ecb2
     "metadata": {},
     "output_type": "execute_result"
    }
   ],
   "source": [
<<<<<<< HEAD
    "mostrar_analisis_var_cuantitativas(dataframe[\"Landsize\"])"
   ]
  },
  {
   "cell_type": "markdown",
   "metadata": {},
   "source": [
    "la variable es aproximadamente sesgada a la izquierda y con un rango de valores muy amplio.pintamos algunos gráficos para entender mejor la asimietria y la dispersión del a variablable"
   ]
  },
  {
   "cell_type": "code",
   "execution_count": 47,
   "metadata": {},
   "outputs": [
    {
     "data": {
      "image/png": "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\n",
      "text/plain": [
       "<Figure size 864x432 with 2 Axes>"
      ]
     },
     "metadata": {},
     "output_type": "display_data"
    },
    {
     "data": {
      "image/png": "iVBORw0KGgoAAAANSUhEUgAAAVwAAAFcCAYAAACEFgYsAAAAOXRFWHRTb2Z0d2FyZQBNYXRwbG90bGliIHZlcnNpb24zLjMuMSwgaHR0cHM6Ly9tYXRwbG90bGliLm9yZy/d3fzzAAAACXBIWXMAAAsTAAALEwEAmpwYAAAld0lEQVR4nO3df1Tc1Z3/8RdMAiYaVDgBhpKtmq+N7IasLmobV9cfmTBESYbmmNKmpj/Soq4obra7NbVdEkzVkt3Vxhrc01jNyalbLafbYJCliNFt4sYfoVmyFKtrTERlAMOIMa35NXy+f0SGGYYPmcCdDzA+H+f0nBnuHea+afa1t/dzP/eTZFmWJQBA3CWP9wAA4NOCwAUAhxC4AOAQAhcAHELgAoBDCFwAcIhjgbt//36VlpbK6/WqtLRUBw4ciOoTDAZVVVUlj8ejhQsXqra2dsxtktTQ0KDFixeruLhYixcv1sGDB2Mas2VZOnr0qNg5B8AIyyErVqywtm7dalmWZW3dutVasWJFVJ9f//rX1sqVK61gMGj19vZaV111lfXOO++MqW3v3r3WokWLrJ6eHsuyLOvQoUPWkSNHYhrzkSNHrN27d8fcf0BbW9tp9Z9sqG/yS/QaJ2p9jsxwe3t71d7eruLiYklScXGx2tvbFQgEIvo1NDRo2bJlSk5OVnp6ujwejxobG8fUtnnzZq1cuVIzZ86UJM2YMUOpqalxrffIkSNx/f3jjfomv0SvcaLW50jg+v1+ZWVlyeVySZJcLpcyMzPl9/uj+uXk5ITeu91udXV1jalt3759euedd/TVr35VX/ziF1VTU8MSAYBxMWW8BxBvwWBQr7/+uh5//HEdO3ZM3/72t5WTk6OSkpKYf0dbW9tpf29LS8tpf2Yyob7JL9FrHK/6CgoKbNscCVy3263u7m4Fg0G5XC4Fg0H19PTI7XZH9evs7NS8efMkRc5cR9uWk5OjoqIipaSkKCUlRQsWLNDevXtPK3Dnzp17WssQLS0tI/7RJzvqm/wSvcaJWp8jSwoZGRnKy8tTfX29JKm+vl55eXlKT0+P6FdUVKTa2lr19/crEAioublZXq93TG3FxcXauXOnLMvS8ePH9dJLL+miiy5yomwAiODYksLatWu1evVq1dTUKC0tTdXV1ZKksrIyVVRUKD8/Xz6fT62trSosLJQklZeXa9asWZI06rYbbrhBbW1tuv7665WcnKwrr7xSN954o1NlA0BIksUVJFtHjx5VW1sbSwpDUN/kl+g1TtT6uNMMABxC4AKAQwhcAHAIgQsADiFwAcAhBK5hH/3pmH7W1KOewJ/GeygAJhgC17DO9w/rnYPHdKDr0HgPBcAEQ+AaZkW9AICTCFzTPgla7icBMBSBa9hAzhK3AIYicA2zPolaJrgAhiJwDbNYxAVgg8CNE2a4AIYicA3rt1hSADA8Ate00EUzEhdAJALXMC6aAbBD4BoWCloCF8AQBK5pLCkAsEHgGsaSAgA7BK5h3GkGwA6Ba9jgfQ9ELoBIBK5pzHAB2CBwDRu88YHIBRCJwI0T8hbAUASuYRa39gKwQeAaZg3zCgAkAte80BMfxncYACYeAtew0JLCOI8DwMRD4BoWOkqBxAUwBIFrGE98AGCHwDVsYEmhn7wFMASBaxi39gKwQ+Caxq29AGwQuIZxPCMAOwSuYRbbFADYIHBNY0kBgA0C1zCWFADYIXANG3ziA4kLIBKBaxhLuADsELiGcTwjADuOBe7+/ftVWloqr9er0tJSHThwIKpPMBhUVVWVPB6PFi5cqNra2jG3/eQnP9H8+fPl8/nk8/lUVVUV1zq5tReAnSlOfdGaNWu0fPly+Xw+1dXVqbKyUlu2bInos23bNnV0dKipqUl9fX0qKSnR/PnzlZubO+o2SSopKdFdd93lUKXMcAEMz5EZbm9vr9rb21VcXCxJKi4uVnt7uwKBQES/hoYGLVu2TMnJyUpPT5fH41FjY+OY2pxmcR4uABuOBK7f71dWVpZcLpckyeVyKTMzU36/P6pfTk5O6L3b7VZXV9eY2iTpmWee0eLFi7Vy5Urt2bPHfIFhWFIAYMexJYXx8uUvf1m33nqrpk6dqhdffFG33XabGhoadO6558b8O9ra2mLue+DAHyVJ77z7nlpaDp32eCeLlpaW8R5CXCV6fVLi1zhe9RUUFNi2ORK4brdb3d3dCgaDcrlcCgaD6unpkdvtjurX2dmpefPmSYqcuY62bebMmaHf/9d//ddyu936v//7P11++eUxj3/u3LlKTU2NqW/gxNvSyx/oM5/5jAoKLoz5OyaTlpaWEf9RTXaJXp+U+DVO1PocWVLIyMhQXl6e6uvrJUn19fXKy8tTenp6RL+ioiLV1taqv79fgUBAzc3N8nq9Y2rr7u4O/f7XXntN7733ns4///y41Tq4D5clBQCRHFtSWLt2rVavXq2amhqlpaWpurpaklRWVqaKigrl5+fL5/OptbVVhYWFkqTy8nLNmjVLkkbd9sADD+j3v/+9kpOTNXXqVK1fvz5i1msa+3AB2HEscGfPnh2xP3bApk2bQq9dLpftPtnRtg0Eu1O4tReAHe40M4xNCgDsELim8Zh0ADYIXMM4vAaAHQLXMJ74AMAOgWsaSwoAbBC4hjHBBWCHwDVs8PAaEhdAJALXMIslBQA2CFzDuLUXgB0C1zByFoAdAtc4zlIAMDwC1zAumgGwQ+AaRs4CsEPgGseSAoDhEbiGDQRtP4kLYAgC1zCCFoAdAjdOyF0AQxG4hvHEBwB2CFzDQkFL3gIYgsA1jbwFYIPANYyzFADYIXANG3ziw7gOA8AEROCaxvGMAGwQuIb1c+MDABsErmHsUgBgh8A1jbwFYIPANYxdCgDsELiGEbQA7BC4cULuAhiKwDWMJz4AsEPgGkbQArBD4MYJ+3ABDEXgGtYfWlIY33EAmHgIXMNYUgBgh8CNE4IXwFAErmEWd5oBsEHgGsZZCgDsELimcdEMgA0C17DB88dJXACRCFzDBi6WMcMFMJRjgbt//36VlpbK6/WqtLRUBw4ciOoTDAZVVVUlj8ejhQsXqra2dsxtA9566y395V/+paqrq+NS3wBu7QVgZ4pTX7RmzRotX75cPp9PdXV1qqys1JYtWyL6bNu2TR0dHWpqalJfX59KSko0f/585ebmjrpNOhnIa9askcfjiXudFo/YAWDDkRlub2+v2tvbVVxcLEkqLi5We3u7AoFARL+GhgYtW7ZMycnJSk9Pl8fjUWNj45jaJOmnP/2prrnmGp133nlxr9WKegEAJzkyw/X7/crKypLL5ZIkuVwuZWZmyu/3Kz09PaJfTk5O6L3b7VZXV9eY2v7whz9o586d2rJli2pqakY1/ra2tpj7vt/zgSQp8MEHamlpGdX3TQaJXJuU+PVJiV/jeNVXUFBg2+bYksJ4OH78uP7pn/5J999/fyjsR2Pu3LlKTU2Nqe9L+1ulN/+oc845Z8Q//GTW0tKSsLVJiV+flPg1TtT6HAlct9ut7u5uBYNBuVwuBYNB9fT0yO12R/Xr7OzUvHnzJEXOXEfT9v7776ujo0M333yzJOnQoUOyLEuHDx/WunXr4lIrF8sA2HFkDTcjI0N5eXmqr6+XJNXX1ysvLy9iOUGSioqKVFtbq/7+fgUCATU3N8vr9Y66LScnRy+//LK2b9+u7du36+tf/7q+9KUvxS1swxG8AIZybElh7dq1Wr16tWpqapSWlhbanlVWVqaKigrl5+fL5/OptbVVhYWFkqTy8nLNmjVLkkbd5jSLO80A2HAscGfPnj3s/thNmzaFXrtcLlVVVQ37+dG2hbvjjjtiHO3oceMDADvcaWbY4GlhJC6ASASuYQNBywwXwFAErmEELQA7BG6csEsBwFAErmGcpQDADoFrGGcpALBD4JrG8YwAbBC4hnHjAwA7BK5hg2u4JC6ASASuYaFnmpG3AIYgcA1j7RaAHQLXMGa4AOwQuKZxlgIAGwSuYZylAMAOgWsYQQvADoEbJ1w8AzAUgWsYB5ADsEPgGmZxay8AGwSuYYNPfACASASuYZZIXADDI3AN45lmAOwQuHHCEi6AoQhcw3jiAwA7MQfuc889pxMnTsRzLAlh8IkPRC6ASDEH7oYNG3TllVfqnnvuUWtrazzHNLl9krP95C2AIWIO3KefflqbN29Wamqq7rjjDnm9XtXU1Ojdd9+N5/gmnX72hQGwcVpruBdddJHuuusu/dd//ZfWrFmjxsZGLVy4UF/96lf19NNPq7+/P17jnDzYpQDAxpTT/UBHR4eefvppPf3000pKSlJFRYXcbreeeOIJNTU16eGHH47HOCcNTgsDYCfmwH3iiSdUV1ent99+W4sWLdL69et18cUXh9q9Xq+uuOKKeIxxUiFoAdiJOXB/+9vf6pvf/KYWLFiglJSUqPZp06bpJz/5idHBTWacpQBgqJjXcC+//HItWrQoKmwff/zx0Osrr7zS3MgmKa6ZAbATc+Bu3Lhx2J8/8sgjxgaTCFjDBWDnlEsKu3btkiQFg0G99NJLEf9T+d1339WZZ54Zv9FNQhzPCMDOKQP3+9//viTp2LFjuvvuu0M/T0pK0syZM/WDH/wgfqObhDiAHICdUwbu9u3bJUnf/e53tX79+rgPaLIbDFoSF0CkmNdwCdvTwwwXwFAjznAXLVqk//zP/5QkXX311UpKShq23wsvvGB8YJMVp4UBsDNi4K5bty70+p//+Z/jPphEwIoCADsjBu6ll14aen355ZfHfTAJgbMUANiIeQ338ccf12uvvSZJ+p//+R9dc801WrBggfbs2RO3wU1G7MMFYCfmwN28ebNyc3MlSf/6r/+qb3zjG7r11lt13333xfT5/fv3q7S0VF6vV6WlpTpw4EBUn2AwqKqqKnk8Hi1cuFC1tbVjbvvVr36lxYsXy+fzafHixdqyZUusJY8Kd5oBsBPzWQofffSRZsyYocOHD+v111/X5s2b5XK5VF1dHdPn16xZo+XLl8vn86murk6VlZVR4bdt2zZ1dHSoqalJfX19Kikp0fz585WbmzvqNq/Xq6VLlyopKUmHDx/W4sWLdfnll+uiiy46vb9UjAaClhsfAAwV8wzX7Xbrd7/7nRoaGnTppZfK5XLp8OHDcrlcp/xsb2+v2tvbVVxcLEkqLi5We3u7AoFARL+GhgYtW7ZMycnJSk9Pl8fjUWNj45jazjrrrNDuiiNHjuj48eO2uy1M4MYHAHZinuF+97vfVUVFhVJSUvTQQw9Jkp5//nnl5+ef8rN+v19ZWVmhcHa5XMrMzJTf71d6enpEv5ycnNB7t9utrq6uMbVJJ5/H9sADD6ijo0Pf+c53NGfOnFjLliS1tbXF3PePf/yTpJN35rW0tJzW90wmiVyblPj1SYlf43jVV1BQYNsWc+BeffXV2rlzZ8TPioqKVFRUNPqROWTBggVasGCBOjs7VV5err/5m7/RBRdcEPPn586dq9TU1Jj6Tn/hBemDDzV16tQR//CTWUtLS8LWJiV+fVLi1zhR6zutR+x89NFH2rt3r3bt2qVdu3Zp9+7d2r179yk/53a71d3drWAwKOnkRa6enh653e6ofp2dnaH3fr9f2dnZY2oLl5OTo/z8/LjeqMEuBQB2Yp7h/sd//IfuueceTZ8+XWeccUbo50lJSXruuedG/GxGRoby8vJUX18vn8+n+vp65eXlRSwnSCdnzLW1tSosLFRfX5+am5v1xBNPjKlt3759mj17tiQpEAjo5ZdfVmFhYaxlnzbOUgBgJ+bAffDBB7VhwwZdffXVo/qitWvXavXq1aqpqVFaWlpod0NZWZkqKiqUn58vn8+n1tbWUCCWl5dr1qxZkjTqtqeeekovvviipkyZIsuydNNNNzlyUDozXABDxRy4wWBwTEE1e/bsiP2xAzZt2hR67XK5VFVVNeznR9sWfqSkEzhLAYCdmNdwy8rK9Mgjj/Ao9FNgHy4AOzHPcDdv3qyDBw/q0Ucf1TnnnBPRxmlhg9iHC8BOzIHLaWGxGXzEzviOA8DEE3PgclpYbNilAMBOzGu4x44d04MPPqgFCxaENhTv3LlTP//5z+M2uMmJJQUAw4s5cO+77z698cYb+pd/+ZfQWQQXXnihfvGLX8RtcJMRp4UBsBPzkkJzc7Oampo0ffp0JSefzOmsrCx1d3fHbXCT0eCKApELIFLMM9ypU6eGbs0dEAgEonYsfOoxwwVgI+bALSoq0l133aV33nlHktTT06N77rlHN9xwQ9wGNxkNnqVA5AKIFHPgrlq1Srm5uVqyZIkOHTokr9ermTNnqry8PJ7jm3TYFgbATsxruB0dHbrgggt0yy23KBgMyuPxnPa5sp8G3NoLwM4pA9eyLN19993aunWrsrOzlZmZqe7ubm3cuFE+n0/33XdfXJ+gMNkM3to7rsMAMAGdMnCfeuopvfLKK3rqqac0b9680M/37t2r73znO3ryySf1la98Ja6DnEwsEheAjVOu4dbV1ekHP/hBRNhK0rx583T33Xerrq4uboOblFhSAGDjlIG7b98+XXbZZcO2XXbZZdq3b5/xQU1mTHAB2Dll4AaDQZ111lnDtp111lkc1zgEZykAsHPKNdwTJ07opZdest1XOvRmCHCWAoDhnTJwMzIyRnxqwtDnkn3aDe7DJXEBRDpl4G7fvt2JcSQMDq8BYOe0HpOOU+Mx6QDsELiGEbQA7BC4hoUHLuu4AMIRuMYNhix5CyAcgWtYxAx3/IYBYAIicA2LCFmmuADCELimhYVsP3kLIAyBa5g1wjsAn24ErmHhOxNYUQAQjsA1jItmAOwQuIaFhyz7cAGEI3ANi8hY8hZAGALXtPA13HEcBoCJh8A1zJI08ExNlhQAhCNwDbMsKTlp8DUADCBwjbNCj40nbwGEI3AN67cGlxSY4gIIR+CaZlkK5e24DgTAREPgGhZ50WxchwJggiFwDbMsdikAGB6BGwdJoUVcABjkWODu379fpaWl8nq9Ki0t1YEDB6L6BINBVVVVyePxaOHChaqtrR1z28aNG3XDDTdoyZIlWrp0qXbs2BG3GgdmtFwzAzCcUz4m3ZQ1a9Zo+fLl8vl8qqurU2VlpbZs2RLRZ9u2bero6FBTU5P6+vpUUlKi+fPnKzc3d9Rt8+bN08qVKzVt2jT94Q9/0E033aSdO3fqjDPOMF7jQMCG9uFy2QxAGEdmuL29vWpvb1dxcbEkqbi4WO3t7QoEAhH9GhoatGzZMiUnJys9PV0ej0eNjY1jarvqqqs0bdo0SdKcOXNkWZb6+vriUudAvIb24ZK3AMI4MsP1+/3KysqSy+WSJLlcLmVmZsrv9ys9PT2iX05OTui92+1WV1fXmNrCbd26VX/2Z3+m7Ozs0xp/W1tbTP2CnzziYWAJt7V1r9Kmu07ruyaLlpaW8R5CXCV6fVLi1zhe9RUUFNi2ObakMN5eeeUVbdiwQY899thpf3bu3LlKTU09Zb/jJ/qlJ98LBe68efnKOHvaaX/fRNfS0jLiP6rJLtHrkxK/xolanyNLCm63W93d3QoGg5JOXuTq6emR2+2O6tfZ2Rl67/f7Q7PR0bZJ0p49e/SP//iP2rhxoy644ALzBYZw0QyAPUcCNyMjQ3l5eaqvr5ck1dfXKy8vL2I5QZKKiopUW1ur/v5+BQIBNTc3y+v1jqlt7969WrVqlR566CH9xV/8RVzrHAhYbnwAMBzHlhTWrl2r1atXq6amRmlpaaqurpYklZWVqaKiQvn5+fL5fGptbVVhYaEkqby8XLNmzZKkUbdVVVXpyJEjqqysDI1l/fr1mjNnjvEaoy6asUsBQBjHAnf27NkR+2MHbNq0KfTa5XKpqqpq2M+Ptu1Xv/rVKEY7OqF9uBymAGAY3Glm0sCSQuRbAJBE4Bo1ELDJnKUAYBgErkGDSwrc+AAgGoFrUNQuBRYVAIQhcA0a3KUw5AcAIALXrKGnhY3fSABMQASuQdGH1xC5AAYRuAZxpxmAkRC4BkXd+AAAYQjcOBjYh9vPFBdAGALXoMElhdC+MAAIIXANinqm2fgNBcAEROAaNHQfLrsUAIQjcA3iohmAkRC4cZAkzlIAEI3ANSh6Hy6JC2AQgWtQ9OE1ADCIwDVo4HQwDq8BMBwC16RPAjb5k8TlxgcA4Qhcg6KOZwSAMASuQVE3PjDDBRCGwDWIi2YARkLgGjR40YzEBRCNwDVp6GPSCVwAYQhcg6LOUmCKCyAMgWvQ0LMUmOECCEfgGmQN2YfLLgUA4QjcOOCaGYDhELgG9Q89npHEBRCGwDVp6C4FEhdAGALXoMFdCpyHCyAagWtQ1BMfCFwAYQjcOGBJAcBwCFyDop/4MH5jATDxELgGceMDgJEQuAYN5GvoxgeWFACEIXBNYkkBwAgIXIOibnwAgDAEbhzwxAcAwyFwDRq8aDawhgsAgxwL3P3796u0tFRer1elpaU6cOBAVJ9gMKiqqip5PB4tXLhQtbW1Y27buXOnli5dqrlz56q6ujquNUY9RJLEBRBmilNftGbNGi1fvlw+n091dXWqrKzUli1bIvps27ZNHR0dampqUl9fn0pKSjR//nzl5uaOum3WrFn64Q9/qN/85jc6duxYfIuMumhG4gIY5MgMt7e3V+3t7SouLpYkFRcXq729XYFAIKJfQ0ODli1bpuTkZKWnp8vj8aixsXFMbZ/97Gf153/+55oyJf7/v8WKOrwGAAY5MsP1+/3KysqSy+WSJLlcLmVmZsrv9ys9PT2iX05OTui92+1WV1fXmNpMaGtri6lfx/tHJQ2u4b755j5NPdppbBwTSUtLy3gPIa4SvT4p8Wscr/oKCgps2xxbUpjM5s6dq9TU1FP2O+OtXunZ95X8yRT3ggsuUMG8nJE/NAm1tLSM+I9qskv0+qTEr3Gi1ufIkoLb7VZ3d7eCwaCkkxe5enp65Ha7o/p1dg7OCP1+v7Kzs8fU5qSoW3sdHwGAicyRwM3IyFBeXp7q6+slSfX19crLy4tYTpCkoqIi1dbWqr+/X4FAQM3NzfJ6vWNqcxK7FACMxLElhbVr12r16tWqqalRWlpaaItWWVmZKioqlJ+fL5/Pp9bWVhUWFkqSysvLNWvWLEkaddvu3bv193//9zp8+LAsy9Izzzyje++9V1dddZX5IkMXzThLAUA0xwJ39uzZEftjB2zatCn02uVyqaqqatjPj7bt0ksv1W9/+9tRjPj0DQQsZykAGA53mhk09DxcJrgAwhG4Jg298YHEBRCGwDUotKTwyRpuP3kLIAyBa9DAkkJy0pAfAIAIXKOinmk2fkMBMAERuAaxSwHASAhcgwZnuGxTABCNwI0DlnABDIfANYjHpAMYCYFrUNRZCiwpAAhD4Jo0ZA2XfbgAwhG4BoWWFELvx28sACYeAteggXxNZkkBwDAIXIO4aAZgJASuQUP34ZK3AMIRuAZFP/GByAUwiMA1ibMUAIyAwDVo8HjGT96TuADCELgGRT/xgcQFMIjANYkbHwCMgMA1aGBJIZlH7AAYBoFrUH/UksK4DQXABETgmhS6tZd9uACiEbgGDd2HyzUzAOEIXIOidikwxwUQhsA1irMUANgjcA0KzXCHvAcAicA1KurwGhIXQBgC16ghSwrjOBIAEw+Ba9DAhDZ04wMzXABhCFyD+ocsKQBAOALXKHYpALBH4BoUtUuBVVwAYQhcg6Kf+DBeIwEwERG4Jg19iOQ4DgXAxEPgGhSa4Q4cXsOBuADCELgGDT1LgbgFEI7ANWnokgKJCyAMgWtQP7sUAIyAwDXICtuHm5Qk1hQARHAscPfv36/S0lJ5vV6VlpbqwIEDUX2CwaCqqqrk8Xi0cOFC1dbWxrXNuFDAnrxsRt4CCDfFqS9as2aNli9fLp/Pp7q6OlVWVmrLli0RfbZt26aOjg41NTWpr69PJSUlmj9/vnJzc+PSZlr4PtzUlCna83qPSq6erRnTU4x/F4DJx5HA7e3tVXt7ux5//HFJUnFxsdatW6dAIKD09PRQv4aGBi1btkzJyclKT0+Xx+NRY2Ojvv3tb8el7VQGDp85duxYTHWee+YUZaenaoorSRXL5urRut9r1QPP6f/lnqMzz5iqM1JdOiNlipKSToZzypRkTZ3iUqxHLyQp9jMaYuo5yk5d3Yf17kdvDPZIsKMjuroO673Db5y64ySW6DWarO+i887VZ7PTTuszKSkpw56p4kjg+v1+ZWVlyeVySZJcLpcyMzPl9/sjAtfv9ysnJyf03u12q6urK25tp3L8+HFJ0htvxPZf3JmSbi2aKUma2n9QdyzOGtKjX1Js4T2R5c44S9JH4z2MuPnM/0vs+qTEr9FkfR8d/EhtB0/vM3PnzlVqamrUzx1bUpiMzjzzTH3uc5/T1KlTOQEMQMxSUoZfRnQkcN1ut7q7uxUMBuVyuRQMBtXT0yO32x3Vr7OzU/PmzZMUOTuNR9upJCcna8aMGWOsHgBOcmSXQkZGhvLy8lRfXy9Jqq+vV15eXsRygiQVFRWptrZW/f39CgQCam5ultfrjVsbADjJsSWFtWvXavXq1aqpqVFaWpqqq6slSWVlZaqoqFB+fr58Pp9aW1tVWFgoSSovL9esWbMkKS5tAOCkJIvnwACAI7jTDAAcQuACgEMIXABwCIELAA4hcA2K5YCe8VBdXa3rrrtOc+bMibhrbqTxOt02Fh988IHKysrk9Xq1ePFi3X777QoEAglV42233aYlS5aopKREy5cv12uvvZZQ9Q14+OGHI/6dJlp9smDMihUrrK1bt1qWZVlbt261VqxYMc4jOunVV1+1Ojs7rWuvvdZ6/fXXQz8fabxOt43FBx98YL300kuh9z/60Y+s733vewlV46FDh0Kvn332WaukpCSh6rMsy2pra7O+9a1vWddcc03o32ki1WdZlkXgGnLw4EGroKDAOnHihGVZlnXixAmroKDA6u3tHeeRDQoP3JHG63SbaY2NjdbXv/71hK3x17/+tfXFL34xoeo7evSo9aUvfcnq6OgI/TtNpPoGcJaCIbEe0DNRjDRey7IcbTP59+nv79cvfvELXXfddQlX4/e//329+OKLsixLjz76aELVt2HDBi1ZsiTipqREqm8Aa7hIKOvWrdP06dN10003jfdQjLv33nv1wgsvaNWqVVq/fv14D8eYPXv26H//93+1fPny8R5K3DHDNSTWA3omipHGa1mWo22mVFdX6+2339a//du/KTk5OSFrlKSSkhJVVlYqOzs7Iep79dVX9dZbb2nBggWSpK6uLn3rW9/S9773vYSoLxwzXENiPaBnohhpvE63mfDggw+qra1NGzduDB2Nlyg1/vGPf5Tf7w+93759u84+++yEqe/mm2/Wzp07tX37dm3fvl3Z2dn62c9+puuvvz4h6otgbDUY1ptvvmndeOONVmFhoXXjjTda+/btG+8hWZZlWevWrbOuuuoqKy8vz7riiius66+/3rKskcfrdNtYvPHGG9bnPvc5q7Cw0FqyZIm1ZMkS67bbbkuYGt9//31r2bJlVnFxsbVkyRJrxYoVVltbW8LUN1T4xd1Eq4/DawDAISwpAIBDCFwAcAiBCwAOIXABwCEELgA4hMAFRuG6667Tf//3f4/Yp7OzU5dccomCwaBDo8JER+Ai4cQShk7IycnRnj17QvfmAwQuADiEwMWnwocffqhbbrlFX/jCF3TZZZfplltuUVdXV6h9xYoV+vGPf6wvf/nLuuSSS7Ry5crQIeaStHXrVl177bX6/Oc/r0ceeSTid+/du1dLly7VX/3VX+mKK67Q/fffL0l69913NWfOHJ04cUJ79uzRJZdcEvpPfn6+rrvuOkknTzj76U9/Ko/Ho89//vO688471dfXF/8/ChxH4OJTob+/X0uXLtXzzz+v559/Xqmpqbrnnnsi+tTX1+v+++/Xrl27dPz4cT322GOSpDfffFNVVVVav369duzYob6+voiwvvfee/W1r31Nv/vd7/Tss89q0aJFUd9/ySWXaM+ePdqzZ49eeeUVXXzxxbrhhhskSVu2bFFzc7N+/vOfa8eOHTr77LOjxobEQODiU+Hcc8+V1+vVtGnTdNZZZ+lv//Zv9eqrr0b0Wbp0qc4//3ydccYZKioqCj3GprGxUddcc40uu+wypaSk6M4771Ry8uD/6UyZMkUdHR0KBAI688wzdfHFF484lh/+8IeaNm2aVq1aJUl66qmntGrVKmVnZyslJUW33367fvOb3+jEiRNm/wgYdxzPiE+Fjz/+WPfff7927NihDz/8UNLJU7gGjuKTpJkzZ4b6T5s2TX/6058kST09PcrOzg61TZ8+Xeecc07o/b333quHHnpIixYtUm5urm6//XZde+21w47jySef1CuvvKJf/vKXodDu7OxUeXl5RIgnJyert7dXWVlZZv4AmBAIXHwqPPbYY9q/f79++ctfaubMmXrttddUUlKiWM5uyszM1L59+0LvP/7444g11vPOO08PPPCA+vv71dTUpIqKCr388stRv2f37t3asGGD/v3f/10zZswI/Tw7O1v33XefCgoKxlYkJjyWFJCQjh8/rqNHj4b+c+jQIaWmpiotLU19fX16+OGHY/5dXq9XL7zwgnbv3q1jx47poYceUn9/f6i9rq5OgUBAycnJSktLk6SorWB+v19/93d/p+rqap1//vkRbV/5ylf04x//WO+9954kKRAIqLm5ebSlYwJjhouEdPPNN0e8X7p0qY4ePaovfOELyszM1De/+c2YQ+3CCy9UZWWl/uEf/kEff/yxvvGNb0QsMezYsUM/+tGPdOTIEeXk5OjBBx9UampqxO/YtWuXDh48qDvvvDP0s5ycHD3zzDP62te+JsuytHLlSvX09CgjI0PXX3+9PB7PGP4CmIg4DxcAHMKSAgA4hMAFAIcQuADgEAIXABxC4AKAQwhcAHAIgQsADiFwAcAhBC4AOOT/A3/xWXLHAtT1AAAAAElFTkSuQmCC\n",
      "text/plain": [
       "<Figure size 360x360 with 1 Axes>"
      ]
     },
     "metadata": {},
     "output_type": "display_data"
    }
   ],
   "source": [
    "mostrar_graf_variables_continuas(dataframe,\"Landsize\")"
   ]
  },
  {
   "cell_type": "markdown",
   "metadata": {},
   "source": [
    "vamos a eliminar el registro superior que está desvirtuando el gráfico para poder analizarlo con mas detalle"
   ]
  },
  {
   "cell_type": "code",
   "execution_count": 52,
   "metadata": {},
   "outputs": [
    {
     "name": "stdout",
     "output_type": "stream",
     "text": [
      "registros filtrado =  13\n"
     ]
    },
    {
     "data": {
      "image/png": "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\n",
      "text/plain": [
       "<Figure size 864x432 with 2 Axes>"
      ]
     },
     "metadata": {},
     "output_type": "display_data"
    },
    {
     "data": {
      "image/png": "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\n",
      "text/plain": [
       "<Figure size 360x360 with 1 Axes>"
      ]
     },
     "metadata": {},
     "output_type": "display_data"
    }
   ],
   "source": [
    "#Eliminamos outliers superiores para poder seguir analizando \n",
    "df_filtered=dataframe[dataframe[\"Landsize\"]<40000]\n",
    "print(\"registros filtrado = \",(dataframe[\"Landsize\"].count()-df_filtered[\"Landsize\"].count()))\n",
    "mostrar_graf_variables_continuas(df_filtered,\"Landsize\")"
   ]
  },
  {
   "cell_type": "markdown",
   "metadata": {},
   "source": [
    "Continua habiendo outliers que hacen que la variabe sea muy dispersa por lo que la variable es clara condidata a ser transformada"
=======
    "pd.value_counts(dataframe['Bathroom'])/dataframe[\"Bathroom\"].count()"
>>>>>>> c0637582118b4ae56d6f6430d04c2414c366ecb2
   ]
  },
  {
   "cell_type": "markdown",
   "metadata": {},
   "source": [
<<<<<<< HEAD
    "### 3.3.7 Analisis de la variable BulldingArea\n",
    "\n",
    "Esta variable contiene el el tamaño del terreno asociado a la vivienda en metros cuadrados. Como se puede ver en la tabla 3.3.1 la variable tiene valor en 13742 elementos de la muestra.La media del tamaño de los inmubles de 160.25640 y toma valores continuos en el rango 0 a 44515 . El 75% de pisos tienen menos de 188.00000 metros cuadrado. A continuacion vamos a ver las medidas de dispersión de la varibale:"
=======
    "Como se puede ver en la tabla anterior el 89% de la muestra tiene igual o menos de dos dormitorios comn una media de 1,6 baños. En la tabla 3.3.1 respecto a las medidas de dispersión podemos ver que la desviacion típica es de 0,72 y en la siguiente tabla vemos mas variables de dispersión y asimetria:"
>>>>>>> c0637582118b4ae56d6f6430d04c2414c366ecb2
   ]
  },
  {
   "cell_type": "code",
<<<<<<< HEAD
   "execution_count": 44,
=======
   "execution_count": 16,
>>>>>>> c0637582118b4ae56d6f6430d04c2414c366ecb2
   "metadata": {},
   "outputs": [
    {
     "data": {
      "text/html": [
       "<div>\n",
       "<style scoped>\n",
       "    .dataframe tbody tr th:only-of-type {\n",
       "        vertical-align: middle;\n",
       "    }\n",
       "\n",
       "    .dataframe tbody tr th {\n",
       "        vertical-align: top;\n",
       "    }\n",
       "\n",
       "    .dataframe thead th {\n",
       "        text-align: right;\n",
       "    }\n",
       "</style>\n",
       "<table border=\"1\" class=\"dataframe\">\n",
       "  <thead>\n",
       "    <tr style=\"text-align: right;\">\n",
       "      <th></th>\n",
       "      <th>coeficiente de Variacion</th>\n",
       "      <th>rango de la variable</th>\n",
       "      <th>rango intercuartilico</th>\n",
       "      <th>coeficiente de asimetria</th>\n",
       "    </tr>\n",
       "  </thead>\n",
       "  <tbody>\n",
       "    <tr>\n",
       "      <th>0</th>\n",
<<<<<<< HEAD
       "      <td>250.390661</td>\n",
       "      <td>44515.0</td>\n",
       "      <td>86.0</td>\n",
       "      <td>0.209302</td>\n",
=======
       "      <td>44.572429</td>\n",
       "      <td>12.0</td>\n",
       "      <td>1.0</td>\n",
       "      <td>-1.0</td>\n",
>>>>>>> c0637582118b4ae56d6f6430d04c2414c366ecb2
       "    </tr>\n",
       "  </tbody>\n",
       "</table>\n",
       "</div>"
      ],
      "text/plain": [
       "   coeficiente de Variacion  rango de la variable  rango intercuartilico  \\\n",
<<<<<<< HEAD
       "0                250.390661               44515.0                   86.0   \n",
       "\n",
       "   coeficiente de asimetria  \n",
       "0                  0.209302  "
      ]
     },
     "execution_count": 44,
=======
       "0                 44.572429                  12.0                    1.0   \n",
       "\n",
       "   coeficiente de asimetria  \n",
       "0                      -1.0  "
      ]
     },
     "execution_count": 16,
>>>>>>> c0637582118b4ae56d6f6430d04c2414c366ecb2
     "metadata": {},
     "output_type": "execute_result"
    }
   ],
   "source": [
<<<<<<< HEAD
    "mostrar_analisis_var_cuantitativas(dataframe[\"BuildingArea\"])"
=======
    "mostrar_analisis_var_cuantitativas(dataframe[\"Bathroom\"])"
>>>>>>> c0637582118b4ae56d6f6430d04c2414c366ecb2
   ]
  },
  {
   "cell_type": "markdown",
   "metadata": {},
   "source": [
<<<<<<< HEAD
    "como se puede ver la variable tiene asimetria a la derecha, pero en la tabla inicial vimos que la desviación estándar era muy alta para el valor que tomaba la media. Pasamos a comprobar visualmente la simetria"
=======
    "El coeficiente de variación es del 44% y el coeficiente de asimetria es -1 lo que indica que la variable no es simetrica, tiene cola a la derecha. comprobaremos esto mismo de manera visual pintando su histograma y boxplot"
>>>>>>> c0637582118b4ae56d6f6430d04c2414c366ecb2
   ]
  },
  {
   "cell_type": "code",
<<<<<<< HEAD
   "execution_count": 42,
=======
   "execution_count": 29,
>>>>>>> c0637582118b4ae56d6f6430d04c2414c366ecb2
   "metadata": {},
   "outputs": [
    {
     "data": {
<<<<<<< HEAD
      "image/png": "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\n",
=======
      "image/png": "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\n",
>>>>>>> c0637582118b4ae56d6f6430d04c2414c366ecb2
      "text/plain": [
       "<Figure size 864x432 with 2 Axes>"
      ]
     },
     "metadata": {},
     "output_type": "display_data"
<<<<<<< HEAD
    },
    {
     "data": {
      "image/png": "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\n",
      "text/plain": [
       "<Figure size 360x360 with 1 Axes>"
      ]
     },
     "metadata": {},
     "output_type": "display_data"
    }
   ],
   "source": [
    "mostrar_graf_variables_continuas(dataframe,\"BuildingArea\")"
=======
    }
   ],
   "source": [
    "sb.set_theme(style=\"whitegrid\")\n",
    "fig, (ax1,ax2) = plot.subplots(1,2,figsize=(12,6))\n",
    "sb.boxplot(data=dataframe[\"Bathroom\"],ax=ax1)\n",
    "sb.countplot(x=dataframe[\"Bathroom\"],ax=ax2)\n",
    "\n",
    "plot.show()"
>>>>>>> c0637582118b4ae56d6f6430d04c2414c366ecb2
   ]
  },
  {
   "cell_type": "markdown",
   "metadata": {},
   "source": [
<<<<<<< HEAD
    "como se puede ver hay claramente algún outlier que desvirtua la muestra (ya lo pudimos ver tambien en la tabla 3.1.1 donde la media era de 522 y el maximo era mas de 44000 metros cuadrados de parcela).\n",
    "Eliinamos el el maximo en cuestión y repiintamos los graficos"
=======
    "### 3.3.1 Analisis de la variable Car\n",
    "\n",
    "Esta variable contiene el numero de plazas de aparcamiento que tiene asociadas la vivienda Como se puede ver en la tabla 3.3.1 la variable tiene valor en 34857 toma valores discretos en el rango 0 a 26 plazas de aparcamiento. El 75% de pisos tienen entre 0 y 2 plazas de aparcamiento . A continuacion vamos a ver las frecuencias de la variable:\n"
>>>>>>> c0637582118b4ae56d6f6430d04c2414c366ecb2
   ]
  },
  {
   "cell_type": "code",
<<<<<<< HEAD
   "execution_count": 41,
=======
   "execution_count": 23,
>>>>>>> c0637582118b4ae56d6f6430d04c2414c366ecb2
   "metadata": {},
   "outputs": [
    {
     "data": {
<<<<<<< HEAD
      "image/png": "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\n",
      "text/plain": [
       "<Figure size 864x432 with 2 Axes>"
      ]
     },
     "metadata": {},
     "output_type": "display_data"
    },
    {
     "data": {
      "image/png": "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\n",
      "text/plain": [
       "<Figure size 360x360 with 1 Axes>"
      ]
     },
     "metadata": {},
     "output_type": "display_data"
    }
   ],
   "source": [
    "#Eliminamos el maximo y vemos que ocurre\n",
    "df_filtered=dataframe[dataframe[\"BuildingArea\"]<40000]\n",
    "mostrar_graf_variables_continuas(df_filtered,\"BuildingArea\")"
   ]
  },
  {
   "cell_type": "markdown",
   "metadata": {},
   "source": [
    "Los datos sin ese registro tienen mejor aspecto y parecen muy concentrados. Lo tendremos en cuenta cuando tratemos la variables."
=======
      "text/plain": [
       "2.0     0.467450\n",
       "1.0     0.350721\n",
       "0.0     0.062421\n",
       "3.0     0.061464\n",
       "4.0     0.044433\n",
       "5.0     0.005779\n",
       "6.0     0.005358\n",
       "7.0     0.000957\n",
       "8.0     0.000880\n",
       "10.0    0.000230\n",
       "9.0     0.000115\n",
       "11.0    0.000077\n",
       "26.0    0.000038\n",
       "12.0    0.000038\n",
       "18.0    0.000038\n",
       "Name: Car, dtype: float64"
      ]
     },
     "execution_count": 23,
     "metadata": {},
     "output_type": "execute_result"
    }
   ],
   "source": [
    "pd.value_counts(dataframe['Car'])/dataframe[\"Car\"].count()"
>>>>>>> c0637582118b4ae56d6f6430d04c2414c366ecb2
   ]
  },
  {
   "cell_type": "markdown",
   "metadata": {},
   "source": [
<<<<<<< HEAD
    "### 3.3.8 Analisis de la variable PropertyCountss\n",
    "\n",
    "Esta variable contiene el numero de viviendas existentes en el barrio. Como se puede ver en la tabla 3.3.1 la variable tiene valor en 34854 y toma valores discretos en el rango 83 a 21650(que es el maximo de viviendas en un bbarrio). El 75% de pisos están en barrios con 10412 viviendas o menos.\n",
    "A continuacion vamos a ver las frecuencias de la variable:"
=======
    "como se puede ver casi el 47% de las casas de la muestra tienen dos plaza de aparcamiento y el 81% entre 1 y 2 plazas de aparcamiento.Respecto a las medidas de dispersión, en la tabla 3.3.1 podemos ver que la desviacion típica es de 1.01. En la siguiente tabla vemos mas variables de dispersión y asimetria:"
>>>>>>> c0637582118b4ae56d6f6430d04c2414c366ecb2
   ]
  },
  {
   "cell_type": "code",
<<<<<<< HEAD
   "execution_count": 24,
=======
   "execution_count": 22,
>>>>>>> c0637582118b4ae56d6f6430d04c2414c366ecb2
   "metadata": {},
   "outputs": [
    {
     "data": {
      "text/html": [
       "<div>\n",
       "<style scoped>\n",
       "    .dataframe tbody tr th:only-of-type {\n",
       "        vertical-align: middle;\n",
       "    }\n",
       "\n",
       "    .dataframe tbody tr th {\n",
       "        vertical-align: top;\n",
       "    }\n",
       "\n",
       "    .dataframe thead th {\n",
       "        text-align: right;\n",
       "    }\n",
       "</style>\n",
       "<table border=\"1\" class=\"dataframe\">\n",
       "  <thead>\n",
       "    <tr style=\"text-align: right;\">\n",
       "      <th></th>\n",
       "      <th>coeficiente de Variacion</th>\n",
       "      <th>rango de la variable</th>\n",
       "      <th>rango intercuartilico</th>\n",
       "      <th>coeficiente de asimetria</th>\n",
       "    </tr>\n",
       "  </thead>\n",
       "  <tbody>\n",
       "    <tr>\n",
       "      <th>0</th>\n",
<<<<<<< HEAD
       "      <td>58.472938</td>\n",
       "      <td>21567.0</td>\n",
       "      <td>6027.0</td>\n",
       "      <td>0.210884</td>\n",
=======
       "      <td>58.465078</td>\n",
       "      <td>26.0</td>\n",
       "      <td>1.0</td>\n",
       "      <td>-1.0</td>\n",
>>>>>>> c0637582118b4ae56d6f6430d04c2414c366ecb2
       "    </tr>\n",
       "  </tbody>\n",
       "</table>\n",
       "</div>"
      ],
      "text/plain": [
       "   coeficiente de Variacion  rango de la variable  rango intercuartilico  \\\n",
<<<<<<< HEAD
       "0                 58.472938               21567.0                 6027.0   \n",
       "\n",
       "   coeficiente de asimetria  \n",
       "0                  0.210884  "
      ]
     },
     "execution_count": 24,
=======
       "0                 58.465078                  26.0                    1.0   \n",
       "\n",
       "   coeficiente de asimetria  \n",
       "0                      -1.0  "
      ]
     },
     "execution_count": 22,
>>>>>>> c0637582118b4ae56d6f6430d04c2414c366ecb2
     "metadata": {},
     "output_type": "execute_result"
    }
   ],
   "source": [
<<<<<<< HEAD
    "mostrar_analisis_var_cuantitativas(dataframe[\"Propertycount\"])"
   ]
  },
  {
   "cell_type": "code",
   "execution_count": null,
   "metadata": {},
   "outputs": [],
   "source": [
    "La variable es aproximadamente sesgada a la derecha , lo comprobaremos visalmente:"
=======
    "mostrar_analisis_var_cuantitativas(dataframe[\"Car\"])"
   ]
  },
  {
   "cell_type": "markdown",
   "metadata": {},
   "source": [
    "como se puede ver hay un coeficiente de variación alto y asimetria por la izquierda que verificaremos mejor haciendo algunos diagramas"
>>>>>>> c0637582118b4ae56d6f6430d04c2414c366ecb2
   ]
  },
  {
   "cell_type": "code",
<<<<<<< HEAD
   "execution_count": 35,
=======
   "execution_count": 28,
>>>>>>> c0637582118b4ae56d6f6430d04c2414c366ecb2
   "metadata": {},
   "outputs": [
    {
     "data": {
<<<<<<< HEAD
      "image/png": "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\n",
=======
      "image/png": "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\n",
>>>>>>> c0637582118b4ae56d6f6430d04c2414c366ecb2
      "text/plain": [
       "<Figure size 864x432 with 2 Axes>"
      ]
     },
     "metadata": {},
     "output_type": "display_data"
<<<<<<< HEAD
    },
    {
     "data": {
      "image/png": "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\n",
      "text/plain": [
       "<Figure size 360x360 with 1 Axes>"
      ]
     },
     "metadata": {},
     "output_type": "display_data"
    }
   ],
   "source": [
    "mostrar_graf_variables_continuas(dataframe,\"Propertycount\")"
=======
    }
   ],
   "source": [
    "sb.set_theme(style=\"whitegrid\")\n",
    "fig, (ax1,ax2) = plot.subplots(1,2,figsize=(12,6))\n",
    "sb.boxplot(data=dataframe[\"Car\"],ax=ax1)\n",
    "sb.countplot(x=dataframe[\"Car\"],ax=ax2)\n",
    "\n",
    "plot.show()"
   ]
  },
  {
   "cell_type": "markdown",
   "metadata": {},
   "source": [
    "### 3.3.1 Analisis de la variable Landsize\n",
    "\n",
    "Esta variable contiene el numero de plazas de aparcamiento que tiene asociadas la vivienda Como se puede ver en la tabla 3.3.1 la variable tiene valor en 34857 toma valores discretos en el rango 0 a 26 plazas de aparcamiento. El 75% de pisos tienen entre 0 y 2 plazas de aparcamiento . A continuacion vamos a ver las frecuencias de la variable:"
>>>>>>> c0637582118b4ae56d6f6430d04c2414c366ecb2
   ]
  },
  {
   "cell_type": "markdown",
   "metadata": {},
   "source": [
    "### 3.3.1 Analisis de la variable Price\n",
    "ANALIZAR como cambia el tiempo\n",
    "\n",
    "Meter el algun calculo de lat y long."
   ]
  },
  {
   "cell_type": "code",
   "execution_count": null,
   "metadata": {},
   "outputs": [],
   "source": []
  }
 ],
 "metadata": {
  "kernelspec": {
   "display_name": "Python 3",
   "language": "python",
   "name": "python3"
  },
  "language_info": {
   "codemirror_mode": {
    "name": "ipython",
    "version": 3
   },
   "file_extension": ".py",
   "mimetype": "text/x-python",
   "name": "python",
   "nbconvert_exporter": "python",
   "pygments_lexer": "ipython3",
   "version": "3.7.9"
  }
 },
 "nbformat": 4,
 "nbformat_minor": 4
}
