{
 "cells": [
  {
   "cell_type": "code",
   "execution_count": 1,
   "metadata": {},
   "outputs": [],
   "source": [
    "import pandas as pd \n",
    "import numpy as np\n",
    "from plotnine import ggplot, aes, geom_line, geom_point, geom_bar, geom_boxplot\n",
    "dataframe = pd.read_csv('/home/ruben/Fundamentos-de-Analisis-de-DAtos-I/Practica/Melbourne_housing_FULL.csv')\n",
    "import scipy.stats as ss\n",
    "import matplotlib.pyplot as plot\n",
    "import seaborn as sb\n",
    "from seaborn import kdeplot\n",
    "def quartile_skew(x):\n",
    "  q = x.quantile([.25, .50, .75]) \n",
    "  return ((q[0.75] - q[0.5]) - (q[0.5] - q[0.25])) / (q[0.75] - q[0.25])\n",
    "  \n",
    "\n",
    "def mostrar_analisis_var_cuantitativas(data):\n",
    "    #calcular coeficiente de variacion\n",
    " datos_variable=pd.DataFrame([{\"coeficiente de Variacion\":(data.std()/data.mean())*100,\\\n",
    "                 \"rango de la variable\":data.max() - data.min(),\n",
    "                 \"rango intercuartilico\":data.quantile(0.75) - data.quantile(0.25),\n",
    "                 \"coeficiente de asimetria\":quartile_skew(data)}])\n",
    " return(datos_variable)\n",
    "       "
   ]
  },
  {
   "cell_type": "markdown",
   "metadata": {},
   "source": [
    "En primer lugar vamos a realizar una inspeccion ocular del dataset:\n"
   ]
  },
  {
   "cell_type": "code",
   "execution_count": 53,
   "metadata": {},
   "outputs": [
    {
     "name": "stdout",
     "output_type": "stream",
     "text": [
      "precio medio 2016  1063226.505338962\n",
      "precio medio 2017  1051144.058702236\n",
      "precio medio 2018  1017458.4129014697\n"
     ]
    },
    {
     "data": {
      "text/html": [
       "<div>\n",
       "<style scoped>\n",
       "    .dataframe tbody tr th:only-of-type {\n",
       "        vertical-align: middle;\n",
       "    }\n",
       "\n",
       "    .dataframe tbody tr th {\n",
       "        vertical-align: top;\n",
       "    }\n",
       "\n",
       "    .dataframe thead th {\n",
       "        text-align: right;\n",
       "    }\n",
       "</style>\n",
       "<table border=\"1\" class=\"dataframe\">\n",
       "  <thead>\n",
       "    <tr style=\"text-align: right;\">\n",
       "      <th></th>\n",
       "      <th>Rooms</th>\n",
       "      <th>Price</th>\n",
       "      <th>Distance</th>\n",
       "      <th>Postcode</th>\n",
       "      <th>Bedroom2</th>\n",
       "      <th>Bathroom</th>\n",
       "      <th>Car</th>\n",
       "      <th>Landsize</th>\n",
       "      <th>BuildingArea</th>\n",
       "      <th>YearBuilt</th>\n",
       "      <th>Lattitude</th>\n",
       "      <th>Longtitude</th>\n",
       "      <th>Propertycount</th>\n",
       "    </tr>\n",
       "  </thead>\n",
       "  <tbody>\n",
       "    <tr>\n",
       "      <th>count</th>\n",
       "      <td>19852.000000</td>\n",
       "      <td>1.551900e+04</td>\n",
       "      <td>19852.000000</td>\n",
       "      <td>19852.000000</td>\n",
       "      <td>15207.000000</td>\n",
       "      <td>15201.000000</td>\n",
       "      <td>14862.000000</td>\n",
       "      <td>11965.000000</td>\n",
       "      <td>7467.000000</td>\n",
       "      <td>8469.000000</td>\n",
       "      <td>15355.000000</td>\n",
       "      <td>15355.000000</td>\n",
       "      <td>19850.000000</td>\n",
       "    </tr>\n",
       "    <tr>\n",
       "      <th>mean</th>\n",
       "      <td>3.075811</td>\n",
       "      <td>1.051144e+06</td>\n",
       "      <td>12.056569</td>\n",
       "      <td>3122.129005</td>\n",
       "      <td>3.146446</td>\n",
       "      <td>1.642655</td>\n",
       "      <td>1.777890</td>\n",
       "      <td>679.551442</td>\n",
       "      <td>163.976758</td>\n",
       "      <td>1968.316330</td>\n",
       "      <td>-37.812436</td>\n",
       "      <td>145.007249</td>\n",
       "      <td>7544.087355</td>\n",
       "    </tr>\n",
       "    <tr>\n",
       "      <th>std</th>\n",
       "      <td>0.962574</td>\n",
       "      <td>6.405288e+05</td>\n",
       "      <td>7.402643</td>\n",
       "      <td>120.198924</td>\n",
       "      <td>0.956604</td>\n",
       "      <td>0.717585</td>\n",
       "      <td>1.019618</td>\n",
       "      <td>4505.229729</td>\n",
       "      <td>530.880112</td>\n",
       "      <td>36.666876</td>\n",
       "      <td>0.097739</td>\n",
       "      <td>0.132264</td>\n",
       "      <td>4390.376515</td>\n",
       "    </tr>\n",
       "    <tr>\n",
       "      <th>min</th>\n",
       "      <td>1.000000</td>\n",
       "      <td>1.210000e+05</td>\n",
       "      <td>0.000000</td>\n",
       "      <td>3000.000000</td>\n",
       "      <td>0.000000</td>\n",
       "      <td>0.000000</td>\n",
       "      <td>0.000000</td>\n",
       "      <td>0.000000</td>\n",
       "      <td>0.000000</td>\n",
       "      <td>1196.000000</td>\n",
       "      <td>-38.185600</td>\n",
       "      <td>144.423790</td>\n",
       "      <td>83.000000</td>\n",
       "    </tr>\n",
       "    <tr>\n",
       "      <th>25%</th>\n",
       "      <td>2.000000</td>\n",
       "      <td>6.400000e+05</td>\n",
       "      <td>6.700000</td>\n",
       "      <td>3054.000000</td>\n",
       "      <td>3.000000</td>\n",
       "      <td>1.000000</td>\n",
       "      <td>1.000000</td>\n",
       "      <td>269.000000</td>\n",
       "      <td>104.000000</td>\n",
       "      <td>1950.000000</td>\n",
       "      <td>-37.868645</td>\n",
       "      <td>144.932510</td>\n",
       "      <td>4294.000000</td>\n",
       "    </tr>\n",
       "    <tr>\n",
       "      <th>50%</th>\n",
       "      <td>3.000000</td>\n",
       "      <td>8.750000e+05</td>\n",
       "      <td>10.800000</td>\n",
       "      <td>3104.000000</td>\n",
       "      <td>3.000000</td>\n",
       "      <td>2.000000</td>\n",
       "      <td>2.000000</td>\n",
       "      <td>553.000000</td>\n",
       "      <td>137.000000</td>\n",
       "      <td>1970.000000</td>\n",
       "      <td>-37.808930</td>\n",
       "      <td>145.014200</td>\n",
       "      <td>6567.000000</td>\n",
       "    </tr>\n",
       "    <tr>\n",
       "      <th>75%</th>\n",
       "      <td>4.000000</td>\n",
       "      <td>1.290000e+06</td>\n",
       "      <td>15.500000</td>\n",
       "      <td>3163.000000</td>\n",
       "      <td>4.000000</td>\n",
       "      <td>2.000000</td>\n",
       "      <td>2.000000</td>\n",
       "      <td>695.000000</td>\n",
       "      <td>188.000000</td>\n",
       "      <td>2000.000000</td>\n",
       "      <td>-37.750495</td>\n",
       "      <td>145.085260</td>\n",
       "      <td>10412.000000</td>\n",
       "    </tr>\n",
       "    <tr>\n",
       "      <th>max</th>\n",
       "      <td>16.000000</td>\n",
       "      <td>1.120000e+07</td>\n",
       "      <td>48.100000</td>\n",
       "      <td>3978.000000</td>\n",
       "      <td>16.000000</td>\n",
       "      <td>9.000000</td>\n",
       "      <td>18.000000</td>\n",
       "      <td>433014.000000</td>\n",
       "      <td>44515.000000</td>\n",
       "      <td>2017.000000</td>\n",
       "      <td>-37.395100</td>\n",
       "      <td>145.526350</td>\n",
       "      <td>21650.000000</td>\n",
       "    </tr>\n",
       "  </tbody>\n",
       "</table>\n",
       "</div>"
      ],
      "text/plain": [
       "              Rooms         Price      Distance      Postcode      Bedroom2  \\\n",
       "count  19852.000000  1.551900e+04  19852.000000  19852.000000  15207.000000   \n",
       "mean       3.075811  1.051144e+06     12.056569   3122.129005      3.146446   \n",
       "std        0.962574  6.405288e+05      7.402643    120.198924      0.956604   \n",
       "min        1.000000  1.210000e+05      0.000000   3000.000000      0.000000   \n",
       "25%        2.000000  6.400000e+05      6.700000   3054.000000      3.000000   \n",
       "50%        3.000000  8.750000e+05     10.800000   3104.000000      3.000000   \n",
       "75%        4.000000  1.290000e+06     15.500000   3163.000000      4.000000   \n",
       "max       16.000000  1.120000e+07     48.100000   3978.000000     16.000000   \n",
       "\n",
       "           Bathroom           Car       Landsize  BuildingArea    YearBuilt  \\\n",
       "count  15201.000000  14862.000000   11965.000000   7467.000000  8469.000000   \n",
       "mean       1.642655      1.777890     679.551442    163.976758  1968.316330   \n",
       "std        0.717585      1.019618    4505.229729    530.880112    36.666876   \n",
       "min        0.000000      0.000000       0.000000      0.000000  1196.000000   \n",
       "25%        1.000000      1.000000     269.000000    104.000000  1950.000000   \n",
       "50%        2.000000      2.000000     553.000000    137.000000  1970.000000   \n",
       "75%        2.000000      2.000000     695.000000    188.000000  2000.000000   \n",
       "max        9.000000     18.000000  433014.000000  44515.000000  2017.000000   \n",
       "\n",
       "          Lattitude    Longtitude  Propertycount  \n",
       "count  15355.000000  15355.000000   19850.000000  \n",
       "mean     -37.812436    145.007249    7544.087355  \n",
       "std        0.097739      0.132264    4390.376515  \n",
       "min      -38.185600    144.423790      83.000000  \n",
       "25%      -37.868645    144.932510    4294.000000  \n",
       "50%      -37.808930    145.014200    6567.000000  \n",
       "75%      -37.750495    145.085260   10412.000000  \n",
       "max      -37.395100    145.526350   21650.000000  "
      ]
     },
     "execution_count": 53,
     "metadata": {},
     "output_type": "execute_result"
    }
   ],
   "source": [
    "dataframe.head()\n",
    "dataframe2016=dataframe[dataframe[\"Date\"].str[-4:] =='2016']\n",
    "dataframe2016.describe()\n",
    "print(\"precio medio 2016 \",dataframe2016[\"Price\"].mean())\n",
    "dataframe2017=dataframe[dataframe[\"Date\"].str[-4:] =='2017']\n",
    "print(\"precio medio 2017 \",dataframe2017[\"Price\"].mean())\n",
    "dataframe2017.describe()\n",
    "dataframe2018=dataframe[dataframe[\"Date\"].str[-4:] =='2018']\n",
    "print(\"precio medio 2018 \",dataframe2018[\"Price\"].mean())\n",
    "dataframe2017.describe()\n"
   ]
  },
  {
   "cell_type": "markdown",
   "metadata": {},
   "source": [
    "Vemos que tenemos en total 21 variables algunas con aspecto de ser cualitativas y otras cuantitativas. En los proximos puntos iremos analizando las caracteristitcas de las mismas.\n",
    "Vemos ne primer lugar el tipo de las variables:"
   ]
  },
  {
   "cell_type": "code",
   "execution_count": 3,
   "metadata": {},
   "outputs": [
    {
     "data": {
      "text/plain": [
       "Suburb            object\n",
       "Address           object\n",
       "Rooms              int64\n",
       "Type              object\n",
       "Price            float64\n",
       "Method            object\n",
       "SellerG           object\n",
       "Date              object\n",
       "Distance         float64\n",
       "Postcode         float64\n",
       "Bedroom2         float64\n",
       "Bathroom         float64\n",
       "Car              float64\n",
       "Landsize         float64\n",
       "BuildingArea     float64\n",
       "YearBuilt        float64\n",
       "CouncilArea       object\n",
       "Lattitude        float64\n",
       "Longtitude       float64\n",
       "Regionname        object\n",
       "Propertycount    float64\n",
       "dtype: object"
      ]
     },
     "execution_count": 3,
     "metadata": {},
     "output_type": "execute_result"
    }
   ],
   "source": [
    "dataframe.dtypes\n"
   ]
  },
  {
   "cell_type": "code",
   "execution_count": 4,
   "metadata": {},
   "outputs": [
    {
     "data": {
      "text/html": [
       "<div>\n",
       "<style scoped>\n",
       "    .dataframe tbody tr th:only-of-type {\n",
       "        vertical-align: middle;\n",
       "    }\n",
       "\n",
       "    .dataframe tbody tr th {\n",
       "        vertical-align: top;\n",
       "    }\n",
       "\n",
       "    .dataframe thead th {\n",
       "        text-align: right;\n",
       "    }\n",
       "</style>\n",
       "<table border=\"1\" class=\"dataframe\">\n",
       "  <thead>\n",
       "    <tr style=\"text-align: right;\">\n",
       "      <th></th>\n",
       "      <th>Suburb</th>\n",
       "      <th>Method</th>\n",
       "      <th>Regionname</th>\n",
       "      <th>SellerG</th>\n",
       "      <th>CouncilArea</th>\n",
       "    </tr>\n",
       "  </thead>\n",
       "  <tbody>\n",
       "    <tr>\n",
       "      <th>@Realty</th>\n",
       "      <td>NaN</td>\n",
       "      <td>NaN</td>\n",
       "      <td>NaN</td>\n",
       "      <td>12.0</td>\n",
       "      <td>NaN</td>\n",
       "    </tr>\n",
       "    <tr>\n",
       "      <th>A</th>\n",
       "      <td>NaN</td>\n",
       "      <td>NaN</td>\n",
       "      <td>NaN</td>\n",
       "      <td>1.0</td>\n",
       "      <td>NaN</td>\n",
       "    </tr>\n",
       "    <tr>\n",
       "      <th>AIME</th>\n",
       "      <td>NaN</td>\n",
       "      <td>NaN</td>\n",
       "      <td>NaN</td>\n",
       "      <td>1.0</td>\n",
       "      <td>NaN</td>\n",
       "    </tr>\n",
       "    <tr>\n",
       "      <th>ASL</th>\n",
       "      <td>NaN</td>\n",
       "      <td>NaN</td>\n",
       "      <td>NaN</td>\n",
       "      <td>5.0</td>\n",
       "      <td>NaN</td>\n",
       "    </tr>\n",
       "    <tr>\n",
       "      <th>Abbotsford</th>\n",
       "      <td>137.0</td>\n",
       "      <td>NaN</td>\n",
       "      <td>NaN</td>\n",
       "      <td>NaN</td>\n",
       "      <td>NaN</td>\n",
       "    </tr>\n",
       "    <tr>\n",
       "      <th>...</th>\n",
       "      <td>...</td>\n",
       "      <td>...</td>\n",
       "      <td>...</td>\n",
       "      <td>...</td>\n",
       "      <td>...</td>\n",
       "    </tr>\n",
       "    <tr>\n",
       "      <th>iProperty</th>\n",
       "      <td>NaN</td>\n",
       "      <td>NaN</td>\n",
       "      <td>NaN</td>\n",
       "      <td>1.0</td>\n",
       "      <td>NaN</td>\n",
       "    </tr>\n",
       "    <tr>\n",
       "      <th>iSell</th>\n",
       "      <td>NaN</td>\n",
       "      <td>NaN</td>\n",
       "      <td>NaN</td>\n",
       "      <td>32.0</td>\n",
       "      <td>NaN</td>\n",
       "    </tr>\n",
       "    <tr>\n",
       "      <th>iTRAK</th>\n",
       "      <td>NaN</td>\n",
       "      <td>NaN</td>\n",
       "      <td>NaN</td>\n",
       "      <td>33.0</td>\n",
       "      <td>NaN</td>\n",
       "    </tr>\n",
       "    <tr>\n",
       "      <th>viewbank</th>\n",
       "      <td>1.0</td>\n",
       "      <td>NaN</td>\n",
       "      <td>NaN</td>\n",
       "      <td>NaN</td>\n",
       "      <td>NaN</td>\n",
       "    </tr>\n",
       "    <tr>\n",
       "      <th>voglwalpole</th>\n",
       "      <td>NaN</td>\n",
       "      <td>NaN</td>\n",
       "      <td>NaN</td>\n",
       "      <td>2.0</td>\n",
       "      <td>NaN</td>\n",
       "    </tr>\n",
       "  </tbody>\n",
       "</table>\n",
       "<p>785 rows × 5 columns</p>\n",
       "</div>"
      ],
      "text/plain": [
       "             Suburb  Method  Regionname  SellerG  CouncilArea\n",
       "@Realty         NaN     NaN         NaN     12.0          NaN\n",
       "A               NaN     NaN         NaN      1.0          NaN\n",
       "AIME            NaN     NaN         NaN      1.0          NaN\n",
       "ASL             NaN     NaN         NaN      5.0          NaN\n",
       "Abbotsford    137.0     NaN         NaN      NaN          NaN\n",
       "...             ...     ...         ...      ...          ...\n",
       "iProperty       NaN     NaN         NaN      1.0          NaN\n",
       "iSell           NaN     NaN         NaN     32.0          NaN\n",
       "iTRAK           NaN     NaN         NaN     33.0          NaN\n",
       "viewbank        1.0     NaN         NaN      NaN          NaN\n",
       "voglwalpole     NaN     NaN         NaN      2.0          NaN\n",
       "\n",
       "[785 rows x 5 columns]"
      ]
     },
     "execution_count": 4,
     "metadata": {},
     "output_type": "execute_result"
    }
   ],
   "source": [
    "aux=pd.DataFrame({\"Suburb\":pd.value_counts(dataframe['Suburb']),\"Method\":pd.value_counts(dataframe['Method']),\\\n",
    "                  \"Regionname\":pd.value_counts(dataframe['Regionname']),\"SellerG\":pd.value_counts(dataframe['SellerG']),\\\n",
    "                 \"Method\":pd.value_counts(dataframe['Method']),\"CouncilArea\":pd.value_counts(dataframe['CouncilArea'])})\n",
    "aux"
   ]
  },
  {
   "cell_type": "code",
   "execution_count": 5,
   "metadata": {},
   "outputs": [
    {
     "name": "stdout",
     "output_type": "stream",
     "text": [
      "              Rooms         Price      Distance      Postcode      Bedroom2  \\\n",
      "count  34857.000000  2.724700e+04  34856.000000  34856.000000  26640.000000   \n",
      "mean       3.031012  1.050173e+06     11.184929   3116.062859      3.084647   \n",
      "std        0.969933  6.414671e+05      6.788892    109.023903      0.980690   \n",
      "min        1.000000  8.500000e+04      0.000000   3000.000000      0.000000   \n",
      "25%        2.000000  6.350000e+05      6.400000   3051.000000      2.000000   \n",
      "50%        3.000000  8.700000e+05     10.300000   3103.000000      3.000000   \n",
      "75%        4.000000  1.295000e+06     14.000000   3156.000000      4.000000   \n",
      "max       16.000000  1.120000e+07     48.100000   3978.000000     30.000000   \n",
      "\n",
      "           Bathroom           Car       Landsize  BuildingArea     YearBuilt  \\\n",
      "count  26631.000000  26129.000000   23047.000000   13742.00000  15551.000000   \n",
      "mean       1.624798      1.728845     593.598993     160.25640   1965.289885   \n",
      "std        0.724212      1.010771    3398.841946     401.26706     37.328178   \n",
      "min        0.000000      0.000000       0.000000       0.00000   1196.000000   \n",
      "25%        1.000000      1.000000     224.000000     102.00000   1940.000000   \n",
      "50%        2.000000      2.000000     521.000000     136.00000   1970.000000   \n",
      "75%        2.000000      2.000000     670.000000     188.00000   2000.000000   \n",
      "max       12.000000     26.000000  433014.000000   44515.00000   2106.000000   \n",
      "\n",
      "          Lattitude    Longtitude  Propertycount  \n",
      "count  26881.000000  26881.000000   34854.000000  \n",
      "mean     -37.810634    145.001851    7572.888306  \n",
      "std        0.090279      0.120169    4428.090313  \n",
      "min      -38.190430    144.423790      83.000000  \n",
      "25%      -37.862950    144.933500    4385.000000  \n",
      "50%      -37.807600    145.007800    6763.000000  \n",
      "75%      -37.754100    145.071900   10412.000000  \n",
      "max      -37.390200    145.526350   21650.000000  \n"
     ]
    },
    {
     "data": {
      "text/html": [
       "<div>\n",
       "<style scoped>\n",
       "    .dataframe tbody tr th:only-of-type {\n",
       "        vertical-align: middle;\n",
       "    }\n",
       "\n",
       "    .dataframe tbody tr th {\n",
       "        vertical-align: top;\n",
       "    }\n",
       "\n",
       "    .dataframe thead th {\n",
       "        text-align: right;\n",
       "    }\n",
       "</style>\n",
       "<table border=\"1\" class=\"dataframe\">\n",
       "  <thead>\n",
       "    <tr style=\"text-align: right;\">\n",
       "      <th></th>\n",
       "      <th>Suburb</th>\n",
       "      <th>CouncilArea</th>\n",
       "      <th>Regionname</th>\n",
       "      <th>SellerG</th>\n",
       "      <th>Method</th>\n",
       "    </tr>\n",
       "  </thead>\n",
       "  <tbody>\n",
       "    <tr>\n",
       "      <th>count</th>\n",
       "      <td>34857</td>\n",
       "      <td>34854</td>\n",
       "      <td>34854</td>\n",
       "      <td>34857</td>\n",
       "      <td>34857</td>\n",
       "    </tr>\n",
       "    <tr>\n",
       "      <th>unique</th>\n",
       "      <td>351</td>\n",
       "      <td>33</td>\n",
       "      <td>8</td>\n",
       "      <td>388</td>\n",
       "      <td>9</td>\n",
       "    </tr>\n",
       "    <tr>\n",
       "      <th>top</th>\n",
       "      <td>Reservoir</td>\n",
       "      <td>Boroondara City Council</td>\n",
       "      <td>Southern Metropolitan</td>\n",
       "      <td>Jellis</td>\n",
       "      <td>S</td>\n",
       "    </tr>\n",
       "    <tr>\n",
       "      <th>freq</th>\n",
       "      <td>844</td>\n",
       "      <td>3675</td>\n",
       "      <td>11836</td>\n",
       "      <td>3359</td>\n",
       "      <td>19744</td>\n",
       "    </tr>\n",
       "  </tbody>\n",
       "</table>\n",
       "</div>"
      ],
      "text/plain": [
       "           Suburb              CouncilArea             Regionname SellerG  \\\n",
       "count       34857                    34854                  34854   34857   \n",
       "unique        351                       33                      8     388   \n",
       "top     Reservoir  Boroondara City Council  Southern Metropolitan  Jellis   \n",
       "freq          844                     3675                  11836    3359   \n",
       "\n",
       "       Method  \n",
       "count   34857  \n",
       "unique      9  \n",
       "top         S  \n",
       "freq    19744  "
      ]
     },
     "execution_count": 5,
     "metadata": {},
     "output_type": "execute_result"
    }
   ],
   "source": [
    "print(dataframe.describe())\n",
    "aux=pd.DataFrame({\"Suburb\":dataframe[\"Suburb\"].describe(),\"CouncilArea\":dataframe[\"CouncilArea\"].describe(),\\\n",
    "                  \"Regionname\":dataframe[\"Regionname\"].describe(),\"SellerG\":dataframe[\"SellerG\"].describe(),\\\n",
    "                 \"Method\":dataframe[\"Method\"].describe()})\n",
    "aux"
   ]
  },
  {
   "cell_type": "markdown",
   "metadata": {},
   "source": [
    "## 3.3 Análisis y resumen numérico de las variables cualitativas del Dataset\n",
    "\n",
    "para cada una de las variables cualitativas del dataframe comprobaremos sus medidas de centralidad y veremos cuales de ellas tiene sentido analizar\n",
    "\n"
   ]
  },
  {
   "cell_type": "markdown",
   "metadata": {},
   "source": [
    "dataframe.describe()"
   ]
  },
  {
   "cell_type": "markdown",
   "metadata": {},
   "source": [
    "**Tabla 3.3.1**"
   ]
  },
  {
   "cell_type": "markdown",
   "metadata": {},
   "source": [
    "### 3.3.1 Analisis de la variable Rooms"
   ]
  },
  {
   "cell_type": "markdown",
   "metadata": {},
   "source": [
    "Esta variable contiene el número de habitaciones de cada propiedad que hay en la muesta. Como se puede ver en la tabla 3.3.1 la variable tiene valor en 34857 toma valores discretos en el rango 1 a 16 dormitorios, que es el máximo encontrado. La mitad de la muestra tiene tres habitaciones o menos y el 75% de pisos tienen entre 1 y 4 habitaciones.\n",
    "A continuacion vamos a ver las frecuencias de la variable"
   ]
  },
  {
   "cell_type": "code",
   "execution_count": 7,
   "metadata": {},
   "outputs": [
    {
     "data": {
      "text/plain": [
       "3     0.432739\n",
       "2     0.239034\n",
       "4     0.228247\n",
       "5     0.049832\n",
       "1     0.042431\n",
       "6     0.005852\n",
       "7     0.000918\n",
       "8     0.000545\n",
       "10    0.000172\n",
       "9     0.000115\n",
       "12    0.000086\n",
       "16    0.000029\n",
       "Name: Rooms, dtype: float64"
      ]
     },
     "execution_count": 7,
     "metadata": {},
     "output_type": "execute_result"
    }
   ],
   "source": [
    "pd.value_counts(dataframe['Rooms'])/dataframe[\"Rooms\"].count()\n"
   ]
  },
  {
   "cell_type": "markdown",
   "metadata": {},
   "source": [
    "Como se puede ver mas de un 40% de los pisos vendidos tienen 3 dormitorios que es mas del doble del porcentaje del numero de pisos que tiene 2 dormitorios (un 23%) o 4 dormitorios(un 22,8%).\n",
    "\n",
    "Pasamos a hacer el cálculo de las medidas de dispersión y simetria calcularemos el coficiente de variación, rango, IQR y simtetria:"
   ]
  },
  {
   "cell_type": "code",
   "execution_count": 8,
   "metadata": {},
   "outputs": [
    {
     "data": {
      "text/html": [
       "<div>\n",
       "<style scoped>\n",
       "    .dataframe tbody tr th:only-of-type {\n",
       "        vertical-align: middle;\n",
       "    }\n",
       "\n",
       "    .dataframe tbody tr th {\n",
       "        vertical-align: top;\n",
       "    }\n",
       "\n",
       "    .dataframe thead th {\n",
       "        text-align: right;\n",
       "    }\n",
       "</style>\n",
       "<table border=\"1\" class=\"dataframe\">\n",
       "  <thead>\n",
       "    <tr style=\"text-align: right;\">\n",
       "      <th></th>\n",
       "      <th>coeficiente de Variacion</th>\n",
       "      <th>rango de la variable</th>\n",
       "      <th>rango intercuartilico</th>\n",
       "      <th>coeficiente de asimetria</th>\n",
       "    </tr>\n",
       "  </thead>\n",
       "  <tbody>\n",
       "    <tr>\n",
       "      <th>0</th>\n",
       "      <td>32.000296</td>\n",
       "      <td>15</td>\n",
       "      <td>2.0</td>\n",
       "      <td>0.0</td>\n",
       "    </tr>\n",
       "  </tbody>\n",
       "</table>\n",
       "</div>"
      ],
      "text/plain": [
       "   coeficiente de Variacion  rango de la variable  rango intercuartilico  \\\n",
       "0                 32.000296                    15                    2.0   \n",
       "\n",
       "   coeficiente de asimetria  \n",
       "0                       0.0  "
      ]
     },
     "execution_count": 8,
     "metadata": {},
     "output_type": "execute_result"
    }
   ],
   "source": [
    "mostrar_analisis_var_cuantitativas(dataframe[\"Rooms\"])"
   ]
  },
  {
   "cell_type": "markdown",
   "metadata": {},
   "source": [
    "Como se puede var en la tabla anterio la variable tiene un coeficiente de variacion del 32% con un coeficiente de asimetria positivo. Podemos deducir que la variable es bastante simetrica dado que el coeficiente está muy próximo a 0\n",
    "\n"
   ]
  },
  {
   "cell_type": "code",
   "execution_count": 31,
   "metadata": {},
   "outputs": [
    {
     "name": "stderr",
     "output_type": "stream",
     "text": [
      "/home/ruben/anaconda3/lib/python3.7/site-packages/seaborn/_decorators.py:43: FutureWarning: Pass the following variable as a keyword arg: x. From version 0.12, the only valid positional argument will be `data`, and passing other arguments without an explicit keyword will result in an error or misinterpretation.\n"
     ]
    },
    {
     "data": {
      "image/png": "[encoded data removed]",
      "text/plain": [
       "<Figure size 864x432 with 2 Axes>"
      ]
     },
     "metadata": {},
     "output_type": "display_data"
    }
   ],
   "source": [
    "sb.set_theme(style=\"whitegrid\")\n",
    "fig, (ax1,ax2) = plot.subplots(1,2,figsize=(12,6))\n",
    "sb.boxplot(data=dataframe[\"Rooms\"],ax=ax1)\n",
    "sb.countplot(dataframe[\"Rooms\"],ax=ax2)\n",
    "plot.show()"
   ]
  },
  {
   "cell_type": "markdown",
   "metadata": {},
   "source": [
    "Como ya se habia comprobado numéricamente la variable es muy simetrica aunque se aprecia unos outliers, viviendas de mas de 7 dormitorios que se deberian eliminar"
   ]
  },
  {
   "cell_type": "markdown",
   "metadata": {},
   "source": [
    "### 3.3.1 Analisis de la variable Bedroom2\n",
    "Esta variable contiene el numero de dormitorios de cada propiedad. Como se puede ver en la tabla 3.3.1 la variable tiene valor en 34857 toma valores discretos en el rango 0 a 30 dormitorios, que es el máximo encontrado. La mitad de la muestra tiene tres dormitorios o menos y el 75% de pisos tienen entre 0 y 4 dormitorios. Estas cifras llaman la atencion ya que el máximo numero de habitaciones de la variable rooms tenia como maximo 16, por lo que esos datos puede que estén mal imputados."
   ]
  },
  {
   "cell_type": "code",
   "execution_count": 10,
   "metadata": {},
   "outputs": [
    {
     "data": {
      "text/plain": [
       "3.0     0.445983\n",
       "4.0     0.238288\n",
       "2.0     0.216854\n",
       "5.0     0.053566\n",
       "1.0     0.036261\n",
       "6.0     0.006306\n",
       "7.0     0.001126\n",
       "0.0     0.000638\n",
       "8.0     0.000488\n",
       "9.0     0.000188\n",
       "10.0    0.000150\n",
       "30.0    0.000038\n",
       "12.0    0.000038\n",
       "20.0    0.000038\n",
       "16.0    0.000038\n",
       "Name: Bedroom2, dtype: float64"
      ]
     },
     "execution_count": 10,
     "metadata": {},
     "output_type": "execute_result"
    }
   ],
   "source": [
    "pd.value_counts(dataframe['Bedroom2'])/dataframe[\"Bedroom2\"].count()"
   ]
  },
  {
   "cell_type": "markdown",
   "metadata": {},
   "source": [
    "Los resultados son muy parecidos a los obtenidos con la variable Rooms por lo que no es probable que la variable rooms haga referencia tambien a numero de dormitorios y no solo de habitaciones. Como ya ocurria con la variable rooms casi el 89% de las propiedades tiene entre 2 y 4 dormitorios.\n",
    "Vamos a verificar las medidas de dispersión y asimetria de la variable"
   ]
  },
  {
   "cell_type": "code",
   "execution_count": 11,
   "metadata": {},
   "outputs": [
    {
     "data": {
      "text/html": [
       "<div>\n",
       "<style scoped>\n",
       "    .dataframe tbody tr th:only-of-type {\n",
       "        vertical-align: middle;\n",
       "    }\n",
       "\n",
       "    .dataframe tbody tr th {\n",
       "        vertical-align: top;\n",
       "    }\n",
       "\n",
       "    .dataframe thead th {\n",
       "        text-align: right;\n",
       "    }\n",
       "</style>\n",
       "<table border=\"1\" class=\"dataframe\">\n",
       "  <thead>\n",
       "    <tr style=\"text-align: right;\">\n",
       "      <th></th>\n",
       "      <th>coeficiente de Variacion</th>\n",
       "      <th>rango de la variable</th>\n",
       "      <th>rango intercuartilico</th>\n",
       "      <th>coeficiente de asimetria</th>\n",
       "    </tr>\n",
       "  </thead>\n",
       "  <tbody>\n",
       "    <tr>\n",
       "      <th>0</th>\n",
       "      <td>31.792606</td>\n",
       "      <td>30.0</td>\n",
       "      <td>2.0</td>\n",
       "      <td>0.0</td>\n",
       "    </tr>\n",
       "  </tbody>\n",
       "</table>\n",
       "</div>"
      ],
      "text/plain": [
       "   coeficiente de Variacion  rango de la variable  rango intercuartilico  \\\n",
       "0                 31.792606                  30.0                    2.0   \n",
       "\n",
       "   coeficiente de asimetria  \n",
       "0                       0.0  "
      ]
     },
     "execution_count": 11,
     "metadata": {},
     "output_type": "execute_result"
    }
   ],
   "source": [
    "mostrar_analisis_var_cuantitativas(dataframe[\"Bedroom2\"])"
   ]
  },
  {
   "cell_type": "markdown",
   "metadata": {},
   "source": [
    "El coeficiente de variacion es muy similar a la variable rooms y con el mismo rango intercuantilico, aunque en este caso el coficiente de asimetria es 0 lo que parece indica que se trata de una distribucion simétrica de los datos. Lo verificaremos con los siguientes diagramas:"
   ]
  },
  {
   "cell_type": "code",
   "execution_count": 30,
   "metadata": {},
   "outputs": [
    {
     "data": {
      "image/png": "[encoded data removed]",
      "text/plain": [
       "<Figure size 864x432 with 2 Axes>"
      ]
     },
     "metadata": {},
     "output_type": "display_data"
    }
   ],
   "source": [
    "sb.set_theme(style=\"whitegrid\")\n",
    "fig, (ax1,ax2) = plot.subplots(1,2,figsize=(12,6))\n",
    "sb.boxplot(data=dataframe[\"Bedroom2\"],ax=ax1)\n",
    "sb.countplot(x=dataframe[\"Bedroom2\"],ax=ax2)\n",
    "plot.show()"
   ]
  },
  {
   "cell_type": "markdown",
   "metadata": {},
   "source": [
    "como ya se habia comprobado numéricamente la variable es muy simetrica aunque se aprecia unos outliers, viviendas de mas de 7 dormitorios que se deberian eliminar. También habra que seleccionar que variable es de mejor calidad para llevar a cabo el modelo.\n",
    "\n",
    "PRODUCE SESGO"
   ]
  },
  {
   "cell_type": "markdown",
   "metadata": {},
   "source": [
    "### 3.3.1 Analisis de la variable Distance\n",
    "Como se puede ver en la tabla 3.3.1 esta variable toma valores entre 0 y 48 millas , el 50% de los pisos de la muestra se encuentran a menos de 10,3 millas del centro de la ciudad y la desviacion tipica es 6,78. \n",
    "Calculamos medidas de dispersión y simetriía ya que las de centralidad las hemos visto en la tabla 3.3.1\n"
   ]
  },
  {
   "cell_type": "code",
   "execution_count": 13,
   "metadata": {},
   "outputs": [
    {
     "data": {
      "text/html": [
       "<div>\n",
       "<style scoped>\n",
       "    .dataframe tbody tr th:only-of-type {\n",
       "        vertical-align: middle;\n",
       "    }\n",
       "\n",
       "    .dataframe tbody tr th {\n",
       "        vertical-align: top;\n",
       "    }\n",
       "\n",
       "    .dataframe thead th {\n",
       "        text-align: right;\n",
       "    }\n",
       "</style>\n",
       "<table border=\"1\" class=\"dataframe\">\n",
       "  <thead>\n",
       "    <tr style=\"text-align: right;\">\n",
       "      <th></th>\n",
       "      <th>coeficiente de Variacion</th>\n",
       "      <th>rango de la variable</th>\n",
       "      <th>rango intercuartilico</th>\n",
       "      <th>coeficiente de asimetria</th>\n",
       "    </tr>\n",
       "  </thead>\n",
       "  <tbody>\n",
       "    <tr>\n",
       "      <th>0</th>\n",
       "      <td>60.696784</td>\n",
       "      <td>48.1</td>\n",
       "      <td>7.6</td>\n",
       "      <td>-0.026316</td>\n",
       "    </tr>\n",
       "  </tbody>\n",
       "</table>\n",
       "</div>"
      ],
      "text/plain": [
       "   coeficiente de Variacion  rango de la variable  rango intercuartilico  \\\n",
       "0                 60.696784                  48.1                    7.6   \n",
       "\n",
       "   coeficiente de asimetria  \n",
       "0                 -0.026316  "
      ]
     },
     "execution_count": 13,
     "metadata": {},
     "output_type": "execute_result"
    }
   ],
   "source": [
    "mostrar_analisis_var_cuantitativas(dataframe[\"Distance\"])"
   ]
  },
  {
   "cell_type": "code",
   "execution_count": 14,
   "metadata": {},
   "outputs": [
    {
     "ename": "SyntaxError",
     "evalue": "invalid syntax (<ipython-input-14-9363e47a0c7d>, line 1)",
     "output_type": "error",
     "traceback": [
      "\u001b[0;36m  File \u001b[0;32m\"<ipython-input-14-9363e47a0c7d>\"\u001b[0;36m, line \u001b[0;32m1\u001b[0m\n\u001b[0;31m    Vemos la distribucion de la variable y posibles outliers\u001b[0m\n\u001b[0m           ^\u001b[0m\n\u001b[0;31mSyntaxError\u001b[0m\u001b[0;31m:\u001b[0m invalid syntax\n"
     ]
    }
   ],
   "source": [
    "Vemos la distribucion de la variable y posibles outliers"
   ]
  },
  {
   "cell_type": "code",
   "execution_count": null,
   "metadata": {},
   "outputs": [],
   "source": [
    "sb.set_theme(style=\"whitegrid\")\n",
    "fig, (ax1,ax2) = plot.subplots(1,2,figsize=(12,6))\n",
    "sb.histplot(dataframe[\"Distance\"],ax=ax1)\n",
    "sb.boxplot(data=dataframe[\"Distance\"],ax=ax2)\n",
    "plot.show()"
   ]
  },
  {
   "cell_type": "markdown",
   "metadata": {},
   "source": [
    "¿que se ve aqui?"
   ]
  },
  {
   "cell_type": "code",
   "execution_count": null,
   "metadata": {},
   "outputs": [],
   "source": [
    "¿que se ve aqui"
   ]
  },
  {
   "cell_type": "markdown",
   "metadata": {},
   "source": [
    "## 3.3.1 Analisis de la variable Bathrooms\n",
    "Como se puede ver en la tabla 3.3.1 la variable tiene valor en 34857 toma valores discretos en el rango 0 a 12 dormitorios, que es el máximo encontrado. El 75% de pisos tienen entre 0 y 2 baños . A continuacion vamos a ver las frecuencias de la variable:"
   ]
  },
  {
   "cell_type": "code",
   "execution_count": 17,
   "metadata": {},
   "outputs": [
    {
     "data": {
      "text/plain": [
       "1.0     0.486989\n",
       "2.0     0.415456\n",
       "3.0     0.081897\n",
       "4.0     0.010101\n",
       "5.0     0.002891\n",
       "0.0     0.001727\n",
       "6.0     0.000601\n",
       "7.0     0.000150\n",
       "8.0     0.000113\n",
       "9.0     0.000038\n",
       "12.0    0.000038\n",
       "Name: Bathroom, dtype: float64"
      ]
     },
     "execution_count": 17,
     "metadata": {},
     "output_type": "execute_result"
    }
   ],
   "source": [
    "pd.value_counts(dataframe['Bathroom'])/dataframe[\"Bathroom\"].count()"
   ]
  },
  {
   "cell_type": "markdown",
   "metadata": {},
   "source": [
    "Como se puede ver en la tabla anterior el 89% de la muestra tiene igual o menos de dos dormitorios comn una media de 1,6 baños. En la tabla 3.3.1 respecto a las medidas de dispersión podemos ver que la desviacion típica es de 0,72 y en la siguiente tabla vemos mas variables de dispersión y asimetria:"
   ]
  },
  {
   "cell_type": "code",
   "execution_count": 16,
   "metadata": {},
   "outputs": [
    {
     "data": {
      "text/html": [
       "<div>\n",
       "<style scoped>\n",
       "    .dataframe tbody tr th:only-of-type {\n",
       "        vertical-align: middle;\n",
       "    }\n",
       "\n",
       "    .dataframe tbody tr th {\n",
       "        vertical-align: top;\n",
       "    }\n",
       "\n",
       "    .dataframe thead th {\n",
       "        text-align: right;\n",
       "    }\n",
       "</style>\n",
       "<table border=\"1\" class=\"dataframe\">\n",
       "  <thead>\n",
       "    <tr style=\"text-align: right;\">\n",
       "      <th></th>\n",
       "      <th>coeficiente de Variacion</th>\n",
       "      <th>rango de la variable</th>\n",
       "      <th>rango intercuartilico</th>\n",
       "      <th>coeficiente de asimetria</th>\n",
       "    </tr>\n",
       "  </thead>\n",
       "  <tbody>\n",
       "    <tr>\n",
       "      <th>0</th>\n",
       "      <td>44.572429</td>\n",
       "      <td>12.0</td>\n",
       "      <td>1.0</td>\n",
       "      <td>-1.0</td>\n",
       "    </tr>\n",
       "  </tbody>\n",
       "</table>\n",
       "</div>"
      ],
      "text/plain": [
       "   coeficiente de Variacion  rango de la variable  rango intercuartilico  \\\n",
       "0                 44.572429                  12.0                    1.0   \n",
       "\n",
       "   coeficiente de asimetria  \n",
       "0                      -1.0  "
      ]
     },
     "execution_count": 16,
     "metadata": {},
     "output_type": "execute_result"
    }
   ],
   "source": [
    "mostrar_analisis_var_cuantitativas(dataframe[\"Bathroom\"])"
   ]
  },
  {
   "cell_type": "markdown",
   "metadata": {},
   "source": [
    "El coeficiente de variación es del 44% y el coeficiente de asimetria es -1 lo que indica que la variable no es simetrica, tiene cola a la derecha. comprobaremos esto mismo de manera visual pintando su histograma y boxplot"
   ]
  },
  {
   "cell_type": "code",
   "execution_count": 29,
   "metadata": {},
   "outputs": [
    {
     "data": {
      "image/png": "[encoded data removed]",
      "text/plain": [
       "<Figure size 864x432 with 2 Axes>"
      ]
     },
     "metadata": {},
     "output_type": "display_data"
    }
   ],
   "source": [
    "sb.set_theme(style=\"whitegrid\")\n",
    "fig, (ax1,ax2) = plot.subplots(1,2,figsize=(12,6))\n",
    "sb.boxplot(data=dataframe[\"Bathroom\"],ax=ax1)\n",
    "sb.countplot(x=dataframe[\"Bathroom\"],ax=ax2)\n",
    "\n",
    "plot.show()"
   ]
  },
  {
   "cell_type": "markdown",
   "metadata": {},
   "source": [
    "### 3.3.1 Analisis de la variable Car\n",
    "\n",
    "Esta variable contiene el numero de plazas de aparcamiento que tiene asociadas la vivienda Como se puede ver en la tabla 3.3.1 la variable tiene valor en 34857 toma valores discretos en el rango 0 a 26 plazas de aparcamiento. El 75% de pisos tienen entre 0 y 2 plazas de aparcamiento . A continuacion vamos a ver las frecuencias de la variable:\n"
   ]
  },
  {
   "cell_type": "code",
   "execution_count": 23,
   "metadata": {},
   "outputs": [
    {
     "data": {
      "text/plain": [
       "2.0     0.467450\n",
       "1.0     0.350721\n",
       "0.0     0.062421\n",
       "3.0     0.061464\n",
       "4.0     0.044433\n",
       "5.0     0.005779\n",
       "6.0     0.005358\n",
       "7.0     0.000957\n",
       "8.0     0.000880\n",
       "10.0    0.000230\n",
       "9.0     0.000115\n",
       "11.0    0.000077\n",
       "26.0    0.000038\n",
       "12.0    0.000038\n",
       "18.0    0.000038\n",
       "Name: Car, dtype: float64"
      ]
     },
     "execution_count": 23,
     "metadata": {},
     "output_type": "execute_result"
    }
   ],
   "source": [
    "pd.value_counts(dataframe['Car'])/dataframe[\"Car\"].count()"
   ]
  },
  {
   "cell_type": "markdown",
   "metadata": {},
   "source": [
    "como se puede ver casi el 47% de las casas de la muestra tienen dos plaza de aparcamiento y el 81% entre 1 y 2 plazas de aparcamiento.Respecto a las medidas de dispersión, en la tabla 3.3.1 podemos ver que la desviacion típica es de 1.01. En la siguiente tabla vemos mas variables de dispersión y asimetria:"
   ]
  },
  {
   "cell_type": "code",
   "execution_count": 22,
   "metadata": {},
   "outputs": [
    {
     "data": {
      "text/html": [
       "<div>\n",
       "<style scoped>\n",
       "    .dataframe tbody tr th:only-of-type {\n",
       "        vertical-align: middle;\n",
       "    }\n",
       "\n",
       "    .dataframe tbody tr th {\n",
       "        vertical-align: top;\n",
       "    }\n",
       "\n",
       "    .dataframe thead th {\n",
       "        text-align: right;\n",
       "    }\n",
       "</style>\n",
       "<table border=\"1\" class=\"dataframe\">\n",
       "  <thead>\n",
       "    <tr style=\"text-align: right;\">\n",
       "      <th></th>\n",
       "      <th>coeficiente de Variacion</th>\n",
       "      <th>rango de la variable</th>\n",
       "      <th>rango intercuartilico</th>\n",
       "      <th>coeficiente de asimetria</th>\n",
       "    </tr>\n",
       "  </thead>\n",
       "  <tbody>\n",
       "    <tr>\n",
       "      <th>0</th>\n",
       "      <td>58.465078</td>\n",
       "      <td>26.0</td>\n",
       "      <td>1.0</td>\n",
       "      <td>-1.0</td>\n",
       "    </tr>\n",
       "  </tbody>\n",
       "</table>\n",
       "</div>"
      ],
      "text/plain": [
       "   coeficiente de Variacion  rango de la variable  rango intercuartilico  \\\n",
       "0                 58.465078                  26.0                    1.0   \n",
       "\n",
       "   coeficiente de asimetria  \n",
       "0                      -1.0  "
      ]
     },
     "execution_count": 22,
     "metadata": {},
     "output_type": "execute_result"
    }
   ],
   "source": [
    "mostrar_analisis_var_cuantitativas(dataframe[\"Car\"])"
   ]
  },
  {
   "cell_type": "markdown",
   "metadata": {},
   "source": [
    "como se puede ver hay un coeficiente de variación alto y asimetria por la izquierda que verificaremos mejor haciendo algunos diagramas"
   ]
  },
  {
   "cell_type": "code",
   "execution_count": 28,
   "metadata": {},
   "outputs": [
    {
     "data": {
      "image/png": "[encoded data removed]",
      "text/plain": [
       "<Figure size 864x432 with 2 Axes>"
      ]
     },
     "metadata": {},
     "output_type": "display_data"
    }
   ],
   "source": [
    "sb.set_theme(style=\"whitegrid\")\n",
    "fig, (ax1,ax2) = plot.subplots(1,2,figsize=(12,6))\n",
    "sb.boxplot(data=dataframe[\"Car\"],ax=ax1)\n",
    "sb.countplot(x=dataframe[\"Car\"],ax=ax2)\n",
    "\n",
    "plot.show()"
   ]
  },
  {
   "cell_type": "markdown",
   "metadata": {},
   "source": [
    "### 3.3.1 Analisis de la variable Landsize\n",
    "\n",
    "Esta variable contiene el numero de plazas de aparcamiento que tiene asociadas la vivienda Como se puede ver en la tabla 3.3.1 la variable tiene valor en 34857 toma valores discretos en el rango 0 a 26 plazas de aparcamiento. El 75% de pisos tienen entre 0 y 2 plazas de aparcamiento . A continuacion vamos a ver las frecuencias de la variable:"
   ]
  },
  {
   "cell_type": "markdown",
   "metadata": {},
   "source": [
    "### 3.3.1 Analisis de la variable Price\n",
    "ANALIZAR como cambia el tiempo\n",
    "\n",
    "Meter el algun calculo de lat y long."
   ]
  },
  {
   "cell_type": "code",
   "execution_count": null,
   "metadata": {},
   "outputs": [],
   "source": []
  }
 ],
 "metadata": {
  "kernelspec": {
   "display_name": "Python 3",
   "language": "python",
   "name": "python3"
  },
  "language_info": {
   "codemirror_mode": {
    "name": "ipython",
    "version": 3
   },
   "file_extension": ".py",
   "mimetype": "text/x-python",
   "name": "python",
   "nbconvert_exporter": "python",
   "pygments_lexer": "ipython3",
   "version": "3.7.9"
  }
 },
 "nbformat": 4,
 "nbformat_minor": 4
}
